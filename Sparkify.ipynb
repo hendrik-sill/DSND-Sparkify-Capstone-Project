{
 "cells": [
  {
   "cell_type": "markdown",
   "metadata": {},
   "source": [
    "# Sparkify Project Workspace\n",
    "This workspace contains a tiny subset (128MB) of the full dataset available (12GB). Feel free to use this workspace to build your project, or to explore a smaller subset with Spark before deploying your cluster on the cloud. Instructions for setting up your Spark cluster is included in the last lesson of the Extracurricular Spark Course content.\n",
    "\n",
    "You can follow the steps below to guide your data analysis and model building portion of this project."
   ]
  },
  {
   "cell_type": "code",
   "execution_count": 185,
   "metadata": {},
   "outputs": [],
   "source": [
    "# import libraries\n",
    "import pyspark\n",
    "from pyspark import SparkConf\n",
    "from pyspark.sql import SparkSession, Window\n",
    "from pyspark.sql.functions import isnan, when, count, col, isnull, udf, last, first, struct, lit\n",
    "from pyspark.sql.functions import sum as Fsum\n",
    "from pyspark.sql.types import IntegerType, DoubleType\n",
    "import matplotlib.pyplot as plt\n",
    "from matplotlib.ticker import PercentFormatter\n",
    "import seaborn as sns\n",
    "from datetime import datetime\n",
    "import pandas as pd\n",
    "import numpy as np\n",
    "%matplotlib inline"
   ]
  },
  {
   "cell_type": "code",
   "execution_count": 186,
   "metadata": {},
   "outputs": [],
   "source": [
    "# create a Spark session\n",
    "spark = SparkSession \\\n",
    "    .builder \\\n",
    "    .appName(\"Sparkify\") \\\n",
    "    .getOrCreate()\n",
    "# Reduce number of partitions to only 5 to easily deal with small dataset\n",
    "# as suggested at https://stackoverflow.com/questions/55721767/spark-streaming-job-is-running-very-slow\n",
    "spark.conf.set(\"spark.sql.shuffle.partitions\", 5)"
   ]
  },
  {
   "cell_type": "markdown",
   "metadata": {},
   "source": [
    "# Load and Clean Dataset\n",
    "In this workspace, the mini-dataset file is `mini_sparkify_event_data.json`. Load and clean the dataset, checking for invalid or missing data - for example, records without userids or sessionids. "
   ]
  },
  {
   "cell_type": "code",
   "execution_count": 187,
   "metadata": {},
   "outputs": [],
   "source": [
    "# Define path to the mini data set used for initial steps and load this data\n",
    "path = \"mini_sparkify_event_data.json\"\n",
    "user_log = spark.read.json(path)"
   ]
  },
  {
   "cell_type": "code",
   "execution_count": 188,
   "metadata": {},
   "outputs": [
    {
     "name": "stdout",
     "output_type": "stream",
     "text": [
      "root\n",
      " |-- artist: string (nullable = true)\n",
      " |-- auth: string (nullable = true)\n",
      " |-- firstName: string (nullable = true)\n",
      " |-- gender: string (nullable = true)\n",
      " |-- itemInSession: long (nullable = true)\n",
      " |-- lastName: string (nullable = true)\n",
      " |-- length: double (nullable = true)\n",
      " |-- level: string (nullable = true)\n",
      " |-- location: string (nullable = true)\n",
      " |-- method: string (nullable = true)\n",
      " |-- page: string (nullable = true)\n",
      " |-- registration: long (nullable = true)\n",
      " |-- sessionId: long (nullable = true)\n",
      " |-- song: string (nullable = true)\n",
      " |-- status: long (nullable = true)\n",
      " |-- ts: long (nullable = true)\n",
      " |-- userAgent: string (nullable = true)\n",
      " |-- userId: string (nullable = true)\n",
      "\n"
     ]
    }
   ],
   "source": [
    "# Display data schema to get an idea of what the data looks like\n",
    "user_log.printSchema()"
   ]
  },
  {
   "cell_type": "markdown",
   "metadata": {},
   "source": [
    "Looking at the schema we can observe that there is a total of 18 columns of which 12 are strings. Even out of those variables that are not strings only length really seems to be a classical numerical variable. One could perhaps also include the timestamp (\"ts\"), but as a data it should be dealt with differently than a quantitative variable. As for the other variables that are not integers, they really just represent some sort of ID and can therefore not be interpreted as numbers.\n",
    "\n",
    "So, overall it seems as though we are dealing with mainly categorical variables.This will have certain implications later on once we deal with feature engineering. \n",
    "\n",
    "Let us also briefly note that there are some columns such as a user's first name where it is almost immediately obvious that they will most likely not help us with predicting user churn rates. We may thus be able to drop some columns later on."
   ]
  },
  {
   "cell_type": "code",
   "execution_count": 189,
   "metadata": {},
   "outputs": [
    {
     "data": {
      "text/plain": [
       "Row(artist='Martha Tilston', auth='Logged In', firstName='Colin', gender='M', itemInSession=50, lastName='Freeman', length=277.89016, level='paid', location='Bakersfield, CA', method='PUT', page='NextSong', registration=1538173362000, sessionId=29, song='Rockpools', status=200, ts=1538352117000, userAgent='Mozilla/5.0 (Windows NT 6.1; WOW64; rv:31.0) Gecko/20100101 Firefox/31.0', userId='30')"
      ]
     },
     "execution_count": 189,
     "metadata": {},
     "output_type": "execute_result"
    }
   ],
   "source": [
    "user_log.head()"
   ]
  },
  {
   "cell_type": "markdown",
   "metadata": {},
   "source": [
    "## Looking for and Dealing with NANs\n",
    "As a first step, let us have a look at how much data is actually missing and think about which columns are so critical that a missing value should lead to the exclusion of an observation.\n",
    "The \"userId\" and the \"ts\" (timestamp) column may perhaps be the two most critical columns since these two columns ensure the integrity of an entry. Similarly, the 'sessionId' column should not have a missing value either."
   ]
  },
  {
   "cell_type": "code",
   "execution_count": 190,
   "metadata": {},
   "outputs": [
    {
     "name": "stdout",
     "output_type": "stream",
     "text": [
      "+------+----+---------+------+-------------+--------+------+-----+--------+------+----+------------+---------+----+------+---+---------+------+\n",
      "|artist|auth|firstName|gender|itemInSession|lastName|length|level|location|method|page|registration|sessionId|song|status| ts|userAgent|userId|\n",
      "+------+----+---------+------+-------------+--------+------+-----+--------+------+----+------------+---------+----+------+---+---------+------+\n",
      "|     0|   0|        0|     0|            0|       0|     0|    0|       0|     0|   0|           0|        0|   0|     0|  0|        0|     0|\n",
      "+------+----+---------+------+-------------+--------+------+-----+--------+------+----+------------+---------+----+------+---+---------+------+\n",
      "\n",
      "+------+----+---------+------+-------------+--------+------+-----+--------+------+----+------------+---------+-----+------+---+---------+------+\n",
      "|artist|auth|firstName|gender|itemInSession|lastName|length|level|location|method|page|registration|sessionId| song|status| ts|userAgent|userId|\n",
      "+------+----+---------+------+-------------+--------+------+-----+--------+------+----+------------+---------+-----+------+---+---------+------+\n",
      "| 58392|   0|     8346|  8346|            0|    8346| 58392|    0|    8346|     0|   0|        8346|        0|58392|     0|  0|     8346|     0|\n",
      "+------+----+---------+------+-------------+--------+------+-----+--------+------+----+------------+---------+-----+------+---+---------+------+\n",
      "\n",
      "+------+----+---------+------+-------------+--------+------+-----+--------+------+----+------------+---------+----+------+---+---------+------+\n",
      "|artist|auth|firstName|gender|itemInSession|lastName|length|level|location|method|page|registration|sessionId|song|status| ts|userAgent|userId|\n",
      "+------+----+---------+------+-------------+--------+------+-----+--------+------+----+------------+---------+----+------+---+---------+------+\n",
      "|     0|   0|        0|     0|            0|       0|     0|    0|       0|     0|   0|           0|        0|   0|     0|  0|        0|  8346|\n",
      "+------+----+---------+------+-------------+--------+------+-----+--------+------+----+------------+---------+----+------+---+---------+------+\n",
      "\n"
     ]
    }
   ],
   "source": [
    "# Used both isnan and isnull PySpark SQL functions as suggested at \n",
    "# https://stackoverflow.com/questions/44627386/how-to-find-count-of-null-and-nan-values-for-each-column-in-a-pyspark-dataframe\n",
    "user_log.select([count(when(isnan(c), c)).alias(c) for c in user_log.columns]).show()\n",
    "user_log.select([count(when(isnull(c), c)).alias(c) for c in user_log.columns]).show()\n",
    "# Also look for cases with empty strings\n",
    "user_log.select([count(when(col(c)=='', c)).alias(c) for c in user_log.columns]).show()"
   ]
  },
  {
   "cell_type": "code",
   "execution_count": 191,
   "metadata": {},
   "outputs": [
    {
     "name": "stdout",
     "output_type": "stream",
     "text": [
      "+------------+\n",
      "|registration|\n",
      "+------------+\n",
      "|        null|\n",
      "+------------+\n",
      "\n",
      "+------+\n",
      "|userId|\n",
      "+------+\n",
      "|      |\n",
      "+------+\n",
      "\n",
      "+-------------------------+\n",
      "|page                     |\n",
      "+-------------------------+\n",
      "|Downgrade                |\n",
      "|Thumbs Down              |\n",
      "|Login                    |\n",
      "|About                    |\n",
      "|Cancel                   |\n",
      "|Add to Playlist          |\n",
      "|Thumbs Up                |\n",
      "|Home                     |\n",
      "|Error                    |\n",
      "|Save Settings            |\n",
      "|Submit Downgrade         |\n",
      "|Cancellation Confirmation|\n",
      "|Register                 |\n",
      "|Submit Registration      |\n",
      "|Logout                   |\n",
      "|Add Friend               |\n",
      "|Settings                 |\n",
      "|Roll Advert              |\n",
      "|Help                     |\n",
      "|Upgrade                  |\n",
      "|Submit Upgrade           |\n",
      "+-------------------------+\n",
      "\n"
     ]
    }
   ],
   "source": [
    "# Have a closer look at the missing values\n",
    "# For cases where we have no first name we would expect users not to be registered and hence to have no user ID\n",
    "user_log.filter(isnull(user_log.firstName)).select('registration').dropDuplicates().show()\n",
    "user_log.filter(isnull(user_log.firstName)).select('userId').dropDuplicates().show()\n",
    "# For cases where there is no information on the artist or the song check if people were doing other things\n",
    "# than listening to a song\n",
    "user_log.filter(isnull(user_log.artist)).select('page').dropDuplicates().show(30, False)"
   ]
  },
  {
   "cell_type": "markdown",
   "metadata": {},
   "source": [
    "It turns out that there are two cases of missing values:\n",
    "* 8346 rows of unregistered users (the \"userId\" column is empty and there is no personal user information,\n",
    "i.e. first/ last name and gender available)\n",
    "* 58,392 rows where users are not listening to a song and there is hence no song related information\n",
    "\n",
    "As for the former, it seems reasonable to simply drop these rows since we only care about the churn of existing users. On the other side, missing song data is by no means a dealbreaker since in all cases where people are not listening to a song, we would not expect to get any song related information anyway."
   ]
  },
  {
   "cell_type": "code",
   "execution_count": 192,
   "metadata": {},
   "outputs": [],
   "source": [
    "# Drop rows with unregistered users\n",
    "user_log = user_log.where(user_log.userId != '')"
   ]
  },
  {
   "cell_type": "markdown",
   "metadata": {},
   "source": [
    "## Number of Observations and Distribution of Number of Interactions"
   ]
  },
  {
   "cell_type": "code",
   "execution_count": 10,
   "metadata": {},
   "outputs": [
    {
     "name": "stdout",
     "output_type": "stream",
     "text": [
      "Number of observations: 278154\n",
      "Number of columns:18\n",
      "Number of unique users: 225\n",
      "Average number of interactions per user 1236.24\n"
     ]
    }
   ],
   "source": [
    "# Explore dimensions after dropping NANs\n",
    "num_obs = user_log.count()\n",
    "num_cols = len(user_log.columns)\n",
    "print('Number of observations: {}'.format(num_obs))\n",
    "print('Number of columns:{}'.format(num_cols))\n",
    "# Have a look at the number of unique user IDs and the average number of interactions per user ID\n",
    "num_users = user_log.select('userId').dropDuplicates().count()\n",
    "print('Number of unique users: {}'.format(num_users))\n",
    "print('Average number of interactions per user {}'.format(num_obs/num_users))"
   ]
  },
  {
   "cell_type": "markdown",
   "metadata": {},
   "source": [
    "It turns out that what initially seemed like a rather larger data set is not that large because there were on average about 1236 interactions per user. Hence, the 278,154 interactions represent really just data of 225 unique users.  \n",
    "\n",
    "Ultimately we want to use the log data to predict churn rates of individual users. Hence, we will ultimately need to aggregate the user log data at the user ID level to be able predict churn rates when we turn towards feature engineering and prediction. In this sense, we should probably think of the number of unique users as being more representative of our sample size.\n",
    "\n",
    "Even so, it is also true that the more interactions we have recorded for each user the better we should be able to predict whether they will churn or not.\n",
    "\n",
    "Next, let us have a brief look at how the number of interactions is distributed across the 225 unique users. "
   ]
  },
  {
   "cell_type": "code",
   "execution_count": 11,
   "metadata": {},
   "outputs": [
    {
     "name": "stdout",
     "output_type": "stream",
     "text": [
      "Median number of interactions per user: 848.0\n",
      "Standard deviation of interactions per user: 1329.531716432519\n",
      "Minimum number of interactions for a single user: 6\n",
      "Maximum number of interactions for a single user: 9632\n"
     ]
    },
    {
     "data": {
      "image/png": "[encoded data removed]",
      "text/plain": [
       "<Figure size 432x288 with 1 Axes>"
      ]
     },
     "metadata": {
      "needs_background": "light"
     },
     "output_type": "display_data"
    }
   ],
   "source": [
    "# Create a pandas dataframe with the distribution of the number of interactions and plot it\n",
    "interactions_df = user_log.groupBy('userId').count().toPandas()\n",
    "interactions_df.plot.hist()\n",
    "print('Median number of interactions per user: {}'.format(interactions_df['count'].median()))\n",
    "print('Standard deviation of interactions per user: {}'.format(interactions_df['count'].std()))\n",
    "print('Minimum number of interactions for a single user: {}'.format(interactions_df['count'].min()))\n",
    "print('Maximum number of interactions for a single user: {}'.format(interactions_df['count'].max()))"
   ]
  },
  {
   "cell_type": "markdown",
   "metadata": {},
   "source": [
    "We can see that there is quite a lot of variability with respect to the number of interactions per user. This was probably to be expected. There will usually be some users who won't use  a service too much while others may actually be power users. As long as we have some interactions and as long as this difference in usage intensity is later on somehow reflected in our features, we will probably be fine.\n",
    "\n",
    "Let us also have a brief look at gender and page to get a better overview of the collected data."
   ]
  },
  {
   "cell_type": "markdown",
   "metadata": {},
   "source": [
    "## Distribution of Gender and Page Accesses (Use of Different Functions of Service)"
   ]
  },
  {
   "cell_type": "code",
   "execution_count": 12,
   "metadata": {},
   "outputs": [
    {
     "data": {
      "image/png": "[encoded data removed]",
      "text/plain": [
       "<Figure size 432x288 with 1 Axes>"
      ]
     },
     "metadata": {
      "needs_background": "light"
     },
     "output_type": "display_data"
    },
    {
     "data": {
      "image/png": "[encoded data removed]",
      "text/plain": [
       "<Figure size 432x288 with 1 Axes>"
      ]
     },
     "metadata": {
      "needs_background": "light"
     },
     "output_type": "display_data"
    },
    {
     "data": {
      "text/plain": [
       "<matplotlib.axes._subplots.AxesSubplot at 0x22e13de8550>"
      ]
     },
     "execution_count": 12,
     "metadata": {},
     "output_type": "execute_result"
    },
    {
     "data": {
      "image/png": "[encoded data removed]",
      "text/plain": [
       "<Figure size 432x288 with 1 Axes>"
      ]
     },
     "metadata": {
      "needs_background": "light"
     },
     "output_type": "display_data"
    }
   ],
   "source": [
    "# Look at gender distribution in overall data, i.e. interactions\n",
    "# I am using relative shares here for an easier comparison with the second case\n",
    "# where gender distribution by user is plotted\n",
    "gender_interaction_df = user_log.groupBy('gender').count().toPandas()\n",
    "gender_interaction_df['count'] = gender_interaction_df['count']/num_obs\n",
    "gender_interaction_df.plot.bar(x = 'gender')\n",
    "plt.show()\n",
    "# Look at gender distribution by user, i.e. how many users identified as male, female or did not provide an answer?\n",
    "gender_user_df = user_log.groupBy('userId', 'gender').count().toPandas()\n",
    "gender_user_df = gender_user_df['gender'].value_counts(normalize = True, dropna = False)\n",
    "gender_user_df.plot.bar(x=gender_user_df.index)\n",
    "plt.show()\n",
    "# Have a look at how many interactions could be attributed to the different kinds of pages\n",
    "# visited by users\n",
    "page_df = user_log.groupBy('page').count().toPandas()\n",
    "page_df.sort_values(by = 'count', ascending = False).plot.bar(x = 'page')"
   ]
  },
  {
   "cell_type": "markdown",
   "metadata": {},
   "source": [
    "## Observations for Gender\n",
    "Looking at the distribution of genders, we can see that while the share of women in overall interactions with Sparkify were larger (53.95%) while their share in users (46.02%) was actually smaller than that of men. This suggests that gender may be an interesting feature to consider later on. With that said, there does not seem be a huge imbalance in gender in the data regardless of which level we look at.\n",
    "\n",
    "## Observations for Page\n",
    "By far the most common interaction was \"NextSong\", i.e. users choosing a song to listen to. Given that Sparkify is a music streaming service this was probably to be expected, but it is still interesting to see how other activities like accessing the homepage of the service, giving a thumbs up for a song, adding songs to a playlist or adding friends happen much less frequently than playing back a song. "
   ]
  },
  {
   "cell_type": "markdown",
   "metadata": {},
   "source": [
    "## Distribution of Dates"
   ]
  },
  {
   "cell_type": "markdown",
   "metadata": {},
   "source": [
    "Finally, before defining churn and looking at how users who have churned differ from those who have not, let us have a brief look at the distribution of dates in the data. To simplify things, I decided to simply look at year and month."
   ]
  },
  {
   "cell_type": "code",
   "execution_count": 13,
   "metadata": {},
   "outputs": [],
   "source": [
    "# Convert timestamps to year-month and save this in a new column \n",
    "ts_to_year_month = udf(lambda x: datetime.fromtimestamp(x/1000).strftime('%Y-%m'))\n",
    "user_log = user_log.withColumn('year_month',ts_to_year_month(user_log.ts))"
   ]
  },
  {
   "cell_type": "code",
   "execution_count": 14,
   "metadata": {},
   "outputs": [
    {
     "data": {
      "image/png": "[encoded data removed]",
      "text/plain": [
       "<Figure size 432x288 with 1 Axes>"
      ]
     },
     "metadata": {
      "needs_background": "light"
     },
     "output_type": "display_data"
    }
   ],
   "source": [
    "# Obtain pandas dataframe containing counts of year-month combinations and plot the result\n",
    "year_month_df = user_log.groupBy('year_month').count().toPandas()\n",
    "year_month_df.plot.bar(x = 'year_month')\n",
    "plt.show()"
   ]
  },
  {
   "cell_type": "markdown",
   "metadata": {},
   "source": [
    "It turns out that the Sparkify log data consists essentially of data collected in October 2018 and November 2018 in almost equal proportions (144,707 and 133,288 rows, respectively). There are also about 159 observations for December 2018.\n",
    "\n",
    "In general, the more data we have the better, but overall user behaviour and preferences may change over time. Hence, if we were to use data collected over e.g. 5 years we would probably need to somehow account for these changes. In addition to this, changes in the service itself such as a new UI or changes in the content available may also cause data not to be comparable anymore. In fact, such changes could be the very reason for users to churn.\n",
    "\n",
    "On the other hand, if the time period covered by our data is too short, this may also have a detrimental effect on the predictive power of our model. With this small dataset covering mostly only two months' worth of data, it could very well be possible that a lot of users only become tired of the service after three months or perhaps half a year.\n",
    "\n",
    "Ultimately, while the data for this project was provided, in real life it could probably be rather important to think about how long the time period covered by the data should be."
   ]
  },
  {
   "cell_type": "markdown",
   "metadata": {},
   "source": [
    "# Exploratory Data Analysis\n",
    "When you're working with the full dataset, perform EDA by loading a small subset of the data and doing basic manipulations within Spark. In this workspace, you are already provided a small subset of data you can explore.\n",
    "\n",
    "### Define Churn\n",
    "\n",
    "Once you've done some preliminary analysis, create a column `Churn` to use as the label for your model. I suggest using the `Cancellation Confirmation` events to define your churn, which happen for both paid and free users. As a bonus task, you can also look into the `Downgrade` events.\n",
    "\n",
    "### Explore Data\n",
    "Once you've defined churn, perform some exploratory data analysis to observe the behavior for users who stayed vs users who churned. You can start by exploring aggregates on these two groups of users, observing how much of a specific action they experienced per a certain time unit or number of songs played."
   ]
  },
  {
   "cell_type": "markdown",
   "metadata": {},
   "source": [
    "# Defining Churn"
   ]
  },
  {
   "cell_type": "markdown",
   "metadata": {},
   "source": [
    "Before we can move on to comparing users who churned and those who did not, we first need to think about what we would define as churning. A narrow definition would probably only include people who have deleted their account which is captured in our data as cases where the page feature takes on the value \"Cancellation Confirmation\", i.e. cases where people delete their account. This can happen for both users using the free or the paid version of the streaming service.\n",
    "\n",
    "If we take on a broader view, we could also think of users switching from the paid to the free service as some sort of churning. Both leaving the service It turns out that identifying these users is a bit more complicated. While a user can only cancel their registration once, it is very much possible for a customer to downgrade from the paid to the free service and to then upgrade to the paid service again or to even repeat this cycle. Ultimately, it seems most reasonable to only include people who have downgraded their account at least once in the observed time period in our data and whose level for the observation with the most recent time stamp was \"free\".\n",
    "\n",
    "The question then is whether these two kinds of churning should be regarded as identical or whether we should really think of this as a multiclass-classification problem instead of a binary classification problem. Ideally, we should conduct a survey with users who canceled their registration and those who only switched from the paid to the free version of the service to gain some insights as to whether they are similar or quite different. This is obviously unfortunately not possible for this project. I would argue that, if anything, there is a qualitative difference between someone who actually deletes their account and someone who chooses to just downgrade their account from paid to free. At the same time, it is also true that in both cases there must have been some sort of dissatisfaction. Given the small number of both kinds of churning and to simplify the problem, I decided not to differentiate between these two cases.\n",
    "\n",
    "Finally, strictly speaking defining churn by just accounting for these two cases will quite likely underestimate actual churn rates. There may be users who perhaps never used the paid service and who stopped using the service, but never bothered to cancel their registration. Given that the data we have here only covers about two months, it is probably not reasonable to try to cover this problem, but it is certainly a point worth keeping in mind."
   ]
  },
  {
   "cell_type": "code",
   "execution_count": 193,
   "metadata": {},
   "outputs": [],
   "source": [
    "# Identify users who canceled their registration\n",
    "flag_cancel = udf(lambda x: 1 if x == 'Cancellation Confirmation' else 0, IntegerType())\n",
    "user_log = user_log.withColumn('cancel_page',flag_cancel('page'))\n",
    "windowval = Window.partitionBy('userId')\n",
    "user_log = user_log.withColumn('canceled',Fsum('cancel_page').over(windowval))"
   ]
  },
  {
   "cell_type": "code",
   "execution_count": 194,
   "metadata": {},
   "outputs": [
    {
     "name": "stdout",
     "output_type": "stream",
     "text": [
      "+--------+\n",
      "|canceled|\n",
      "+--------+\n",
      "|       0|\n",
      "|       1|\n",
      "+--------+\n",
      "\n"
     ]
    }
   ],
   "source": [
    "# Check if values of canceled column are as expected, i.e. either 0 or 1\n",
    "user_log.select('canceled').dropDuplicates().show()"
   ]
  },
  {
   "cell_type": "code",
   "execution_count": 195,
   "metadata": {},
   "outputs": [
    {
     "data": {
      "text/plain": [
       "52"
      ]
     },
     "execution_count": 195,
     "metadata": {},
     "output_type": "execute_result"
    }
   ],
   "source": [
    "# Display number of unique user IDs who canceled their registration\n",
    "user_log.filter(user_log.canceled == 1).select('userId').dropDuplicates().count()"
   ]
  },
  {
   "cell_type": "code",
   "execution_count": 196,
   "metadata": {},
   "outputs": [],
   "source": [
    "# Create column with number of downgrades for each user ID\n",
    "flag_downgrade = udf(lambda x: 1 if x == 'Submit Downgrade' else 0, IntegerType())\n",
    "user_log = user_log.withColumn('downgrade_page', flag_downgrade('page'))\n",
    "user_log = user_log.withColumn('num_downgrades',Fsum('downgrade_page').over(windowval))"
   ]
  },
  {
   "cell_type": "code",
   "execution_count": 197,
   "metadata": {},
   "outputs": [],
   "source": [
    "# Create a column to keep track of a user's level, i.e. whether they are using the paid or free service, at the last recorded\n",
    "# timestamp for that user using approach found at \n",
    "# https://stackoverflow.com/questions/50468056/get-the-last-value-using-spark-window-function\n",
    "window_level = Window.partitionBy(\"userId\").orderBy(\"ts\").rowsBetween(Window.unboundedPreceding, Window.unboundedFollowing)\n",
    "user_log = user_log.withColumn('final_level',last('level').over(window_level))\n",
    "# Using this information identify those users who downgraded and actually stayed at the free tier\n",
    "# making use of approach described at https://stackoverflow.com/questions/42540169/pyspark-pass-multiple-columns-in-udf\n",
    "flag_downgrade_churn = udf(lambda x: 1 if (x[0] > 0)&(x[1] == 'free') else 0, IntegerType())\n",
    "user_log = user_log.withColumn('downgraded_churn', flag_downgrade_churn(struct('num_downgrades','final_level')))\n",
    "# Finally, create a column indicating whether a user churned (either by canceling their registration or by downgrading and\n",
    "# remaining at the free tier level)\n",
    "# TO DO: Briefly define a function here to map canceled to 1, downgraded to 2 and stayed to 0! \n",
    "flag_churned = udf(lambda x: 1 if (x[0] == 1)|(x[1] == 1) else 0, IntegerType())\n",
    "user_log = user_log.withColumn('churned',flag_churned(struct('canceled','downgraded_churn')))"
   ]
  },
  {
   "cell_type": "code",
   "execution_count": 198,
   "metadata": {},
   "outputs": [
    {
     "data": {
      "text/plain": [
       "Row(artist='Sea Wolf', auth='Logged In', firstName='Brycen', gender='M', itemInSession=0, lastName='Bradley', length=265.53424, level='paid', location='Laurel, MS', method='PUT', page='NextSong', registration=1538159495000, sessionId=9, song='Ses Monuments', status=200, ts=1538965220000, userAgent='\"Mozilla/5.0 (Macintosh; Intel Mac OS X 10_9_4) AppleWebKit/537.36 (KHTML, like Gecko) Chrome/36.0.1985.143 Safari/537.36\"', userId='10', cancel_page=0, canceled=0, downgrade_page=0, num_downgrades=0, final_level='paid', downgraded_churn=0, churned=0)"
      ]
     },
     "execution_count": 198,
     "metadata": {},
     "output_type": "execute_result"
    }
   ],
   "source": [
    "# Have a short look at the first observation to run the steps from above (lazy evaluation) and to also check\n",
    "# that the new columns were created as expected\n",
    "user_log.head()"
   ]
  },
  {
   "cell_type": "markdown",
   "metadata": {},
   "source": [
    "## Exploring Data: Comparing Users Who Churned and Those Who Did Not\n",
    "\n",
    "Now that we have defined churn and identified those users who churned, we should have a look at some features and how their distribution differs across the two groups of users: those who churned and those who did not.\n",
    "\n",
    "In order to avoid potential issues and to also avoid repetition by having to apply all subsequent operations to two dataframes let us not create two different Pyspark dataframes, but rather perform the filtering later on when creating Pandas dataframes for our visualisations. "
   ]
  },
  {
   "cell_type": "code",
   "execution_count": 199,
   "metadata": {},
   "outputs": [
    {
     "name": "stdout",
     "output_type": "stream",
     "text": [
      "Number of users who have churned 67\n",
      "Number of users who have not churned 158\n"
     ]
    }
   ],
   "source": [
    "# Drop columns we may not need anymore\n",
    "user_log = user_log.drop(*['final_level','cancel_page','downgrade_page', 'num_downgrades'])\n",
    "# Have a look at how many users have churned and how many have not\n",
    "print('Number of users who have churned {}'.\\\n",
    "      format(user_log.filter(user_log.churned == 1).select('userId').dropDuplicates().count()))\n",
    "print('Number of users who have not churned {}'.\\\n",
    "      format(user_log.filter(user_log.churned == 0).select('userId').dropDuplicates().count()))"
   ]
  },
  {
   "cell_type": "markdown",
   "metadata": {},
   "source": [
    "### Comparing the Two Groups\n",
    "Now that we have created two separate dataframes, let us think about some measures we might be interested in. It seems reasonable to assume that users who churned used the service differently than those who did not. It may thus make sense to define some aggregate measures and compare their distributions across the two groups of users.\n",
    "\n",
    "If we want to figure out how active the different kinds of users were, we need to think about what we would consider an appropriate time period to use as our yardstick. One possible approach would be to consider how much a user did during a single session. Alternatively, we could simply look at the entire time period for which we have data for a particular user and then look at e.g. how many songs they listened to (e.g. on average per hour or day) or how many times they decided to give a thumbs up (again relative to some time unit such as an hour or a day). It turns out that this is not an ideal approach either because a user who e.g. listened to a lot of songs on just a single day would appear to have been very active. Instead, it seems more appropriate to simply count how many times users performed a certain action during a certain period of time. I decided to look at how many times users performed a certain action during the first two weeks recorded in the data available\n",
    "\n",
    "In summary, I decided to look at the following aggregated metrics:\n",
    "+ how many songs users listened to during the first two weeks in the data available for them\n",
    "+ how many times users gave a thumbs up during the first two weeks in the data available for them\n",
    "+ how many times users added something to a playlist during the first two weeks in the data available for them\n",
    "+ how many times users added a friend during the first two weeks in the data available for them\n",
    "\n",
    "### Short Overview of Approach Taken for Calculating Aggregate Measures\n",
    "In order to obtain the first two weeks during which a user was active according to our data, we need to look at first and subtract it from the timestamp recorded for a particular action. We can then calculate the number of seconds between the two timestamps and use this to derive a dummy variable indicating whether an observation occured within the first two weeks for which we have observations for the respective user. We can then count the instances where a user performed a certain action such as listening to during the first two weeks for which data is available for them.  \n",
    "\n",
    "It should also be briefly mentioned that due to different song lengths, the number of songs is not necessarily a perfect measure, but overall it should be close enough."
   ]
  },
  {
   "cell_type": "code",
   "execution_count": 201,
   "metadata": {},
   "outputs": [
    {
     "data": {
      "text/plain": [
       "Row(artist='Sea Wolf', auth='Logged In', firstName='Brycen', gender='M', itemInSession=0, lastName='Bradley', length=265.53424, level='paid', location='Laurel, MS', method='PUT', page='NextSong', registration=1538159495000, sessionId=9, song='Ses Monuments', status=200, ts=1538965220000, userAgent='\"Mozilla/5.0 (Macintosh; Intel Mac OS X 10_9_4) AppleWebKit/537.36 (KHTML, like Gecko) Chrome/36.0.1985.143 Safari/537.36\"', userId='10', canceled=0, downgraded_churn=0, churned=0, first_ts=1538965220000, ts_diff_weeks=0.0)"
      ]
     },
     "execution_count": 201,
     "metadata": {},
     "output_type": "execute_result"
    }
   ],
   "source": [
    "# Take similar approach as above to obtain first value of timestamp for each user ID, can hence use\n",
    "# window_level window defined above\n",
    "user_log = user_log.withColumn('first_ts',first('ts').over(window_level))\n",
    "# Use the difference between the first timestamp and the current one to calculate how much time has passed\n",
    "def ts_diff_func(ts_struct):\n",
    "    '''\n",
    "    Calculates difference between timestamps contained in two columns contained in a PySpark dataframe\n",
    "    INPUT:\n",
    "        ts_struct - PySpark struct containing the two columns used for calculating the timestamp difference\n",
    "    OUTPUT:\n",
    "        ts_diff_week_fract - difference between the two time stamps in fractions of a week\n",
    "    '''\n",
    "    # Calculate fraction of weeks based on calculation of total seconds of timedelta as explained at \n",
    "    # https://stackoverflow.com/questions/5522031/convert-timedelta-to-total-seconds\n",
    "    ts_diff_week_fract = (datetime.fromtimestamp(ts_struct[1]/1000) - datetime.fromtimestamp(ts_struct[0]/1000)).\\\n",
    "                         total_seconds()/(24*7*3600)\n",
    "    return ts_diff_week_fract\n",
    "# Turn into UDF\n",
    "ts_diff_udf = udf(ts_diff_func, DoubleType())\n",
    "user_log = user_log.withColumn('ts_diff_weeks',ts_diff_udf(struct('first_ts','ts')))\n",
    "user_log.head()"
   ]
  },
  {
   "cell_type": "markdown",
   "metadata": {},
   "source": [
    "Now that we have verified that we have indeed created a column containing the difference in fractions of weeks between the first and the current timestamp for each observation of a user, we can calculate how many times each user has performed a certain activity in their first two weeks."
   ]
  },
  {
   "cell_type": "code",
   "execution_count": 202,
   "metadata": {},
   "outputs": [
    {
     "data": {
      "text/plain": [
       "Row(artist='Sea Wolf', auth='Logged In', firstName='Brycen', gender='M', itemInSession=0, lastName='Bradley', length=265.53424, level='paid', location='Laurel, MS', method='PUT', page='NextSong', registration=1538159495000, sessionId=9, song='Ses Monuments', status=200, ts=1538965220000, userAgent='\"Mozilla/5.0 (Macintosh; Intel Mac OS X 10_9_4) AppleWebKit/537.36 (KHTML, like Gecko) Chrome/36.0.1985.143 Safari/537.36\"', userId='10', canceled=0, downgraded_churn=0, churned=0, first_ts=1538965220000, ts_diff_weeks=0.0, song_flag=1, thumbs_up_flag=0, add_playlist_flag=0, add_friend_flag=0, song_num=522, thumbs_up_num=33, add_playlist_num=8, add_friend_num=10)"
      ]
     },
     "execution_count": 202,
     "metadata": {},
     "output_type": "execute_result"
    }
   ],
   "source": [
    "# Create a new column indicating that a timestamp was in the first two weeks of a user's activities and also\n",
    "# one of the most common different activities\n",
    "# Using the same approach as above, add flags for different activities and sum up values\n",
    "# Also adding parameter to udf as described at \n",
    "# https://stackoverflow.com/questions/47260999/how-to-pass-the-parameter-to-user-defined-function\n",
    "flag_activity = udf(lambda columns, activity: 1 if (columns[0] == activity) & (columns[1] <= 4.0) else 0, IntegerType())\n",
    "\n",
    "# Create list containing names of new  flag columns to be created\n",
    "flag_cols = ['song', 'thumbs_up', 'add_playlist', 'add_friend']\n",
    "activities_list = ['NextSong','Thumbs Up', 'Add to Playlist','Add Friend']\n",
    "\n",
    "# Create the respective flag columns and calculate sums\n",
    "# Again using approach as found at \n",
    "# https://stackoverflow.com/questions/47260999/how-to-pass-the-parameter-to-user-defined-function\n",
    "# to pass in parameter to udf by defining a column containing a constant value -> lit(activity)\n",
    "for activity,col_name in zip(activities_list, flag_cols):\n",
    "    user_log = user_log.withColumn(col_name+'_flag', flag_activity(struct('page','ts_diff_weeks'), lit(activity)))\n",
    "\n",
    "for col in flag_cols:    \n",
    "    user_log = user_log.withColumn(col+'_num', Fsum(col+'_flag').over(windowval))\n",
    "\n",
    "user_log.head()"
   ]
  },
  {
   "cell_type": "markdown",
   "metadata": {},
   "source": [
    "As the next step let us move the data for these new metrics to pandas dataframes and visualise so we can find out how they differ across the two kinds of users."
   ]
  },
  {
   "cell_type": "code",
   "execution_count": 203,
   "metadata": {},
   "outputs": [],
   "source": [
    "# create a pandas dataframe for each user group containing the measures we are interested in\n",
    "avg_churned_df = user_log.filter((user_log.churned == 1)).\\\n",
    "                 select('userId','song_num','thumbs_up_num','add_playlist_num','add_friend_num','gender','downgraded_churn').\\\n",
    "                 dropDuplicates().toPandas()\n",
    "avg_churned_nodg = avg_churned_df[avg_churned_df['downgraded_churn'] == 0]\n",
    "avg_not_churned_df = user_log.filter(user_log.churned == 0).\\\n",
    "                     select('userId','song_num','thumbs_up_num','add_playlist_num','add_friend_num','gender','downgraded_churn').\\\n",
    "                     dropDuplicates().toPandas()\n"
   ]
  },
  {
   "cell_type": "code",
   "execution_count": 204,
   "metadata": {},
   "outputs": [
    {
     "name": "stdout",
     "output_type": "stream",
     "text": [
      "median for song_num for churned users : 413.0\n",
      "median for song_num for churned users wo downgrades : 377.0\n",
      "median for song_num for users who have not churned: 299.5\n",
      "median for thumbs_up_num for churned users : 19.0\n",
      "median for thumbs_up_num for churned users wo downgrades : 13.0\n",
      "median for thumbs_up_num for users who have not churned: 18.0\n",
      "median for add_playlist_num for churned users : 12.0\n",
      "median for add_playlist_num for churned users wo downgrades : 11.0\n",
      "median for add_playlist_num for users who have not churned: 8.0\n",
      "median for add_friend_num for churned users : 7.0\n",
      "median for add_friend_num for churned users wo downgrades : 9.0\n",
      "median for add_friend_num for users who have not churned: 6.5\n"
     ]
    }
   ],
   "source": [
    "for col in ['song_num','thumbs_up_num','add_playlist_num','add_friend_num']:\n",
    "    print('median for '+str(col)+' for churned users : '+str(avg_churned_df[col].median()))\n",
    "    print('median for '+str(col)+' for churned users wo downgrades : '+str(avg_churned_nodg[col].median()))\n",
    "    print('median for '+str(col)+ ' for users who have not churned: '+ str(avg_not_churned_df[col].median()))"
   ]
  },
  {
   "cell_type": "code",
   "execution_count": 205,
   "metadata": {},
   "outputs": [
    {
     "name": "stdout",
     "output_type": "stream",
     "text": [
      "mean for song_num for churned users : 569.8656716417911\n",
      "mean for song_num for churned users wo downgrades : 547.0\n",
      "mean for song_num for users who have not churned: 510.56962025316454\n",
      "mean for thumbs_up_num for churned users : 27.940298507462686\n",
      "mean for thumbs_up_num for churned users wo downgrades : 26.95744680851064\n",
      "mean for thumbs_up_num for users who have not churned: 30.120253164556964\n",
      "mean for add_playlist_num for churned users : 16.83582089552239\n",
      "mean for add_playlist_num for churned users wo downgrades : 15.914893617021276\n",
      "mean for add_playlist_num for users who have not churned: 14.689873417721518\n",
      "mean for add_friend_num for churned users : 10.64179104477612\n",
      "mean for add_friend_num for churned users wo downgrades : 10.595744680851064\n",
      "mean for add_friend_num for users who have not churned: 9.189873417721518\n"
     ]
    }
   ],
   "source": [
    "for col in ['song_num','thumbs_up_num','add_playlist_num','add_friend_num']:\n",
    "    print('mean for '+str(col)+' for churned users : '+str(avg_churned_df[col].mean()))\n",
    "    print('mean for '+str(col)+' for churned users wo downgrades : '+str(avg_churned_nodg[col].mean()))\n",
    "    print('mean for '+str(col)+ ' for users who have not churned: '+ str(avg_not_churned_df[col].mean()))"
   ]
  },
  {
   "cell_type": "code",
   "execution_count": 216,
   "metadata": {},
   "outputs": [
    {
     "data": {
      "image/png": "[encoded data removed]",
      "text/plain": [
       "<Figure size 1440x1584 with 8 Axes>"
      ]
     },
     "metadata": {},
     "output_type": "display_data"
    }
   ],
   "source": [
    "# create plots to compare the distributions of some activities\n",
    "i = 0\n",
    "base_colour = sns.color_palette()[0]\n",
    "plt.figure(figsize = (20,22))\n",
    "\n",
    "\n",
    "# Use a loop to plot histograms to compare how often users who have churned and those who have not\n",
    "# performed certain actions\n",
    "\n",
    "for col in ['song_num','thumbs_up_num','add_playlist_num','add_friend_num']:\n",
    "    # Plot for first group\n",
    "    plt.subplot(4, 2, i+1)\n",
    "    \n",
    "    # I manually defined these values here to make the plots look nice\n",
    "    if i == 0:\n",
    "        x_label = 'number of songs listened to'\n",
    "        increment = 50\n",
    "        y_max = 0.12\n",
    "        y_inc = 0.02\n",
    "        x_inc = 500\n",
    "    elif i == 2:\n",
    "        x_label = 'number of thumbs up given'\n",
    "        increment = 20\n",
    "        y_max = 0.6\n",
    "        y_inc = 0.1\n",
    "        x_inc = 20\n",
    "    elif i == 4:\n",
    "        x_label = 'number of songs added to playlist'\n",
    "        increment = 10\n",
    "        y_max = 0.6\n",
    "        y_inc = 0.05\n",
    "        x_inc = 10    \n",
    "    elif i == 6:\n",
    "        x_label = 'number of friends added'\n",
    "        increment = 10\n",
    "        y_max = 0.7\n",
    "        y_inc = 0.10\n",
    "        x_inc = 20\n",
    "        \n",
    "    x_max = avg_not_churned_df[col].max() \n",
    "    \n",
    "    # Manually define bin_edges to make histogram look nicer\n",
    "    bin_edges = np.arange(0, avg_churned_nodg[col].max()+increment, increment)\n",
    "    # Create a histogram with y-axis labels displayed as percentages using approach found at \n",
    "    # https://stackoverflow.com/questions/51473993/plot-an-histogram-with-y-axis-as-percentage-using-funcformatter\n",
    "    plt.hist(data = avg_churned_nodg, x = col, bins = bin_edges, color = base_colour, \n",
    "             weights = np.ones(avg_churned_nodg.shape[0])/ avg_churned_nodg.shape[0], )\n",
    "    # Further customisation to make histogram look better\n",
    "    sns.set(style=\"ticks\")\n",
    "    sns.despine(right=True,top=True)\n",
    "    plt.gca().yaxis.set_major_formatter(PercentFormatter(1))\n",
    "    plt.yticks(np.arange(0, y_max+y_inc, y_inc))\n",
    "    plt.xticks(np.arange(0, x_max + x_inc, x_inc))\n",
    "    plt.xlabel(x_label)\n",
    "\n",
    "    # Plot for second group \n",
    "    plt.subplot(4, 2, i+2)\n",
    "    bin_edges = np.arange(0, avg_not_churned_df[col].max()+increment, increment)\n",
    "    plt.hist(data = avg_not_churned_df, x = col, bins = bin_edges, color = base_colour, \n",
    "             weights = np.ones(avg_not_churned_df.shape[0])/ avg_not_churned_df.shape[0])\n",
    "    sns.set(style=\"ticks\")\n",
    "    sns.despine(right=True,top=True)\n",
    "    plt.gca().yaxis.set_major_formatter(PercentFormatter(1))\n",
    "    plt.yticks(np.arange(0, y_max+y_inc, y_inc))\n",
    "    plt.xticks(np.arange(0, x_max + x_inc, x_inc))\n",
    "    plt.xlabel(x_label)\n",
    "    \n",
    "    i+=2"
   ]
  },
  {
   "cell_type": "code",
   "execution_count": 212,
   "metadata": {},
   "outputs": [
    {
     "data": {
      "text/plain": [
       "<matplotlib.axes._subplots.AxesSubplot at 0x22e16a82940>"
      ]
     },
     "execution_count": 212,
     "metadata": {},
     "output_type": "execute_result"
    },
    {
     "data": {
      "image/png": "[encoded data removed]",
      "text/plain": [
       "<Figure size 432x288 with 1 Axes>"
      ]
     },
     "metadata": {},
     "output_type": "display_data"
    }
   ],
   "source": [
    "avg_churned_nodg['gender'].value_counts(normalize = True).plot.bar(x = 'index', y = 'counts')"
   ]
  },
  {
   "cell_type": "code",
   "execution_count": 214,
   "metadata": {},
   "outputs": [
    {
     "data": {
      "text/plain": [
       "<matplotlib.axes._subplots.AxesSubplot at 0x22e16563d68>"
      ]
     },
     "execution_count": 214,
     "metadata": {},
     "output_type": "execute_result"
    },
    {
     "data": {
      "image/png": "[encoded data removed]",
      "text/plain": [
       "<Figure size 432x288 with 1 Axes>"
      ]
     },
     "metadata": {},
     "output_type": "display_data"
    }
   ],
   "source": [
    "avg_not_churned_df['gender'].value_counts(normalize = True).plot.bar(x = 'index', y = 'counts')"
   ]
  },
  {
   "cell_type": "code",
   "execution_count": 65,
   "metadata": {},
   "outputs": [
    {
     "name": "stdout",
     "output_type": "stream",
     "text": [
      "M    0.595745\n",
      "F    0.404255\n",
      "Name: gender, dtype: float64\n",
      "M    0.518987\n",
      "F    0.481013\n",
      "Name: gender, dtype: float64\n"
     ]
    }
   ],
   "source": [
    "print(avg_churned_nodg['gender'].value_counts(normalize = True))\n",
    "print(avg_not_churned_df['gender'].value_counts(normalize = True))"
   ]
  },
  {
   "cell_type": "markdown",
   "metadata": {},
   "source": [
    "Insert comment on findings and talk about how to use these for feature engineering; perhaps also look at a few other features such as gender!"
   ]
  },
  {
   "cell_type": "markdown",
   "metadata": {},
   "source": [
    "Now, some of the columns have names which are perhaps not quite as self-explanatory as ts or sessionID. It may thus make sense to have a short look at the unique values of these variables to get a better understanding of what they really represent."
   ]
  },
  {
   "cell_type": "code",
   "execution_count": null,
   "metadata": {
    "scrolled": false
   },
   "outputs": [],
   "source": [
    "# Have a closer look at distinct values of some not self-explanatory columns\n",
    "for column in ['auth', 'itemInSession','level', 'location', 'method', 'registration','status','userAgent']:\n",
    "    user_log.select(column).distinct().show()\n"
   ]
  },
  {
   "cell_type": "markdown",
   "metadata": {},
   "source": [
    "Before we move on to defining our target variable and then feature engineering for our machine learning model, it may be interesting to have a look at some variables and their distributions.\n",
    "\n",
    "Some obvious choices here are gender, page and userID. If we observe certain imbalances we should at least take note of them and cases such as gender try to deal with them."
   ]
  },
  {
   "cell_type": "markdown",
   "metadata": {},
   "source": [
    "# Exploratory Data Analysis\n",
    "When you're working with the full dataset, perform EDA by loading a small subset of the data and doing basic manipulations within Spark. In this workspace, you are already provided a small subset of data you can explore.\n",
    "\n",
    "### Define Churn\n",
    "\n",
    "Once you've done some preliminary analysis, create a column `Churn` to use as the label for your model. I suggest using the `Cancellation Confirmation` events to define your churn, which happen for both paid and free users. As a bonus task, you can also look into the `Downgrade` events.\n",
    "\n",
    "### Explore Data\n",
    "Once you've defined churn, perform some exploratory data analysis to observe the behavior for users who stayed vs users who churned. You can start by exploring aggregates on these two groups of users, observing how much of a specific action they experienced per a certain time unit or number of songs played."
   ]
  },
  {
   "cell_type": "markdown",
   "metadata": {},
   "source": [
    "# Feature Engineering\n",
    "Once you've familiarized yourself with the data, build out the features you find promising to train your model on. To work with the full dataset, you can follow the following steps.\n",
    "- Write a script to extract the necessary features from the smaller subset of data\n",
    "- Ensure that your script is scalable, using the best practices discussed in Lesson 3\n",
    "- Try your script on the full data set, debugging your script if necessary\n",
    "\n",
    "If you are working in the classroom workspace, you can just extract features based on the small subset of data contained here. Be sure to transfer over this work to the larger dataset when you work on your Spark cluster."
   ]
  },
  {
   "cell_type": "code",
   "execution_count": null,
   "metadata": {},
   "outputs": [],
   "source": []
  },
  {
   "cell_type": "markdown",
   "metadata": {},
   "source": [
    "# Modeling\n",
    "Split the full dataset into train, test, and validation sets. Test out several of the machine learning methods you learned. Evaluate the accuracy of the various models, tuning parameters as necessary. Determine your winning model based on test accuracy and report results on the validation set. Since the churned users are a fairly small subset, I suggest using F1 score as the metric to optimize."
   ]
  },
  {
   "cell_type": "code",
   "execution_count": null,
   "metadata": {},
   "outputs": [],
   "source": []
  },
  {
   "cell_type": "markdown",
   "metadata": {},
   "source": [
    "# Final Steps\n",
    "Clean up your code, adding comments and renaming variables to make the code easier to read and maintain. Refer to the Spark Project Overview page and Data Scientist Capstone Project Rubric to make sure you are including all components of the capstone project and meet all expectations. Remember, this includes thorough documentation in a README file in a Github repository, as well as a web app or blog post."
   ]
  },
  {
   "cell_type": "code",
   "execution_count": null,
   "metadata": {},
   "outputs": [],
   "source": []
  }
 ],
 "metadata": {
  "kernelspec": {
   "display_name": "Python 3",
   "language": "python",
   "name": "python3"
  },
  "language_info": {
   "codemirror_mode": {
    "name": "ipython",
    "version": 3
   },
   "file_extension": ".py",
   "mimetype": "text/x-python",
   "name": "python",
   "nbconvert_exporter": "python",
   "pygments_lexer": "ipython3",
   "version": "3.6.7"
  }
 },
 "nbformat": 4,
 "nbformat_minor": 2
}

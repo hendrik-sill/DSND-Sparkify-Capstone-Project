{
 "cells": [
  {
   "cell_type": "markdown",
   "metadata": {},
   "source": [
    "# Sparkify Project Workspace\n",
    "This workspace contains a tiny subset (128MB) of the full dataset available (12GB). Feel free to use this workspace to build your project, or to explore a smaller subset with Spark before deploying your cluster on the cloud. Instructions for setting up your Spark cluster is included in the last lesson of the Extracurricular Spark Course content.\n",
    "\n",
    "You can follow the steps below to guide your data analysis and model building portion of this project."
   ]
  },
  {
   "cell_type": "code",
   "execution_count": 12,
   "metadata": {},
   "outputs": [],
   "source": [
    "# import libraries\n",
    "import pyspark\n",
    "from pyspark import SparkConf\n",
    "from pyspark.sql import SparkSession, Window\n",
    "from pyspark.sql.functions import isnan, when, count, col, isnull, udf, last, first, struct, lit, approx_count_distinct\n",
    "from pyspark.sql.functions import sum as Fsum\n",
    "from pyspark.sql.functions import when as Fwhen\n",
    "from pyspark.sql.functions import lag as Flag\n",
    "from pyspark.sql.functions import isnull as Fisnull\n",
    "from pyspark.sql.types import IntegerType, DoubleType\n",
    "from pyspark.ml import Pipeline\n",
    "from pyspark.ml.feature import StringIndexer, OneHotEncoderEstimator, StandardScaler, VectorAssembler\n",
    "import matplotlib.pyplot as plt\n",
    "from matplotlib.ticker import PercentFormatter\n",
    "import seaborn as sns\n",
    "from datetime import datetime\n",
    "from datetime import timedelta\n",
    "import pandas as pd\n",
    "import numpy as np\n",
    "%matplotlib inline"
   ]
  },
  {
   "cell_type": "code",
   "execution_count": 13,
   "metadata": {},
   "outputs": [],
   "source": [
    "# create a Spark session\n",
    "spark = SparkSession \\\n",
    "    .builder \\\n",
    "    .appName(\"Sparkify\") \\\n",
    "    .getOrCreate()\n",
    "# Reduce number of partitions to only 5 to easily deal with small dataset\n",
    "# as suggested at https://stackoverflow.com/questions/55721767/spark-streaming-job-is-running-very-slow\n",
    "spark.conf.set(\"spark.sql.shuffle.partitions\", 5)"
   ]
  },
  {
   "cell_type": "markdown",
   "metadata": {},
   "source": [
    "# Load and Clean Dataset\n",
    "In this workspace, the mini-dataset file is `mini_sparkify_event_data.json`. Load and clean the dataset, checking for invalid or missing data - for example, records without userids or sessionids. "
   ]
  },
  {
   "cell_type": "code",
   "execution_count": 14,
   "metadata": {},
   "outputs": [],
   "source": [
    "# Define path to the mini data set used for initial steps and load this data\n",
    "path = \"mini_sparkify_event_data.json\"\n",
    "user_log = spark.read.json(path)"
   ]
  },
  {
   "cell_type": "code",
   "execution_count": 4,
   "metadata": {},
   "outputs": [
    {
     "name": "stdout",
     "output_type": "stream",
     "text": [
      "root\n",
      " |-- artist: string (nullable = true)\n",
      " |-- auth: string (nullable = true)\n",
      " |-- firstName: string (nullable = true)\n",
      " |-- gender: string (nullable = true)\n",
      " |-- itemInSession: long (nullable = true)\n",
      " |-- lastName: string (nullable = true)\n",
      " |-- length: double (nullable = true)\n",
      " |-- level: string (nullable = true)\n",
      " |-- location: string (nullable = true)\n",
      " |-- method: string (nullable = true)\n",
      " |-- page: string (nullable = true)\n",
      " |-- registration: long (nullable = true)\n",
      " |-- sessionId: long (nullable = true)\n",
      " |-- song: string (nullable = true)\n",
      " |-- status: long (nullable = true)\n",
      " |-- ts: long (nullable = true)\n",
      " |-- userAgent: string (nullable = true)\n",
      " |-- userId: string (nullable = true)\n",
      "\n"
     ]
    }
   ],
   "source": [
    "# Display data schema to get an idea of what the data looks like\n",
    "user_log.printSchema()"
   ]
  },
  {
   "cell_type": "markdown",
   "metadata": {},
   "source": [
    "Looking at the schema we can observe that there is a total of 18 columns of which 12 are strings. Even out of those variables that are not strings only length really seems to be a classical numerical variable. One could perhaps also include the timestamp (\"ts\"), but as a data it should be dealt with differently than a quantitative variable. As for the other variables that are not integers, they really just represent some sort of ID and can therefore not be interpreted as numbers.\n",
    "\n",
    "So, overall it seems as though we are dealing with mainly categorical variables.This will have certain implications later on once we deal with feature engineering. \n",
    "\n",
    "Let us also briefly note that there are some columns such as a user's first name where it is almost immediately obvious that they will most likely not help us with predicting user churn rates. We may thus be able to drop some columns later on."
   ]
  },
  {
   "cell_type": "code",
   "execution_count": 301,
   "metadata": {},
   "outputs": [
    {
     "data": {
      "text/plain": [
       "Row(artist='Martha Tilston', auth='Logged In', firstName='Colin', gender='M', itemInSession=50, lastName='Freeman', length=277.89016, level='paid', location='Bakersfield, CA', method='PUT', page='NextSong', registration=1538173362000, sessionId=29, song='Rockpools', status=200, ts=1538352117000, userAgent='Mozilla/5.0 (Windows NT 6.1; WOW64; rv:31.0) Gecko/20100101 Firefox/31.0', userId='30')"
      ]
     },
     "execution_count": 301,
     "metadata": {},
     "output_type": "execute_result"
    }
   ],
   "source": [
    "user_log.head()"
   ]
  },
  {
   "cell_type": "markdown",
   "metadata": {},
   "source": [
    "## Looking for and Dealing with NANs\n",
    "As a first step, let us have a look at how much data is actually missing and think about which columns are so critical that a missing value should lead to the exclusion of an observation.\n",
    "The \"userId\" and the \"ts\" (timestamp) column may perhaps be the two most critical columns since these two columns ensure the integrity of an entry. Similarly, the 'sessionId' column should not have a missing value either."
   ]
  },
  {
   "cell_type": "code",
   "execution_count": 190,
   "metadata": {},
   "outputs": [
    {
     "name": "stdout",
     "output_type": "stream",
     "text": [
      "+------+----+---------+------+-------------+--------+------+-----+--------+------+----+------------+---------+----+------+---+---------+------+\n",
      "|artist|auth|firstName|gender|itemInSession|lastName|length|level|location|method|page|registration|sessionId|song|status| ts|userAgent|userId|\n",
      "+------+----+---------+------+-------------+--------+------+-----+--------+------+----+------------+---------+----+------+---+---------+------+\n",
      "|     0|   0|        0|     0|            0|       0|     0|    0|       0|     0|   0|           0|        0|   0|     0|  0|        0|     0|\n",
      "+------+----+---------+------+-------------+--------+------+-----+--------+------+----+------------+---------+----+------+---+---------+------+\n",
      "\n",
      "+------+----+---------+------+-------------+--------+------+-----+--------+------+----+------------+---------+-----+------+---+---------+------+\n",
      "|artist|auth|firstName|gender|itemInSession|lastName|length|level|location|method|page|registration|sessionId| song|status| ts|userAgent|userId|\n",
      "+------+----+---------+------+-------------+--------+------+-----+--------+------+----+------------+---------+-----+------+---+---------+------+\n",
      "| 58392|   0|     8346|  8346|            0|    8346| 58392|    0|    8346|     0|   0|        8346|        0|58392|     0|  0|     8346|     0|\n",
      "+------+----+---------+------+-------------+--------+------+-----+--------+------+----+------------+---------+-----+------+---+---------+------+\n",
      "\n",
      "+------+----+---------+------+-------------+--------+------+-----+--------+------+----+------------+---------+----+------+---+---------+------+\n",
      "|artist|auth|firstName|gender|itemInSession|lastName|length|level|location|method|page|registration|sessionId|song|status| ts|userAgent|userId|\n",
      "+------+----+---------+------+-------------+--------+------+-----+--------+------+----+------------+---------+----+------+---+---------+------+\n",
      "|     0|   0|        0|     0|            0|       0|     0|    0|       0|     0|   0|           0|        0|   0|     0|  0|        0|  8346|\n",
      "+------+----+---------+------+-------------+--------+------+-----+--------+------+----+------------+---------+----+------+---+---------+------+\n",
      "\n"
     ]
    }
   ],
   "source": [
    "# Used both isnan and isnull PySpark SQL functions as suggested at \n",
    "# https://stackoverflow.com/questions/44627386/how-to-find-count-of-null-and-nan-values-for-each-column-in-a-pyspark-dataframe\n",
    "user_log.select([count(when(isnan(c), c)).alias(c) for c in user_log.columns]).show()\n",
    "user_log.select([count(when(isnull(c), c)).alias(c) for c in user_log.columns]).show()\n",
    "# Also look for cases with empty strings\n",
    "user_log.select([count(when(col(c)=='', c)).alias(c) for c in user_log.columns]).show()"
   ]
  },
  {
   "cell_type": "code",
   "execution_count": 220,
   "metadata": {},
   "outputs": [
    {
     "name": "stdout",
     "output_type": "stream",
     "text": [
      "+------------+\n",
      "|registration|\n",
      "+------------+\n",
      "|        null|\n",
      "+------------+\n",
      "\n",
      "+------+\n",
      "|userId|\n",
      "+------+\n",
      "|      |\n",
      "+------+\n",
      "\n",
      "+-------------------------+\n",
      "|page                     |\n",
      "+-------------------------+\n",
      "|Downgrade                |\n",
      "|Thumbs Down              |\n",
      "|Login                    |\n",
      "|About                    |\n",
      "|Cancel                   |\n",
      "|Add to Playlist          |\n",
      "|Thumbs Up                |\n",
      "|Home                     |\n",
      "|Error                    |\n",
      "|Save Settings            |\n",
      "|Submit Downgrade         |\n",
      "|Cancellation Confirmation|\n",
      "|Register                 |\n",
      "|Submit Registration      |\n",
      "|Logout                   |\n",
      "|Add Friend               |\n",
      "|Settings                 |\n",
      "|Roll Advert              |\n",
      "|Help                     |\n",
      "|Upgrade                  |\n",
      "|Submit Upgrade           |\n",
      "+-------------------------+\n",
      "\n"
     ]
    }
   ],
   "source": [
    "# Have a closer look at the missing values\n",
    "# For cases where we have no first name we would expect users not to be registered and hence to have no user ID\n",
    "user_log.filter(isnull(user_log.firstName)).select('registration').dropDuplicates().show()\n",
    "user_log.filter(isnull(user_log.firstName)).select('userId').dropDuplicates().show()\n",
    "# For cases where there is no information on the artist or the song check if people were doing other things\n",
    "# than listening to a song\n",
    "user_log.filter(isnull(user_log.artist)).select('page').dropDuplicates().show(30, False)"
   ]
  },
  {
   "cell_type": "markdown",
   "metadata": {},
   "source": [
    "It turns out that there are two cases of missing values:\n",
    "* 8346 rows of unregistered users (the \"userId\" column is empty and there is no personal user information,\n",
    "i.e. first/ last name and gender available)\n",
    "* 58,392 rows where users are not listening to a song and there is hence no song related information\n",
    "\n",
    "As for the former, it seems reasonable to simply drop these rows since we only care about the churn of existing users. On the other side, missing song data is by no means a dealbreaker since in all cases where people are not listening to a song, we would not expect to get any song related information anyway."
   ]
  },
  {
   "cell_type": "code",
   "execution_count": 15,
   "metadata": {},
   "outputs": [],
   "source": [
    "# Drop rows with unregistered users\n",
    "user_log = user_log.where(user_log.userId != '')"
   ]
  },
  {
   "cell_type": "markdown",
   "metadata": {},
   "source": [
    "## Number of Observations and Distribution of Number of Interactions"
   ]
  },
  {
   "cell_type": "code",
   "execution_count": 92,
   "metadata": {},
   "outputs": [
    {
     "name": "stdout",
     "output_type": "stream",
     "text": [
      "Number of observations: 278154\n",
      "Number of columns:59\n",
      "Number of unique users: 225\n",
      "Average number of interactions per user 1236.24\n"
     ]
    }
   ],
   "source": [
    "# Explore dimensions after dropping NANs\n",
    "num_obs = user_log.count()\n",
    "num_cols = len(user_log.columns)\n",
    "print('Number of observations: {}'.format(num_obs))\n",
    "print('Number of columns:{}'.format(num_cols))\n",
    "# Have a look at the number of unique user IDs and the average number of interactions per user ID\n",
    "num_users = user_log.select('userId').dropDuplicates().count()\n",
    "print('Number of unique users: {}'.format(num_users))\n",
    "print('Average number of interactions per user {}'.format(num_obs/num_users))"
   ]
  },
  {
   "cell_type": "markdown",
   "metadata": {},
   "source": [
    "It turns out that what initially seemed like a rather larger data set is not that large because there were on average about 1236 interactions per user. Hence, the 278,154 interactions represent really just data of 225 unique users.  \n",
    "\n",
    "Ultimately we want to use the log data to predict churn rates of individual users. Hence, we will ultimately need to aggregate the user log data at the user ID level to be able predict churn rates when we turn towards feature engineering and prediction. In this sense, we should probably think of the number of unique users as being more representative of our sample size.\n",
    "\n",
    "Even so, it is also true that the more interactions we have recorded for each user the better we should be able to predict whether they will churn or not.\n",
    "\n",
    "Next, let us have a brief look at how the number of interactions is distributed across the 225 unique users. "
   ]
  },
  {
   "cell_type": "code",
   "execution_count": 95,
   "metadata": {},
   "outputs": [
    {
     "data": {
      "text/plain": [
       "52"
      ]
     },
     "execution_count": 95,
     "metadata": {},
     "output_type": "execute_result"
    }
   ],
   "source": [
    "user_log.filter(user_log.page == 'Cancellation Confirmation').count()"
   ]
  },
  {
   "cell_type": "code",
   "execution_count": 96,
   "metadata": {},
   "outputs": [
    {
     "name": "stdout",
     "output_type": "stream",
     "text": [
      "Median number of interactions per user: 848.0\n",
      "Standard deviation of interactions per user: 1329.531716432519\n",
      "Minimum number of interactions for a single user: 6\n",
      "Maximum number of interactions for a single user: 9632\n"
     ]
    },
    {
     "data": {
      "image/png": "[encoded data removed]",
      "text/plain": [
       "<Figure size 432x288 with 1 Axes>"
      ]
     },
     "metadata": {},
     "output_type": "display_data"
    }
   ],
   "source": [
    "# Create a pandas dataframe with the distribution of the number of interactions and plot it\n",
    "interactions_df = user_log.groupBy('userId').count().toPandas()\n",
    "interactions_df.plot.hist()\n",
    "plt.xlabel('Number of Interactions')\n",
    "sns.set(style=\"ticks\")\n",
    "sns.despine(right=True,top=True)\n",
    "print('Median number of interactions per user: {}'.format(interactions_df['count'].median()))\n",
    "print('Standard deviation of interactions per user: {}'.format(interactions_df['count'].std()))\n",
    "print('Minimum number of interactions for a single user: {}'.format(interactions_df['count'].min()))\n",
    "print('Maximum number of interactions for a single user: {}'.format(interactions_df['count'].max()))"
   ]
  },
  {
   "cell_type": "markdown",
   "metadata": {},
   "source": [
    "We can see that there is quite a lot of variability with respect to the number of interactions per user. This was probably to be expected. There will usually be some users who won't use  a service too much while others may actually be power users. As long as we have some interactions and as long as this difference in usage intensity is later on somehow reflected in our features, we will probably be fine.\n",
    "\n",
    "Let us also have a brief look at gender and page to get a better overview of the collected data."
   ]
  },
  {
   "cell_type": "markdown",
   "metadata": {},
   "source": [
    "## Distribution of Gender and Page Accesses (Use of Different Functions of Service)"
   ]
  },
  {
   "cell_type": "code",
   "execution_count": 95,
   "metadata": {},
   "outputs": [
    {
     "data": {
      "image/png": "[encoded data removed]",
      "text/plain": [
       "<Figure size 432x288 with 1 Axes>"
      ]
     },
     "metadata": {},
     "output_type": "display_data"
    },
    {
     "data": {
      "image/png": "[encoded data removed]",
      "text/plain": [
       "<Figure size 432x288 with 1 Axes>"
      ]
     },
     "metadata": {},
     "output_type": "display_data"
    },
    {
     "data": {
      "image/png": "[encoded data removed]",
      "text/plain": [
       "<Figure size 432x288 with 1 Axes>"
      ]
     },
     "metadata": {},
     "output_type": "display_data"
    }
   ],
   "source": [
    "# Look at gender distribution in overall data, i.e. interactions\n",
    "# I am using relative shares here for an easier comparison with the second case\n",
    "# where gender distribution by user is plotted\n",
    "gender_interaction_df = user_log.groupBy('gender').count().toPandas()\n",
    "gender_interaction_df['count'] = gender_interaction_df['count']/num_obs\n",
    "gender_interaction_df.plot.bar(x = 'gender', color = sns.color_palette()[0])\n",
    "sns.set(style=\"ticks\")\n",
    "sns.despine(right=True,top=True)\n",
    "plt.xlabel('Gender')\n",
    "plt.show()\n",
    "# Look at gender distribution by user, i.e. how many users identified as male, female or did not provide an answer?\n",
    "gender_user_df = user_log.groupBy('userId', 'gender').count().toPandas()\n",
    "gender_user_df = gender_user_df['gender'].value_counts(normalize = True, dropna = False)\n",
    "gender_user_df.plot.bar(x=gender_user_df.index, color = sns.color_palette()[0])\n",
    "sns.set(style=\"ticks\")\n",
    "sns.despine(right=True,top=True)\n",
    "plt.xlabel('Gender')\n",
    "plt.show()\n",
    "# Have a look at how many interactions could be attributed to the different kinds of pages\n",
    "# visited by users\n",
    "page_df = user_log.groupBy('page').count().toPandas()\n",
    "page_df.sort_values(by = 'count', ascending = False).plot.bar(x = 'page', color = sns.color_palette()[0])\n",
    "sns.set(style=\"ticks\")\n",
    "sns.despine(right=True,top=True)\n",
    "plt.xlabel('Page')\n",
    "plt.show()"
   ]
  },
  {
   "cell_type": "markdown",
   "metadata": {},
   "source": [
    "## Observations for Gender\n",
    "Looking at the distribution of genders, we can see that while the share of women in overall interactions with Sparkify were larger (53.95%) while their share in users (46.02%) was actually smaller than that of men. This suggests that gender may be an interesting feature to consider later on. With that said, there does not seem be a huge imbalance in gender in the data regardless of which level we look at.\n",
    "\n",
    "## Observations for Page\n",
    "By far the most common interaction was \"NextSong\", i.e. users choosing a song to listen to. Given that Sparkify is a music streaming service this was probably to be expected, but it is still interesting to see how other activities like accessing the homepage of the service, giving a thumbs up for a song, adding songs to a playlist or adding friends happen much less frequently than playing back a song. "
   ]
  },
  {
   "cell_type": "markdown",
   "metadata": {},
   "source": [
    "## Distribution of Dates"
   ]
  },
  {
   "cell_type": "markdown",
   "metadata": {},
   "source": [
    "Finally, before defining churn and looking at how users who have churned differ from those who have not, let us have a brief look at the distribution of dates in the data. To simplify things, I decided to simply look at year and month."
   ]
  },
  {
   "cell_type": "code",
   "execution_count": 98,
   "metadata": {},
   "outputs": [],
   "source": [
    "# Convert timestamps to year-month and save this in a new column \n",
    "ts_to_year_month = udf(lambda x: datetime.fromtimestamp(x/1000).strftime('%Y-%m'))\n",
    "user_log = user_log.withColumn('year_month',ts_to_year_month(user_log.ts))"
   ]
  },
  {
   "cell_type": "code",
   "execution_count": 99,
   "metadata": {},
   "outputs": [
    {
     "data": {
      "image/png": "[encoded data removed]",
      "text/plain": [
       "<Figure size 432x288 with 1 Axes>"
      ]
     },
     "metadata": {},
     "output_type": "display_data"
    }
   ],
   "source": [
    "# Obtain pandas dataframe containing counts of year-month combinations and plot the result\n",
    "year_month_df = user_log.groupBy('year_month').count().toPandas()\n",
    "year_month_df.plot.bar(x = 'year_month')\n",
    "sns.set(style=\"ticks\")\n",
    "sns.despine(right=True,top=True)\n",
    "plt.show()"
   ]
  },
  {
   "cell_type": "markdown",
   "metadata": {},
   "source": [
    "It turns out that the Sparkify log data consists essentially of data collected in October 2018 and November 2018 in almost equal proportions (144,707 and 133,288 rows, respectively). There are also about 159 observations for December 2018.\n",
    "\n",
    "In general, the more data we have the better, but overall user behaviour and preferences may change over time. Hence, if we were to use data collected over e.g. 5 years we would probably need to somehow account for these changes. In addition to this, changes in the service itself such as a new UI or changes in the content available may also cause data not to be comparable anymore. In fact, such changes could be the very reason for users to churn.\n",
    "\n",
    "On the other hand, if the time period covered by our data is too short, this may also have a detrimental effect on the predictive power of our model. With this small dataset covering mostly only two months' worth of data, it could very well be possible that a lot of users only become tired of the service after three months or perhaps half a year.\n",
    "\n",
    "Ultimately, while the data for this project was provided, in real life it could probably be rather important to think about how long the time period covered by the data should be."
   ]
  },
  {
   "cell_type": "markdown",
   "metadata": {},
   "source": [
    "# Defining Churn"
   ]
  },
  {
   "cell_type": "markdown",
   "metadata": {},
   "source": [
    "### Strict Definition\n",
    "Before we can move on to comparing users who churned and those who did not, we first need to think about what we would define as churning. A narrow definition would probably only include people who have deleted their account which is captured in our data as cases where the page feature takes on the value \"Cancellation Confirmation\", i.e. cases where people delete their account. This can happen for both users using the free or the paid version of the streaming service.\n",
    "\n",
    "### A Broader View\n",
    "If we take on a broader view, we could also think of users switching from the paid to the free service as doing some sort of churning. Both leaving the service It turns out that identifying these users is a bit more complicated. While a user can only cancel their registration once, it is very much possible for a customer to downgrade from the paid to the free service and to then upgrade to the paid service again or to even repeat this cycle. Ultimately, it seems most reasonable to only include people who have downgraded their account at least once in the observed time period in our data and whose level for the observation with the most recent time stamp was \"free\".\n",
    "\n",
    "### Which View to Take?\n",
    "\n",
    "The question then is whether these two kinds of churning should be regarded as identical or whether we should really think of this as a multiclass-classification problem instead of a binary classification problem. Ideally, we should conduct a survey with users who canceled their registration and those who only switched from the paid to the free version of the service to gain some insights as to whether they are similar or quite different. This is obviously unfortunately not possible for this project. \n",
    "\n",
    "Looking at the available data, it turns out that if we also include users who just downgraded their accounts from paid to free, but still kept using the service many differences between the two groups of users become much less clear cut. Therefore, I decided not to include customers who merely downgraded their accounts. Besides, it seems reasonable to argue that the \"economic damage\" or decrease in revenues caused by users who merely downgraded their account is most likely much lower. It therefore seemed justifiable to me to **only look at users who completely stopped using the service**.\n",
    "\n",
    "Finally, strictly speaking defining churn by just accounting for users who have canceled their account will quite likely underestimate actual churn rates. There may be users who perhaps never used the paid service and who stopped using the service, but never bothered to cancel their registration. Given that the data we have here only covers about two months, it is probably not reasonable to try to cover this problem, but it is certainly a point worth keeping in mind."
   ]
  },
  {
   "cell_type": "code",
   "execution_count": 16,
   "metadata": {},
   "outputs": [],
   "source": [
    "# Identify users who canceled their registration\n",
    "flag_cancel = udf(lambda x: 1 if x == 'Cancellation Confirmation' else 0, IntegerType())\n",
    "user_log = user_log.withColumn('cancel_page',flag_cancel('page'))\n",
    "windowval = Window.partitionBy('userId')\n",
    "user_log = user_log.withColumn('churned',Fsum('cancel_page').over(windowval))"
   ]
  },
  {
   "cell_type": "code",
   "execution_count": 17,
   "metadata": {},
   "outputs": [
    {
     "name": "stdout",
     "output_type": "stream",
     "text": [
      "+-------+\n",
      "|churned|\n",
      "+-------+\n",
      "|      0|\n",
      "|      1|\n",
      "+-------+\n",
      "\n"
     ]
    }
   ],
   "source": [
    "# Check if values of churned column are as expected, i.e. either 0 or 1\n",
    "user_log.select('churned').dropDuplicates().show()"
   ]
  },
  {
   "cell_type": "code",
   "execution_count": 18,
   "metadata": {},
   "outputs": [
    {
     "name": "stdout",
     "output_type": "stream",
     "text": [
      "Number of users who have churned 52\n",
      "Number of users who have not churned 173\n"
     ]
    }
   ],
   "source": [
    "# Have a look at how many users have churned and how many have not\n",
    "print('Number of users who have churned {}'.\\\n",
    "      format(user_log.filter(user_log.churned == 1).select('userId').dropDuplicates().count()))\n",
    "print('Number of users who have not churned {}'.\\\n",
    "      format(user_log.filter(user_log.churned == 0).select('userId').dropDuplicates().count()))"
   ]
  },
  {
   "cell_type": "markdown",
   "metadata": {},
   "source": [
    "## Exploring Data: Comparing Users Who Churned and Those Who Did Not\n",
    "\n",
    "Now that we have defined churn and identified those users who churned, we should have a look at some features and how their distribution differs across the two groups of users: those who have churned and those who have not.\n",
    "\n",
    "In order to avoid potential issues and to also avoid repetition by having to apply all subsequent operations to two dataframes let us not create two different Pyspark dataframes, but rather perform the filtering later on when creating Pandas dataframes for our visualisations. This also means that we should create the required columns first before transferring the data to Pandas dataframes."
   ]
  },
  {
   "cell_type": "markdown",
   "metadata": {},
   "source": [
    "### Defining Features for Comparison\n",
    "Now that we have created two separate dataframes, let us think about some measures we might be interested in. It seems reasonable to assume that users who churned used the service differently than those who did not. It may thus make sense to define some aggregate measures and compare their distributions across the two groups of users.\n",
    "\n",
    "One at least to me intuitive approach would be to e.g. look at how much users of both groups did during a certain time period such as the latest two weeks for which data is available on them. It turns out that if you do this and look at how many times they did certain actions during that period of time, medians and means slightly differ, but overall distributions are very similar.\n",
    "\n",
    "Instead, we could simply look at how much they did overall without restricting the period of time we are considering. We can then also have a look at things like how long their user sessions were on average to get a better understanding of their behaviour. \n",
    "\n",
    "I decided to look at the following aggregated metrics:\n",
    "+ the **total number of sessions** of each user \n",
    "+ the **average length of a user's sessions**\n",
    "+ the **total number of unique artists** a user has listened to\n",
    "+ the **average number of songs listened to during a session**\n",
    "+ the **average number of songs added to a playlist**\n",
    "+ the **average number of friends added during a session**\n",
    "+ the **average number of thumbs ups during a session**\n",
    "+ users' **gender**\n",
    "+ users' **state**\n",
    "+ the difference between a user's date of registration and their last recorded activity as an indicator of how long they have\n",
    "  used the service (**total usage length**)\n",
    "\n",
    "In the following cells these measures are calculated and where necessary some additional explanations were added."
   ]
  },
  {
   "cell_type": "markdown",
   "metadata": {},
   "source": [
    "### Total Number of Sessions for Each User\n",
    "\n",
    "As the first step, let us obtain the total number of sessions for each user. It turns out that we cannot use the approx_count_distinct PySpark SQL function here.\n",
    "\n",
    "Instead we can take the following approach:\n",
    "+ Using a window function obtain the previous sessionId for each user's previous row\n",
    "+ Create a column indicating whether the session ID changed (we need to have it also display a 1 for the very first row)\n",
    "+ Take the sum of \"new_session\" column to obtain the total number of sessions"
   ]
  },
  {
   "cell_type": "code",
   "execution_count": 19,
   "metadata": {},
   "outputs": [
    {
     "data": {
      "text/plain": [
       "Row(artist='Sea Wolf', auth='Logged In', firstName='Brycen', gender='M', itemInSession=0, lastName='Bradley', length=265.53424, level='paid', location='Laurel, MS', method='PUT', page='NextSong', registration=1538159495000, sessionId=9, song='Ses Monuments', status=200, ts=1538965220000, userAgent='\"Mozilla/5.0 (Macintosh; Intel Mac OS X 10_9_4) AppleWebKit/537.36 (KHTML, like Gecko) Chrome/36.0.1985.143 Safari/537.36\"', userId='10', cancel_page=0, churned=0, sessionId_prev=None, new_session=1, sessions_num=6)"
      ]
     },
     "execution_count": 19,
     "metadata": {},
     "output_type": "execute_result"
    }
   ],
   "source": [
    "# Create new column sessionId_prev using approach described at \n",
    "# https://www.arundhaj.com/blog/calculate-difference-with-previous-row-in-pyspark.html\n",
    "prev_val_window = Window.partitionBy('userId').orderBy('ts')\n",
    "user_log = user_log.withColumn('sessionId_prev',Flag(user_log.sessionId).over(prev_val_window))\n",
    "user_log.head()\n",
    "\n",
    "# create column 'new_session' (0 or 1)\n",
    "new_session = udf(lambda session_ids: 1 if (session_ids[0] != session_ids[1]) & (session_ids[0] is not None) else 0, \n",
    "                  IntegerType())\n",
    "# Create column indicating whether the session ID is new and also set it to 1 for the first session ID for\n",
    "# each user which is the only case where the previous session ID column will have a value of null\n",
    "user_log = user_log.withColumn('new_session',Fwhen(Fisnull(user_log.sessionId_prev), 1).\\\n",
    "                                                      otherwise(new_session(struct('sessionId_prev','sessionId'))))\n",
    "\n",
    "user_log.head()\n",
    "\n",
    "# Obtain total number of sessions for each user\n",
    "user_log = user_log.withColumn('sessions_num', Fsum('new_session').over(windowval))\n",
    "user_log.head()"
   ]
  },
  {
   "cell_type": "markdown",
   "metadata": {},
   "source": [
    "### Average Session Length\n",
    "\n",
    "We can now calculate the average lenght of a user's sessions by summing up the differences between the timestamps recorded during a session and dividing them by the number of total sessions. Note that we need to ignore the difference between the last timestamp of one session and the first timestamp of the next session in order not to count users' inactivity as activity. "
   ]
  },
  {
   "cell_type": "code",
   "execution_count": 20,
   "metadata": {},
   "outputs": [
    {
     "data": {
      "text/plain": [
       "Row(artist='Sea Wolf', auth='Logged In', firstName='Brycen', gender='M', itemInSession=0, lastName='Bradley', length=265.53424, level='paid', location='Laurel, MS', method='PUT', page='NextSong', registration=1538159495000, sessionId=9, song='Ses Monuments', status=200, ts=1538965220000, userAgent='\"Mozilla/5.0 (Macintosh; Intel Mac OS X 10_9_4) AppleWebKit/537.36 (KHTML, like Gecko) Chrome/36.0.1985.143 Safari/537.36\"', userId='10', cancel_page=0, churned=0, sessionId_prev=None, new_session=1, sessions_num=6, ts_prev=None, ts_delta=0.0, total_time_sessions=2758.483333333335, avg_session_lgth=459.7472222222225)"
      ]
     },
     "execution_count": 20,
     "metadata": {},
     "output_type": "execute_result"
    }
   ],
   "source": [
    "# Create Column containing timestamp from previous row\n",
    "user_log = user_log.withColumn('ts_prev',Flag(user_log.ts).over(prev_val_window))\n",
    "user_log.head()\n",
    "\n",
    "# Calculate time elapsed since previous row in minutes using UDF only within sessions and not between them, i.e. only\n",
    "# when the session ID is not different from the previous row\n",
    "timedelta_udf = udf(lambda x: ((datetime.fromtimestamp(x[1]/1000) - datetime.fromtimestamp(x[0]/1000)).\\\n",
    "                    total_seconds()/60) if (x[0] is not None)&(x[2] != 1) else 0, DoubleType())\n",
    "user_log = user_log.withColumn('ts_delta',Fwhen(Fisnull(user_log.ts_prev), 0).\\\n",
    "                               otherwise(timedelta_udf(struct('ts_prev','ts','new_session'))))\n",
    "\n",
    "# Sum up total length of all sessions for each user\n",
    "user_log = user_log.withColumn('total_time_sessions',Fsum('ts_delta').over(windowval))\n",
    "user_log.head()\n",
    "\n",
    "# Calculate average length of sessions\n",
    "avg_time = udf(lambda x: x[0] / x[1], DoubleType())\n",
    "user_log = user_log.withColumn('avg_session_lgth', avg_time(struct('total_time_sessions','sessions_num')))\n",
    "user_log.head()"
   ]
  },
  {
   "cell_type": "markdown",
   "metadata": {},
   "source": [
    "### Calculate Average Numbers of Activity Per Session\n",
    "As we have just calculated the number of sessions above, we can now use this information to calculate how many times on average users performed certain activities during a single session."
   ]
  },
  {
   "cell_type": "code",
   "execution_count": 21,
   "metadata": {},
   "outputs": [
    {
     "data": {
      "text/plain": [
       "Row(artist='Sea Wolf', auth='Logged In', firstName='Brycen', gender='M', itemInSession=0, lastName='Bradley', length=265.53424, level='paid', location='Laurel, MS', method='PUT', page='NextSong', registration=1538159495000, sessionId=9, song='Ses Monuments', status=200, ts=1538965220000, userAgent='\"Mozilla/5.0 (Macintosh; Intel Mac OS X 10_9_4) AppleWebKit/537.36 (KHTML, like Gecko) Chrome/36.0.1985.143 Safari/537.36\"', userId='10', cancel_page=0, churned=0, sessionId_prev=None, new_session=1, sessions_num=6, ts_prev=None, ts_delta=0.0, total_time_sessions=2758.483333333335, avg_session_lgth=459.7472222222225, song_flag=1, home_flag=0, thumbs_up_flag=0, thumbs_down_flag=0, add_playlist_flag=0, add_friend_flag=0, settings_flag=0, help_flag=0, error_flag=0, song_num=673, home_num=30, thumbs_up_num=37, thumbs_down_num=4, add_playlist_num=9, add_friend_num=12, settings_num=7, help_num=1, error_num=0, song_avg_session=112.16666666666667, home_avg_session=5.0, thumbs_up_avg_session=6.166666666666667, thumbs_down_avg_session=0.6666666666666666, add_playlist_avg_session=1.5, add_friend_avg_session=2.0, settings_avg_session=1.1666666666666667, help_avg_session=0.16666666666666666, error_avg_session=0.0)"
      ]
     },
     "execution_count": 21,
     "metadata": {},
     "output_type": "execute_result"
    }
   ],
   "source": [
    "# Define a UDF to subsequently create a new column indicating that a user performed an activity\n",
    "flag_activity = udf(lambda column, activity: 1 if (column == activity) else 0, IntegerType())\n",
    "\n",
    "# Create list containing names of new  flag columns to be created\n",
    "flag_cols = ['song', 'home', 'thumbs_up', 'thumbs_down', 'add_playlist', 'add_friend', 'settings', 'help', 'error']\n",
    "activities_list = ['NextSong','Home', 'Thumbs Up', 'Thumbs Down', 'Add to Playlist','Add Friend', 'Settings', 'Help', 'Error']\n",
    "\n",
    "# Create the respective flag columns and calculate sums\n",
    "# Again using approach as found at \n",
    "# https://stackoverflow.com/questions/47260999/how-to-pass-the-parameter-to-user-defined-function\n",
    "# to pass in parameter to udf by defining a column containing a constant value -> lit(activity)\n",
    "for activity,col_name in zip(activities_list, flag_cols):\n",
    "    user_log = user_log.withColumn(col_name+'_flag', flag_activity('page', lit(activity)))\n",
    "\n",
    "for col in flag_cols:    \n",
    "    user_log = user_log.withColumn(col+'_num', Fsum(col+'_flag').over(windowval))\n",
    "\n",
    "avg_per_session = udf(lambda numbers: numbers[0] / numbers[1], DoubleType())\n",
    "    \n",
    "for col in flag_cols:\n",
    "    user_log = user_log.withColumn(col+'_avg_session', avg_per_session(struct(col+'_num', 'sessions_num')))\n",
    "\n",
    "user_log.head()"
   ]
  },
  {
   "cell_type": "markdown",
   "metadata": {},
   "source": [
    "### Calculating Total Usage Length\n",
    "We can also have a look at for how long each user has been using the service since we have a column \"registration\" indicating the registration date of a user (again as a timestamp) and timestamps for each activity. One possible approach then is to look for the timestamp recorded for the last activity of a user and subtract from it the registration date."
   ]
  },
  {
   "cell_type": "code",
   "execution_count": 22,
   "metadata": {},
   "outputs": [
    {
     "data": {
      "text/plain": [
       "Row(artist='Sea Wolf', auth='Logged In', firstName='Brycen', gender='M', itemInSession=0, lastName='Bradley', length=265.53424, level='paid', location='Laurel, MS', method='PUT', page='NextSong', registration=1538159495000, sessionId=9, song='Ses Monuments', status=200, ts=1538965220000, userAgent='\"Mozilla/5.0 (Macintosh; Intel Mac OS X 10_9_4) AppleWebKit/537.36 (KHTML, like Gecko) Chrome/36.0.1985.143 Safari/537.36\"', userId='10', cancel_page=0, churned=0, sessionId_prev=None, new_session=1, sessions_num=6, ts_prev=None, ts_delta=0.0, total_time_sessions=2758.483333333335, avg_session_lgth=459.7472222222225, song_flag=1, home_flag=0, thumbs_up_flag=0, thumbs_down_flag=0, add_playlist_flag=0, add_friend_flag=0, settings_flag=0, help_flag=0, error_flag=0, song_num=673, home_num=30, thumbs_up_num=37, thumbs_down_num=4, add_playlist_num=9, add_friend_num=12, settings_num=7, help_num=1, error_num=0, song_avg_session=112.16666666666667, home_avg_session=5.0, thumbs_up_avg_session=6.166666666666667, thumbs_down_avg_session=0.6666666666666666, add_playlist_avg_session=1.5, add_friend_avg_session=2.0, settings_avg_session=1.1666666666666667, help_avg_session=0.16666666666666666, error_avg_session=0.0, last_ts=1542631788000, usage_length=51.720983796296295)"
      ]
     },
     "execution_count": 22,
     "metadata": {},
     "output_type": "execute_result"
    }
   ],
   "source": [
    "# Take similar approach as above to obtain last value of timestamp for each user ID using approach found at \n",
    "# https://stackoverflow.com/questions/50468056/get-the-last-value-using-spark-window-function\n",
    "window_level = Window.partitionBy(\"userId\").orderBy(\"ts\").rowsBetween(Window.unboundedPreceding, Window.unboundedFollowing)\n",
    "user_log = user_log.withColumn('last_ts',last('ts').over(window_level))\n",
    "\n",
    "# Define a UDF to calculate the difference in fractions of days between registration date and last date for which activity\n",
    "# was observed\n",
    "ts_diff_days = (lambda ts_struct: (datetime.fromtimestamp(ts_struct[1]/1000) - datetime.fromtimestamp(ts_struct[0]/1000)).\\\n",
    "                         total_seconds()/(24*3600))\n",
    "ts_diff_udf = udf(ts_diff_days, DoubleType())\n",
    "\n",
    "user_log = user_log.withColumn('usage_length',ts_diff_udf(struct('registration','last_ts')))\n",
    "user_log.head()"
   ]
  },
  {
   "cell_type": "markdown",
   "metadata": {},
   "source": [
    "### Calculating Unique Number of Artists\n",
    "In this case we can make use of the approx_count_distinct function to obtain the number of unique artists a user listened to."
   ]
  },
  {
   "cell_type": "code",
   "execution_count": 23,
   "metadata": {},
   "outputs": [
    {
     "data": {
      "text/plain": [
       "Row(artist='Sea Wolf', auth='Logged In', firstName='Brycen', gender='M', itemInSession=0, lastName='Bradley', length=265.53424, level='paid', location='Laurel, MS', method='PUT', page='NextSong', registration=1538159495000, sessionId=9, song='Ses Monuments', status=200, ts=1538965220000, userAgent='\"Mozilla/5.0 (Macintosh; Intel Mac OS X 10_9_4) AppleWebKit/537.36 (KHTML, like Gecko) Chrome/36.0.1985.143 Safari/537.36\"', userId='10', cancel_page=0, churned=0, sessionId_prev=None, new_session=1, sessions_num=6, ts_prev=None, ts_delta=0.0, total_time_sessions=2758.483333333335, avg_session_lgth=459.7472222222225, song_flag=1, home_flag=0, thumbs_up_flag=0, thumbs_down_flag=0, add_playlist_flag=0, add_friend_flag=0, settings_flag=0, help_flag=0, error_flag=0, song_num=673, home_num=30, thumbs_up_num=37, thumbs_down_num=4, add_playlist_num=9, add_friend_num=12, settings_num=7, help_num=1, error_num=0, song_avg_session=112.16666666666667, home_avg_session=5.0, thumbs_up_avg_session=6.166666666666667, thumbs_down_avg_session=0.6666666666666666, add_playlist_avg_session=1.5, add_friend_avg_session=2.0, settings_avg_session=1.1666666666666667, help_avg_session=0.16666666666666666, error_avg_session=0.0, last_ts=1542631788000, usage_length=51.720983796296295, dist_num_artists=599)"
      ]
     },
     "execution_count": 23,
     "metadata": {},
     "output_type": "execute_result"
    }
   ],
   "source": [
    "# Add column containing unique number of artists a user listened to using approx_count_distinct as explained at\n",
    "# https://stackoverflow.com/questions/45869186/pyspark-count-distinct-over-a-window\n",
    "user_log = user_log.withColumn('dist_num_artists', approx_count_distinct('artist').over(windowval))\n",
    "user_log.head()"
   ]
  },
  {
   "cell_type": "markdown",
   "metadata": {},
   "source": [
    "### User Location\n",
    "Depending on the location, users' preferences or their economic situation may differ. Hence, the location could also be an interesting feature to investigate. Since this is a categorical variable, we will ultimately, should we indeed use this feature, by using e.g. one-hot encoding need about as many columns as there are different locations. As it was included in this data, the location column contains both a user's city and the state they live in. To simlify this problem, let us just have a look at the state. We can do so by creating a new column containing just the two last characters of the location column."
   ]
  },
  {
   "cell_type": "code",
   "execution_count": 24,
   "metadata": {},
   "outputs": [
    {
     "name": "stdout",
     "output_type": "stream",
     "text": [
      "Row(artist='Sea Wolf', auth='Logged In', firstName='Brycen', gender='M', itemInSession=0, lastName='Bradley', length=265.53424, level='paid', location='Laurel, MS', method='PUT', page='NextSong', registration=1538159495000, sessionId=9, song='Ses Monuments', status=200, ts=1538965220000, userAgent='\"Mozilla/5.0 (Macintosh; Intel Mac OS X 10_9_4) AppleWebKit/537.36 (KHTML, like Gecko) Chrome/36.0.1985.143 Safari/537.36\"', userId='10', cancel_page=0, churned=0, sessionId_prev=None, new_session=1, sessions_num=6, ts_prev=None, ts_delta=0.0, total_time_sessions=2758.483333333335, avg_session_lgth=459.7472222222225, song_flag=1, home_flag=0, thumbs_up_flag=0, thumbs_down_flag=0, add_playlist_flag=0, add_friend_flag=0, settings_flag=0, help_flag=0, error_flag=0, song_num=673, home_num=30, thumbs_up_num=37, thumbs_down_num=4, add_playlist_num=9, add_friend_num=12, settings_num=7, help_num=1, error_num=0, song_avg_session=112.16666666666667, home_avg_session=5.0, thumbs_up_avg_session=6.166666666666667, thumbs_down_avg_session=0.6666666666666666, add_playlist_avg_session=1.5, add_friend_avg_session=2.0, settings_avg_session=1.1666666666666667, help_avg_session=0.16666666666666666, error_avg_session=0.0, last_ts=1542631788000, usage_length=51.720983796296295, dist_num_artists=599, state='MS', num_states=1)\n",
      "+----------+\n",
      "|num_states|\n",
      "+----------+\n",
      "|         1|\n",
      "+----------+\n",
      "\n"
     ]
    }
   ],
   "source": [
    "# Create a column containing the state a user resides in\n",
    "extract_state = udf(lambda location: location[-2:])\n",
    "user_log = user_log.withColumn('state', extract_state('location'))\n",
    "user_log = user_log.withColumn('num_states', approx_count_distinct('state').over(windowval))\n",
    "print(user_log.head())\n",
    "# Check if the number of unique values of the states is indeed just 1 for each user\n",
    "user_log.select('num_states').dropDuplicates().show()"
   ]
  },
  {
   "cell_type": "markdown",
   "metadata": {},
   "source": [
    "## Comparing Features Across the Two Groups\n",
    "\n",
    "Now that we have defined some features, let us compare their distributions across the two user groups. In order to do so, we will need to move the aggregated features to pandas dataframes. \n",
    "\n",
    "Given that we have a relatively small number of users in the dataset used for our exploratory data analysis we can just select the relevant aggregated columns and then drop the duplicates so that we end up with only row per user and then save the data in Pandas dataframes (one for each of the two groups). We can then look at the mean, median and standard deviation of these features for both groups and also visualise the different distributions. "
   ]
  },
  {
   "cell_type": "code",
   "execution_count": 101,
   "metadata": {},
   "outputs": [],
   "source": [
    "# Create a pandas dataframe for each user group containing the measures we are interested in\n",
    "# Define the relevant columns in a list\n",
    "cols_analysis = ['userId','sessions_num','dist_num_artists','avg_session_lgth','song_avg_session','home_avg_session', \n",
    "                 'thumbs_up_avg_session', 'thumbs_down_avg_session', 'add_playlist_avg_session', 'add_friend_avg_session', \n",
    "                 'settings_avg_session', 'help_avg_session', 'error_avg_session', 'usage_length', 'state', 'gender']\n",
    "churned_df = user_log.filter(user_log.churned == 1).select(*cols_analysis).dropDuplicates().toPandas()\n",
    "not_churned_df = user_log.filter(user_log.churned == 0).select(*cols_analysis).dropDuplicates().toPandas()"
   ]
  },
  {
   "cell_type": "code",
   "execution_count": 17,
   "metadata": {
    "scrolled": true
   },
   "outputs": [
    {
     "name": "stdout",
     "output_type": "stream",
     "text": [
      "median for sessions_num for churned users : 8.5\n",
      "mean for sessions_num for churned users : 10.326923076923077\n",
      "sd for sessions_num for churned users : 8.61080295917924\n",
      "median for sessions_num for users who have not churned : 11.0\n",
      "mean for sessions_num for users who have not churned : 15.254335260115607\n",
      "sd for sessions_num for users who have not churned : 15.866963127421302\n",
      "\n",
      "\n",
      "median for dist_num_artists for churned users : 396.0\n",
      "mean for dist_num_artists for churned users : 526.1923076923077\n",
      "sd for dist_num_artists for churned users : 458.1856819624054\n",
      "median for dist_num_artists for users who have not churned : 615.0\n",
      "mean for dist_num_artists for users who have not churned : 752.0751445086705\n",
      "sd for dist_num_artists for users who have not churned : 637.8203801570855\n",
      "\n",
      "\n",
      "median for avg_session_lgth for churned users : 213.5941666666668\n",
      "mean for avg_session_lgth for churned users : 259.5745302891478\n",
      "sd for avg_session_lgth for churned users : 184.29980901838724\n",
      "median for avg_session_lgth for users who have not churned : 268.32999999999913\n",
      "mean for avg_session_lgth for users who have not churned : 296.6607077358499\n",
      "sd for avg_session_lgth for users who have not churned : 174.18009782650347\n",
      "\n",
      "\n",
      "median for song_avg_session for churned users : 52.0625\n",
      "mean for song_avg_session for churned users : 61.80701366093038\n",
      "sd for song_avg_session for churned users : 42.49240102651722\n",
      "median for song_avg_session for users who have not churned : 66.0\n",
      "mean for song_avg_session for users who have not churned : 71.16508490106325\n",
      "sd for song_avg_session for users who have not churned : 42.152198967674515\n",
      "\n",
      "\n",
      "median for home_avg_session for churned users : 2.8863636363636367\n",
      "mean for home_avg_session for churned users : 2.9892395473161733\n",
      "sd for home_avg_session for churned users : 1.5313853807103555\n",
      "median for home_avg_session for users who have not churned : 2.9\n",
      "mean for home_avg_session for users who have not churned : 3.170290588289377\n",
      "sd for home_avg_session for users who have not churned : 1.5729352348587478\n",
      "\n",
      "\n",
      "median for thumbs_up_avg_session for churned users : 2.494047619047619\n",
      "mean for thumbs_up_avg_session for churned users : 3.253282072654841\n",
      "sd for thumbs_up_avg_session for churned users : 2.500475074397091\n",
      "median for thumbs_up_avg_session for users who have not churned : 3.806451612903226\n",
      "mean for thumbs_up_avg_session for users who have not churned : 3.879871804238624\n",
      "sd for thumbs_up_avg_session for users who have not churned : 2.2582681121476713\n",
      "\n",
      "\n",
      "median for thumbs_down_avg_session for churned users : 0.8564593301435407\n",
      "mean for thumbs_down_avg_session for churned users : 0.8844787935062405\n",
      "sd for thumbs_down_avg_session for churned users : 0.5615143909212374\n",
      "median for thumbs_down_avg_session for users who have not churned : 0.6206896551724138\n",
      "mean for thumbs_down_avg_session for users who have not churned : 0.7301845779681008\n",
      "sd for thumbs_down_avg_session for users who have not churned : 0.5950657202888712\n",
      "\n",
      "\n",
      "median for add_playlist_avg_session for churned users : 1.554945054945055\n",
      "mean for add_playlist_avg_session for churned users : 1.7825300861764903\n",
      "sd for add_playlist_avg_session for churned users : 1.286339490286043\n",
      "median for add_playlist_avg_session for users who have not churned : 1.875\n",
      "mean for add_playlist_avg_session for users who have not churned : 1.973110102249905\n",
      "sd for add_playlist_avg_session for users who have not churned : 1.274927548993451\n",
      "\n",
      "\n",
      "median for add_friend_avg_session for churned users : 1.1213235294117647\n",
      "mean for add_friend_avg_session for churned users : 1.1816339342199667\n",
      "sd for add_friend_avg_session for churned users : 0.9646062123899833\n",
      "median for add_friend_avg_session for users who have not churned : 1.3125\n",
      "mean for add_friend_avg_session for users who have not churned : 1.4313906778416206\n",
      "sd for add_friend_avg_session for users who have not churned : 0.9285083438226278\n",
      "\n",
      "\n",
      "median for settings_avg_session for churned users : 0.4494949494949495\n",
      "mean for settings_avg_session for churned users : 0.5417034274390191\n",
      "sd for settings_avg_session for churned users : 0.49749778168584313\n",
      "median for settings_avg_session for users who have not churned : 0.4117647058823529\n",
      "mean for settings_avg_session for users who have not churned : 0.48913942676626876\n",
      "sd for settings_avg_session for users who have not churned : 0.441981803398423\n",
      "\n",
      "\n",
      "median for help_avg_session for churned users : 0.3333333333333333\n",
      "mean for help_avg_session for churned users : 0.3897911453692592\n",
      "sd for help_avg_session for churned users : 0.3111699249314764\n",
      "median for help_avg_session for users who have not churned : 0.3888888888888889\n",
      "mean for help_avg_session for users who have not churned : 0.44661561947966444\n",
      "sd for help_avg_session for users who have not churned : 0.34214703132988705\n",
      "\n",
      "\n",
      "median for error_avg_session for churned users : 0.0\n",
      "mean for error_avg_session for churned users : 0.06316018670894831\n",
      "sd for error_avg_session for churned users : 0.10039022409141451\n",
      "median for error_avg_session for users who have not churned : 0.043478260869565216\n",
      "mean for error_avg_session for users who have not churned : 0.089454878167825\n",
      "sd for error_avg_session for users who have not churned : 0.13712955098011861\n",
      "\n",
      "\n",
      "median for usage_length for churned users : 51.28939236111111\n",
      "mean for usage_length for churned users : 57.28756343482907\n",
      "sd for usage_length for churned users : 36.62368095524411\n",
      "median for usage_length for users who have not churned : 75.42172453703704\n",
      "mean for usage_length for users who have not churned : 86.58160203917792\n",
      "sd for usage_length for users who have not churned : 35.346458923198526\n",
      "\n",
      "\n"
     ]
    }
   ],
   "source": [
    "for col in ['sessions_num','dist_num_artists','avg_session_lgth','song_avg_session','home_avg_session', \n",
    "            'thumbs_up_avg_session', 'thumbs_down_avg_session', 'add_playlist_avg_session', 'add_friend_avg_session', \n",
    "            'settings_avg_session', 'help_avg_session', 'error_avg_session', 'usage_length']:\n",
    "    print('median for '+str(col)+' for churned users : '+str(churned_df[col].median()))\n",
    "    print('mean for '+str(col)+' for churned users : '+str(churned_df[col].mean()))\n",
    "    print('sd for '+str(col)+' for churned users : '+str(churned_df[col].std()))\n",
    "    print('median for '+str(col)+ ' for users who have not churned : '+ str(not_churned_df[col].median()))\n",
    "    print('mean for '+str(col)+' for users who have not churned : '+str(not_churned_df[col].mean()))\n",
    "    print('sd for '+str(col)+' for users who have not churned : '+str(not_churned_df[col].std()))\n",
    "    print('\\n')"
   ]
  },
  {
   "cell_type": "markdown",
   "metadata": {},
   "source": [
    "### Identifying Interesting Features\n",
    "\n",
    "By looking at the above values, we can easily identify some features which may be interesting for our machine learning model(first values in parentheses refer to churners while the second refer to non-churners):\n",
    "+ Number of sessions (**sessions_num**): Both the median (8.5 vs. 11.0) and the mean (10.33 vs 15.25) are noticeably different across the two groups. As far as the standard deviation is concerned, differences are even more pronounced with 8.61 for users who have not churned vs 15.87 for those who have.\n",
    "+ Number of unique artists listened to (**dist_num_artists**): There are significant differences for the median (396.0 vs 615.0), the mean (526.19 vs 752.08) and the standard deviation (458.19 vs 637.82).\n",
    "+ Average session length (**avg_session_lgth**): The average session length differs a bit across the two groups as far as median (213.59 vs 268.33) and mean (259.57 vs 296.66) are concerned. The difference in standard deviations is rather small (184.30 vs 174.18).\n",
    "+ Average number of songs listened to per session(**song_avg_session**):There are significant differences for the median (52.07 vs 66.0) and the mean (61.81 vs 71.17) while the standard deviations are almost identical.\n",
    "+ Usage length of the service (**usage_length**): Both the median (51.29 vs 75.42) and the mean (57.29 vs 86.58) differ very noticeably across the two groups while the standard deviations are almost identical\n",
    "\n",
    "The other features considered above showed only little variation across the two groups and/ or had very low mean values such that they are extremely unlikely to have any predictive power."
   ]
  },
  {
   "cell_type": "markdown",
   "metadata": {},
   "source": [
    "### Visualising the Features Across the Two Groups \n",
    "Let us also have a briefly visualise the distributions of the interesting features we have just identified."
   ]
  },
  {
   "cell_type": "code",
   "execution_count": 18,
   "metadata": {},
   "outputs": [],
   "source": [
    "# Create function to make plots to compare distributions of different features across the two groups\n",
    "# y-axis labels are displayed as percentages using approach found at \n",
    "# https://stackoverflow.com/questions/51473993/plot-an-histogram-with-y-axis-as-percentage-using-funcformatter\n",
    "def plot_features(cols, num_rows, df_1, df_2, x_inc_list, y_max_list, y_inc_list, x_labels = None):\n",
    "    '''\n",
    "    Plots histograms of features in two dataframes df_1 and df_2 from the columns defined in cols variable\n",
    "    INPUT:\n",
    "        cols - list containing columns\n",
    "        num_rows - number of rows to be used for plotting\n",
    "        df_1, df_2 - Pandas dataframes containing the relevant data\n",
    "        (optional) x_labels - labels for the features contained in column list\n",
    "        y_max_list - list containing maximum y value to be plotted\n",
    "        y_inc_list - list containing step size used for incrementing y-axis ticks\n",
    "        x_inc_list - list containing step size used for bucket size and as increment size of x-axis ticks  \n",
    "    OUTPUT:\n",
    "        None - only plots histograms for selected columns\n",
    "    '''\n",
    "    # Initialise counter for subplots to 0 \n",
    "    i = 0\n",
    "    \n",
    "    # Initialise index for lists\n",
    "    j = 0\n",
    "    \n",
    "    plt.figure(figsize = (20,20))\n",
    "\n",
    "    # Use a loop to plot histograms to compare how often users who have churned and those who have not\n",
    "    # performed certain actions \n",
    "    for col in cols:\n",
    "        # Plot for first group\n",
    "        plt.subplot(num_rows, 2, i+1)\n",
    "        \n",
    "        try:\n",
    "            x_label = x_label_list[i]\n",
    "        except:\n",
    "            x_label = col\n",
    "    \n",
    "        x_max_1 = df_1[col].max() \n",
    "        x_max_2 = df_2[col].max()\n",
    "        x_max = np.max([x_max_1, x_max_2])\n",
    "        x_inc = x_inc_list[j]\n",
    "        y_inc = y_inc_list[j]\n",
    "        y_max = y_max_list[j]\n",
    "   \n",
    "    \n",
    "        # Manually define bin_edges to make histogram look nicer if x_inc_list[i] exists\n",
    "        bin_edges = np.arange(0, x_max+x_inc, x_inc)\n",
    "        plt.hist(data = df_1, x = col, bins = bin_edges,\n",
    "                 weights = np.ones(df_1.shape[0])/ df_1.shape[0])\n",
    "        # Further customisation to make histogram look better\n",
    "        sns.set(style=\"ticks\")\n",
    "        sns.despine(right=True,top=True)\n",
    "        plt.gca().yaxis.set_major_formatter(PercentFormatter(1))\n",
    "        # Enhance plot if additional arguments were pased to function\n",
    "        plt.yticks(np.arange(0, y_max+y_inc, y_inc))\n",
    "        plt.xticks(np.arange(0, x_max + x_inc, x_inc))\n",
    "     \n",
    "        \n",
    "        try:\n",
    "            plt.xlabel(x_label)\n",
    "        except:\n",
    "            pass\n",
    "\n",
    "        # Plot for second group \n",
    "        plt.subplot(num_rows, 2, i+2)\n",
    "            \n",
    "         # Use bin_edges, if available\n",
    "        plt.hist(data = df_2, x = col, bins = bin_edges,\n",
    "                 weights = np.ones(df_2.shape[0])/ df_2.shape[0])\n",
    "        # Further customisation to make histogram look better\n",
    "        sns.set(style=\"ticks\")\n",
    "        sns.despine(right=True,top=True)\n",
    "        plt.gca().yaxis.set_major_formatter(PercentFormatter(1))\n",
    "        # Enhance plot if additional arguments were pased to function\n",
    "        plt.yticks(np.arange(0, y_max+y_inc, y_inc))\n",
    "        plt.xticks(np.arange(0, x_max + x_inc, x_inc))\n",
    "   \n",
    "        try:\n",
    "            plt.xlabel(x_label)\n",
    "        except:\n",
    "            pass\n",
    "    \n",
    "        # Increment subplots counter\n",
    "        i+=2\n",
    "        # Increment list counter\n",
    "        j+=1"
   ]
  },
  {
   "cell_type": "code",
   "execution_count": 20,
   "metadata": {},
   "outputs": [
    {
     "data": {
      "image/png": "[encoded data removed]",
      "text/plain": [
       "<Figure size 1440x1440 with 10 Axes>"
      ]
     },
     "metadata": {},
     "output_type": "display_data"
    }
   ],
   "source": [
    "# Plot the most interesting columns as identified above by inspecting median, mean and standard deviation values\n",
    "cols_1 = ['sessions_num','dist_num_artists', 'usage_length', 'avg_session_lgth', 'song_avg_session']\n",
    "x_incs_1 = [10, 200, 20, 50, 20]\n",
    "y_max_1 = [0.6, 0.3, 0.5, 0.2, 0.2]\n",
    "y_incs_1 = [0.1, 0.1, 0.1, 0.1, 0.1]\n",
    "plot_features(cols_1, 5, churned_df, not_churned_df, x_inc_list = x_incs_1, y_max_list = y_max_1, y_inc_list = y_incs_1)"
   ]
  },
  {
   "cell_type": "markdown",
   "metadata": {},
   "source": [
    "Visual inspection of the the relevant features identified confirms the initial hunch that these variables may help us in identifying which users may end up churning.\n",
    "\n",
    "As the final step, before moving on to the modelling stage, let us have a brief look at the qualitative variables \"gender\" and \"state\". "
   ]
  },
  {
   "cell_type": "code",
   "execution_count": 104,
   "metadata": {},
   "outputs": [
    {
     "data": {
      "image/png": "[encoded data removed]",
      "text/plain": [
       "<Figure size 1080x576 with 2 Axes>"
      ]
     },
     "metadata": {},
     "output_type": "display_data"
    },
    {
     "data": {
      "image/png": "[encoded data removed]",
      "text/plain": [
       "<Figure size 1080x576 with 2 Axes>"
      ]
     },
     "metadata": {},
     "output_type": "display_data"
    }
   ],
   "source": [
    "# Create a plot for distribution of gender across the two groups\n",
    "y_max_list = [0.6, 0.16]\n",
    "y_inc_list = [0.1, 0.02]\n",
    "qual_cols = ['gender', 'state']\n",
    "title_list = ['Gender', 'Location (State)']\n",
    "base_colour = sns.color_palette()[0]\n",
    "j = 0\n",
    "for i in range(2):\n",
    "    plt.figure(figsize = (15,8));\n",
    "    y_max = y_max_list[i]\n",
    "    y_inc = y_inc_list[i]\n",
    "    col = qual_cols[i]\n",
    "    title_colname = title_list[i] \n",
    "    \n",
    "    plt.subplot(2, 2, j+1)\n",
    "    plt.title(title_colname + ' Distribution for Churned Users')\n",
    "    churned_df[col].value_counts(normalize = True).plot.bar(x = 'index', y = 'counts', color = sns.color_palette()[0])\n",
    "    sns.set(style=\"ticks\")\n",
    "    sns.despine(right=True,top=True)\n",
    "    plt.yticks(np.arange(0, y_max+y_inc, y_inc))\n",
    "    plt.xlabel(title_list[i])\n",
    "    \n",
    "    plt.subplot(2, 2, j+2)\n",
    "    plt.title(title_colname + ' Distribution for Non-Churned Users')\n",
    "    not_churned_df[col].value_counts(normalize = True).plot.bar(x = 'index', y = 'counts', color = sns.color_palette()[0])\n",
    "    sns.set(style=\"ticks\")\n",
    "    sns.despine(right=True,top=True)\n",
    "    plt.yticks(np.arange(0, y_max+y_inc, y_inc))\n",
    "    plt.xlabel(title_list[i])\n",
    "    j+=2"
   ]
  },
  {
   "cell_type": "markdown",
   "metadata": {},
   "source": [
    "In the graphs above we can observe that the distribution of gender differs noticeably across the two groups. The distribution of the location also seems to differ a bit across the two groups. Hence, both features may potentially help us in predicting whether customers will churn or not."
   ]
  },
  {
   "cell_type": "markdown",
   "metadata": {},
   "source": [
    "# Modeling\n",
    "Split the full dataset into train, test, and validation sets. Test out several of the machine learning methods you learned. Evaluate the accuracy of the various models, tuning parameters as necessary. Determine your winning model based on test accuracy and report results on the validation set. Since the churned users are a fairly small subset, I suggest using F1 score as the metric to optimize."
   ]
  },
  {
   "cell_type": "markdown",
   "metadata": {},
   "source": [
    "### Preparing the Big Data Set for Machine Learning\n",
    "So to speed up things and to allow for local work on the project, I have made use of a rather small reduced dataset. In order to extend the machine learning portion of this project to a much larger dataset qualifying as big data we will need to essentially conduct the preprocessing steps from above on the larger dataset. In order to do so, let us combine the steps used above to create new columns into a single function and then apply this function to the larger dataset. We can then take this larger dataset and conduct the machine learning."
   ]
  },
  {
   "cell_type": "code",
   "execution_count": 154,
   "metadata": {},
   "outputs": [],
   "source": [
    "def create_features(df):\n",
    "    '''\n",
    "    Adds labels and creates features for a PySpark dataframe containing Sparkify user log data \n",
    "    INPUT\n",
    "        df - a PySpark dataframe containing Sparkify user log data\n",
    "    OUTPUT\n",
    "        df_model - a PySpark dataframe \n",
    "    '''\n",
    "    df = df.where(df.userId != '')\n",
    "    # Identify users who canceled their registration\n",
    "    df = df.withColumn('cancel_page',flag_cancel('page'))\n",
    "    df = df.withColumn('churned',Fsum('cancel_page').over(windowval))\n",
    "    # Create new column sessionId_prev using approach described at \n",
    "    # https://www.arundhaj.com/blog/calculate-difference-with-previous-row-in-pyspark.html\n",
    "    df = df.withColumn('sessionId_prev',Flag(df.sessionId).over(prev_val_window))\n",
    "    # Create column indicating whether the session ID is new and also set it to 1 for the first session ID for\n",
    "    # each user which is the only case where the previous session ID column will have a value of null\n",
    "    df = df.withColumn('new_session',Fwhen(Fisnull(df.sessionId_prev), 1).\\\n",
    "                                                      otherwise(new_session(struct('sessionId_prev','sessionId'))))\n",
    "    # Obtain total number of sessions for each user\n",
    "    df = df.withColumn('sessions_num', Fsum('new_session').over(windowval))\n",
    "    # Create Column containing timestamp from previous row\n",
    "    df = df.withColumn('ts_prev',Flag(df.ts).over(prev_val_window))\n",
    "    df = df.withColumn('ts_delta',Fwhen(Fisnull(df.ts_prev), 0).\\\n",
    "                               otherwise(timedelta_udf(struct('ts_prev','ts','new_session'))))\n",
    "    # Sum up total length of all sessions for each user\n",
    "    df = df.withColumn('total_time_sessions',Fsum('ts_delta').over(windowval))\n",
    "    # Calculate average length of sessions\n",
    "    df = df.withColumn('avg_session_lgth', avg_time(struct('total_time_sessions','sessions_num')))\n",
    "    # Create Column containing timestamp from previous row\n",
    "    df = df.withColumn('ts_prev',Flag(df.ts).over(prev_val_window))\n",
    "    # Calculate time elapsed since previous row in minutes using UDF only within sessions and not between them, i.e. only\n",
    "    # when the session ID is not different from the previous row\n",
    "    df = df.withColumn('ts_delta',Fwhen(Fisnull(df.ts_prev), 0).\\\n",
    "                               otherwise(timedelta_udf(struct('ts_prev','ts','new_session'))))\n",
    "    # Sum up total length of all sessions for each user\n",
    "    df = df.withColumn('total_time_sessions',Fsum('ts_delta').over(windowval))\n",
    "    # Calculate average length of sessions\n",
    "    df = df.withColumn('avg_session_lgth', avg_time(struct('total_time_sessions','sessions_num')))\n",
    "    # Create the respective flag columns and calculate sums\n",
    "    # Again using approach as found at \n",
    "    # https://stackoverflow.com/questions/47260999/how-to-pass-the-parameter-to-user-defined-function\n",
    "    # to pass in parameter to udf by defining a column containing a constant value -> lit(activity)\n",
    "    df = df.withColumn('song_flag', flag_activity('page', lit('NextSong')))\n",
    "    df = df.withColumn('song_num', Fsum('song_flag').over(windowval))\n",
    "    df = df.withColumn('song_avg_session', avg_per_session(struct('song_num', 'sessions_num')))\n",
    "\n",
    "    # Take similar approach as above to obtain last value of timestamp for each user ID using approach found at \n",
    "    # https://stackoverflow.com/questions/50468056/get-the-last-value-using-spark-window-function\n",
    "    df = df.withColumn('last_ts',last('ts').over(window_level))\n",
    "    # Add column containing unique number of artists a user listened to using approx_count_distinct as explained at\n",
    "    # https://stackoverflow.com/questions/45869186/pyspark-count-distinct-over-a-window\n",
    "    df = df.withColumn('dist_num_artists', approx_count_distinct('artist').over(windowval))\n",
    "    # Create a column containing the state a user resides in\n",
    "    df = df.withColumn('state', extract_state('location'))\n",
    "\n",
    "    # Define a UDF to calculate the difference in fractions of days between registration date and last date for which activity\n",
    "    # was observed\n",
    "    df = df.withColumn('usage_length',ts_diff_udf(struct('registration','last_ts')))\n",
    "    \n",
    "    # Reduce data to what we need for our machine learning algorithm\n",
    "    cols_keep = ['userId', 'sessions_num','dist_num_artists', 'usage_length', 'avg_session_lgth', 'song_avg_session','gender',\n",
    "                 'state', 'churned']\n",
    "    df = df.select(*cols_keep).dropDuplicates()\n",
    "    return df"
   ]
  },
  {
   "cell_type": "markdown",
   "metadata": {},
   "source": [
    "# Modeling\n",
    "Now that we have identified some promising features, let us just keep these features for our modeling and drop duplicate rows. Since all of these features are aggregate measures, we will end up with a single row for each user by doing so.\n",
    "\n",
    "We can then proceed to our standard machine learning approach of splitting our dataset into a training, validation and test set. This can then be used on a number of standard classification algorithms to identify which one works best. Finally, we can then optimise the best machine learning algorithm we identified by \n",
    "\n",
    "### Imbalanced Dataset\n",
    "As we have seen above, the share of users who have not churned is more than three times as high as that of those who have churned. In principle we could deal with this by oversampling churned users, but especially in the case of the big data this approach can be problematic. Instead, we can account for this problem by choosing our metric accordingly. With imbalanced classes accuracy would be a bad choice, but if we go for the F1 score instead, we should be able to obtain a good model."
   ]
  },
  {
   "cell_type": "code",
   "execution_count": 25,
   "metadata": {},
   "outputs": [],
   "source": [
    "# Reduce data to what we need for our machine learning algorithm\n",
    "cols_keep = ['userId', 'sessions_num','dist_num_artists', 'usage_length', 'avg_session_lgth', 'song_avg_session','gender',\n",
    "             'state', 'churned']\n",
    "model_data = user_log.select(*cols_keep).dropDuplicates()"
   ]
  },
  {
   "cell_type": "code",
   "execution_count": 26,
   "metadata": {},
   "outputs": [
    {
     "data": {
      "text/plain": [
       "Row(userId='100024', sessions_num=1, dist_num_artists=21, usage_length=27.22165509259259, avg_session_lgth=85.24999999999999, song_avg_session=22.0, gender='M', state='PA', churned=1)"
      ]
     },
     "execution_count": 26,
     "metadata": {},
     "output_type": "execute_result"
    }
   ],
   "source": [
    "# Have a look at the first row of our model_data dataframe to have PySpark create the dataframe\n",
    "model_data.head()"
   ]
  },
  {
   "cell_type": "markdown",
   "metadata": {},
   "source": [
    "### Preparing the Data for Machine Learning\n",
    "Before we can now move on to splitting our data and trying out different algorithms we first need to apply one-hot encoding to categorical variables and scaling to numerical variables. As for the latter, we will first want to make sure that we exclude outliers in order to prevent the scaling from being inefficient. \n",
    "\n",
    "There are several different approaches we could take when it comes to scaling numerical data. I decided to use the standard scaler. Before we can do so we need to take care of outliers which would otherwise affect the scaler adversely. There are different ways to define outliers, but I decided to use the interquartile range based definition."
   ]
  },
  {
   "cell_type": "markdown",
   "metadata": {},
   "source": [
    "### Numerical Data: Removing Outliers"
   ]
  },
  {
   "cell_type": "code",
   "execution_count": 27,
   "metadata": {},
   "outputs": [
    {
     "name": "stdout",
     "output_type": "stream",
     "text": [
      "{'sessions_num': {'q1': 6.0, 'q3': 18.0, 'lower': -12.0, 'upper': 36.0}, 'dist_num_artists': {'q1': 208.0, 'q3': 1089.0, 'lower': -1113.5, 'upper': 2410.5}, 'usage_length': {'q1': 59.125856481481485, 'q3': 100.33672453703704, 'lower': -2.690445601851856, 'upper': 162.15302662037038}, 'avg_session_lgth': {'q1': 161.37708333333367, 'q3': 380.7148148148142, 'lower': -167.6295138888871, 'upper': 709.721412037035}, 'song_avg_session': {'q1': 35.857142857142854, 'q3': 91.71428571428571, 'lower': -47.92857142857142, 'upper': 175.5}}\n"
     ]
    }
   ],
   "source": [
    "# Numerical cols to consider: 'sessions_num','dist_num_artists', 'usage_length', 'avg_session_lgth', 'song_avg_session'\n",
    "# Use approach found at https://stackoverflow.com/questions/52633916/outlier-detection-in-pyspark to calculate interquartile\n",
    "# range\n",
    "numerical_cols = ['sessions_num','dist_num_artists', 'usage_length', 'avg_session_lgth', 'song_avg_session']\n",
    "bounds = {\n",
    "    column: dict(\n",
    "        zip([\"q1\", \"q3\"], model_data.approxQuantile(column, [0.25, 0.75], 0))\n",
    "    )\n",
    "    for column in numerical_cols\n",
    "}\n",
    "\n",
    "# Print the derived bounds\n",
    "for column in bounds:\n",
    "    iqr = bounds[column]['q3'] - bounds[column]['q1']\n",
    "    bounds[column]['lower'] = bounds[column]['q1'] - (iqr * 1.5)\n",
    "    bounds[column]['upper'] = bounds[column]['q3'] + (iqr * 1.5)\n",
    "print(bounds)"
   ]
  },
  {
   "cell_type": "markdown",
   "metadata": {},
   "source": [
    "Looking at the derived upper and lower bounds, it turns out that the lower bounds can be ignored since they are negative values for features which can only take on positive values. Hence, only the upper bounds are of interest to us. I decided to drop all rows where one of the values of a feature was above the upper threshold. "
   ]
  },
  {
   "cell_type": "code",
   "execution_count": 30,
   "metadata": {},
   "outputs": [
    {
     "name": "stdout",
     "output_type": "stream",
     "text": [
      "225\n",
      "225\n",
      "225\n",
      "225\n",
      "225\n"
     ]
    }
   ],
   "source": [
    "# Drop all rows where at least one feature has a value above the upper threshold\n",
    "for column in bounds:\n",
    "    upper = bounds[column]['upper']\n",
    "    model_data = model_data.filter(model_data[column] <= upper)\n",
    "    print(model_data.count())\n"
   ]
  },
  {
   "cell_type": "code",
   "execution_count": 48,
   "metadata": {},
   "outputs": [
    {
     "name": "stdout",
     "output_type": "stream",
     "text": [
      "root\n",
      " |-- userId: string (nullable = true)\n",
      " |-- sessions_num: long (nullable = true)\n",
      " |-- dist_num_artists: long (nullable = false)\n",
      " |-- usage_length: double (nullable = true)\n",
      " |-- avg_session_lgth: double (nullable = true)\n",
      " |-- song_avg_session: double (nullable = true)\n",
      " |-- gender: string (nullable = true)\n",
      " |-- state: string (nullable = true)\n",
      " |-- churned: long (nullable = true)\n",
      "\n"
     ]
    }
   ],
   "source": [
    "model_data.printSchema()"
   ]
  },
  {
   "cell_type": "markdown",
   "metadata": {},
   "source": [
    "### Numerical Data: Scaling\n",
    "Let us now scale the numerical features. We can do so by creating a stages list to be used later on in our pipeline containing the necessary transformations of the numerical columns we are interested in.\n",
    "\n",
    "An issue I came across here was that as explained at https://stackoverflow.com/questions/57028298/pyspark-standardscaler-throwing-error-on-double-column, **StandardScaler expects a vector**. Hence, I had to combine all numerical features into a single vector."
   ]
  },
  {
   "cell_type": "code",
   "execution_count": 67,
   "metadata": {},
   "outputs": [],
   "source": [
    "# Create stages list to subsequently call stages when using an ML pipeline later on\n",
    "stages = []\n",
    "# Scale numerical features using StandardScaler\n",
    "assembler_numerical = VectorAssembler(inputCols = numerical_cols, outputCol = 'num_features')\n",
    "stages += [assembler_numerical]\n",
    "std_scale = StandardScaler(inputCol = 'num_features', outputCol= 'num_features_scaled', withStd = True, withMean = True)\n",
    "stages += [std_scale]"
   ]
  },
  {
   "cell_type": "markdown",
   "metadata": {},
   "source": [
    "### Categorical Data: One-Hot Encoding\n",
    "Next, we will need to perform one-hot encoding on the categorical columns."
   ]
  },
  {
   "cell_type": "code",
   "execution_count": 68,
   "metadata": {},
   "outputs": [],
   "source": [
    "# Create One Hot Encoding for the two categorical features state and gender\n",
    "# Based upon http://zwmiller.com/projects/spark_ml_example.html and\n",
    "# https://docs.databricks.com/applications/machine-learning/mllib/binary-classification-mllib-pipelines.html\n",
    "for categoricalCol in ['gender','state']:\n",
    "    # Use StringIndexer to first index categorical columns\n",
    "    # In order to ensure consistency in the indexing use alphabetDesc for ordering\n",
    "    si = StringIndexer(inputCol = categoricalCol, outputCol = categoricalCol+'_code', stringOrderType = 'alphabetDesc')\n",
    "    ohe = OneHotEncoderEstimator(inputCols = [si.getOutputCol()], outputCols=[categoricalCol+'_classVec'])\n",
    "    stages += [si, ohe]"
   ]
  },
  {
   "cell_type": "markdown",
   "metadata": {},
   "source": [
    "### Transforming and Putting the Data Together\n",
    "Now that we have performed the necessary operations on our features, we can combine them, as required by Spark, by using VectorAssembler into a single column containing a vector for each observation (i.e. user). Note that we also need to take care of the label column using the StringIndexer."
   ]
  },
  {
   "cell_type": "code",
   "execution_count": 69,
   "metadata": {},
   "outputs": [],
   "source": [
    "# Convert features as explained in Udacity Spark class and at \n",
    "# https://docs.databricks.com/applications/machine-learning/mllib/binary-classification-mllib-pipelines.html \n",
    "feature_cols = ['num_features_scaled', 'gender_classVec', 'state_classVec']\n",
    "assembler = VectorAssembler(inputCols = feature_cols, outputCol = 'features')\n",
    "stages += [assembler]\n",
    "# Take care of label column churned using StringIndexer\n",
    "label_indexer = StringIndexer(inputCol= 'churned', outputCol = 'label')\n",
    "stages += [label_indexer]"
   ]
  },
  {
   "cell_type": "code",
   "execution_count": 71,
   "metadata": {},
   "outputs": [],
   "source": [
    "# Convert the stages contained in list into a pipeline, fit and apply the pipeline to obtain the converted data\n",
    "data_prep_pipeline = Pipeline().setStages(stages) \n",
    "data_prep_model = data_prep_pipeline.fit(model_data)\n",
    "model_data_prep = data_prep_model.transform(model_data) "
   ]
  },
  {
   "cell_type": "markdown",
   "metadata": {},
   "source": [
    "### Train-Test Split\n",
    "Now that we have prepared the data for using it with algorithms, all we still need to do before passing on the data to the algorithms is to do a train-test split."
   ]
  },
  {
   "cell_type": "code",
   "execution_count": 74,
   "metadata": {},
   "outputs": [],
   "source": [
    "# Perform Tain-Test Split\n",
    "train, test = model_data_prep.randomSplit([0.9, 0.1], seed = 42)"
   ]
  },
  {
   "cell_type": "markdown",
   "metadata": {},
   "source": [
    "### Model Selection\n",
    "Now that we have prepared the data and obtained a random train-test split, we can try out a few different classification algorithms on our data and select the best one based on the baseline performance without any hyperparameter tuning.\n",
    "\n",
    "As briefly mentioned above, we have a rather imbalanced dataset where an algorithm could already do reasonably well by simply using a trivial solution of predicting everyone as not churning. Hence, in order to deal with this issue we will either need to do oversampling to obtain a \"new\" dataset with equal proportions of both classes or we will have to choose a different metric than accuracy. A well-established metric to deal with imbalances is the F1-score. In an actual big data setting oversampling would lead to extremely large datasets and may hence often not be feasible. I thus decided to simply compare F1-scores instead of the accuracy. "
   ]
  },
  {
   "cell_type": "code",
   "execution_count": 75,
   "metadata": {},
   "outputs": [],
   "source": [
    "# Try out different algorithms\n",
    "from pyspark.ml.classification import LogisticRegression\n",
    "from pyspark.ml.classification import RandomForestClassifier\n",
    "from pyspark.ml.classification import GBTClassifier\n",
    "from pyspark.ml.classification import LinearSVC\n",
    "\n",
    "# Instantiate different algorithms\n",
    "lr = LogisticRegression(labelCol = 'label', featuresCol = 'features')\n",
    "lr_model = lr.fit(train)\n",
    "rf = RandomForestClassifier(labelCol = 'label', featuresCol = 'features')\n",
    "rf_model = rf.fit(train)\n",
    "gbt = GBTClassifier(labelCol = 'label', featuresCol = 'features')\n",
    "gbt_model = gbt.fit(train)\n",
    "svc = LinearSVC(labelCol = 'label', featuresCol = 'features')\n",
    "svc_model = svc.fit(train)\n",
    "\n",
    "# Create lists with models and model names\n",
    "model_list = [lr_model, rf_model, gbt_model, svc_model]\n",
    "model_names = ['logistic regression', 'random forest', 'gradient-boosted tree', 'linear svc']"
   ]
  },
  {
   "cell_type": "code",
   "execution_count": 84,
   "metadata": {},
   "outputs": [
    {
     "name": "stdout",
     "output_type": "stream",
     "text": [
      "F1 Score for logistic regression :0.77\n",
      "F1 Score for random forest :0.75\n",
      "F1 Score for gradient-boosted tree :0.78\n",
      "F1 Score for linear svc :0.77\n"
     ]
    }
   ],
   "source": [
    "from pyspark.ml.evaluation import BinaryClassificationEvaluator\n",
    "from pyspark.ml.evaluation import MulticlassClassificationEvaluator\n",
    "# Calculate and display F1 scores for all 4 models\n",
    "for i in range(len(model_list)):\n",
    "    model = model_list[i]\n",
    "    model_name = model_names[i]\n",
    "    #predictionAndLabels = test.map(lambda lp: (float(model.predict(lp.features)), lp.label))\n",
    "    predict = model.transform(test)\n",
    "    # Instantiate evaluator as shown at \n",
    "    # https://docs.databricks.com/applications/machine-learning/mllib/binary-classification-mllib-pipelines.html\n",
    "    #evaluator = BinaryClassificationEvaluator()\n",
    "    evaluator = MulticlassClassificationEvaluator()\n",
    "    #evaluator.evaluate(predict, {evaluator.metricName:'f1'})\n",
    "    print('F1 Score for '+model_names[i]+' :{0:.2f}'.format(evaluator.evaluate(predict, {evaluator.metricName:'f1'}))) "
   ]
  },
  {
   "cell_type": "markdown",
   "metadata": {},
   "source": [
    "**Placeholder for brief comment on performance of different models**"
   ]
  },
  {
   "cell_type": "markdown",
   "metadata": {},
   "source": [
    "### Hyperparameter Tuning for Best Model\n",
    "Finally, let us do some hyperparameter tuning for the best model and look at the results we obtain then."
   ]
  },
  {
   "cell_type": "code",
   "execution_count": 85,
   "metadata": {},
   "outputs": [
    {
     "name": "stdout",
     "output_type": "stream",
     "text": [
      "cacheNodeIds: If false, the algorithm will pass trees to executors to match instances with nodes. If true, the algorithm will cache node IDs for each instance. Caching can speed up training of deeper trees. Users can set how often should the cache be checkpointed or disable it by setting checkpointInterval. (default: False)\n",
      "checkpointInterval: set checkpoint interval (>= 1) or disable checkpoint (-1). E.g. 10 means that the cache will get checkpointed every 10 iterations. Note: this setting will be ignored if the checkpoint directory is not set in the SparkContext. (default: 10)\n",
      "featureSubsetStrategy: The number of features to consider for splits at each tree node. Supported options: 'auto' (choose automatically for task: If numTrees == 1, set to 'all'. If numTrees > 1 (forest), set to 'sqrt' for classification and to 'onethird' for regression), 'all' (use all features), 'onethird' (use 1/3 of the features), 'sqrt' (use sqrt(number of features)), 'log2' (use log2(number of features)), 'n' (when n is in the range (0, 1.0], use n * number of features. When n is in the range (1, number of features), use n features). default = 'auto' (default: all)\n",
      "featuresCol: features column name. (default: features, current: features)\n",
      "labelCol: label column name. (default: label, current: label)\n",
      "lossType: Loss function which GBT tries to minimize (case-insensitive). Supported options: logistic (default: logistic)\n",
      "maxBins: Max number of bins for discretizing continuous features.  Must be >=2 and >= number of categories for any categorical feature. (default: 32)\n",
      "maxDepth: Maximum depth of the tree. (>= 0) E.g., depth 0 means 1 leaf node; depth 1 means 1 internal node + 2 leaf nodes. (default: 5)\n",
      "maxIter: max number of iterations (>= 0). (default: 20)\n",
      "maxMemoryInMB: Maximum memory in MB allocated to histogram aggregation. If too small, then 1 node will be split per iteration, and its aggregates may exceed this size. (default: 256)\n",
      "minInfoGain: Minimum information gain for a split to be considered at a tree node. (default: 0.0)\n",
      "minInstancesPerNode: Minimum number of instances each child must have after split. If a split causes the left or right child to have fewer than minInstancesPerNode, the split will be discarded as invalid. Should be >= 1. (default: 1)\n",
      "predictionCol: prediction column name. (default: prediction)\n",
      "seed: random seed. (default: 3501659999573354052)\n",
      "stepSize: Step size (a.k.a. learning rate) in interval (0, 1] for shrinking the contribution of each estimator. (default: 0.1)\n",
      "subsamplingRate: Fraction of the training data used for learning each decision tree, in range (0, 1]. (default: 1.0)\n"
     ]
    }
   ],
   "source": [
    "print(gbt.explainParams())"
   ]
  },
  {
   "cell_type": "code",
   "execution_count": 88,
   "metadata": {},
   "outputs": [],
   "source": [
    "from pyspark.ml.tuning import CrossValidator, ParamGridBuilder\n",
    "paramGrid = ParamGridBuilder()\\\n",
    "            .addGrid(gbt.maxDepth, [5,10]) \\\n",
    "            .addGrid(gbt.stepSize,[0.05, 0.1, 0.2]) \\\n",
    "            .build()\n",
    "\n",
    "crossval = CrossValidator(estimator = gbt,\n",
    "                          estimatorParamMaps = paramGrid,\n",
    "                          evaluator = MulticlassClassificationEvaluator(),\n",
    "                          numFolds = 5)\n",
    "cvModel = crossval.fit(train)"
   ]
  },
  {
   "cell_type": "code",
   "execution_count": 89,
   "metadata": {},
   "outputs": [
    {
     "name": "stdout",
     "output_type": "stream",
     "text": [
      "F1 Score for best model after hyperparameter tuning :0.77\n"
     ]
    }
   ],
   "source": [
    "# Display F1 score of best model\n",
    "best_predict = cvModel.transform(test)\n",
    "print('F1 Score for best model after hyperparameter tuning :{0:.2f}'.\\\n",
    "      format(evaluator.evaluate(predict, {evaluator.metricName:'f1'})))"
   ]
  },
  {
   "cell_type": "markdown",
   "metadata": {},
   "source": [
    "Finally, in order to improve our understanding of the model results, we can have a look at which features were most important in predicting whether a user is likely to churn or not. We can identify the most important features in terms of predictiv power by making use of the featureImportances property of a trained model.\n",
    "\n",
    "The featureImportances property returns a sparse vector with the keys representing the index of the respective and the values representing the importances in terms of the variance explained. In order to use this information for our purposes, we need to turn the sparse vector into a Pandas dataframe, create a column containing the index values and create yet another column containing the actual feature names. "
   ]
  },
  {
   "cell_type": "code",
   "execution_count": 190,
   "metadata": {},
   "outputs": [
    {
     "data": {
      "text/html": [
       "<div>\n",
       "<style scoped>\n",
       "    .dataframe tbody tr th:only-of-type {\n",
       "        vertical-align: middle;\n",
       "    }\n",
       "\n",
       "    .dataframe tbody tr th {\n",
       "        vertical-align: top;\n",
       "    }\n",
       "\n",
       "    .dataframe thead th {\n",
       "        text-align: right;\n",
       "    }\n",
       "</style>\n",
       "<table border=\"1\" class=\"dataframe\">\n",
       "  <thead>\n",
       "    <tr style=\"text-align: right;\">\n",
       "      <th></th>\n",
       "      <th>feature_importance</th>\n",
       "      <th>index</th>\n",
       "      <th>feature</th>\n",
       "    </tr>\n",
       "  </thead>\n",
       "  <tbody>\n",
       "    <tr>\n",
       "      <th>0</th>\n",
       "      <td>0.185240</td>\n",
       "      <td>0</td>\n",
       "      <td>sessions_num</td>\n",
       "    </tr>\n",
       "    <tr>\n",
       "      <th>2</th>\n",
       "      <td>0.153046</td>\n",
       "      <td>2</td>\n",
       "      <td>usage_length</td>\n",
       "    </tr>\n",
       "    <tr>\n",
       "      <th>3</th>\n",
       "      <td>0.135387</td>\n",
       "      <td>3</td>\n",
       "      <td>avg_session_lgth</td>\n",
       "    </tr>\n",
       "    <tr>\n",
       "      <th>1</th>\n",
       "      <td>0.125252</td>\n",
       "      <td>1</td>\n",
       "      <td>dist_num_artists</td>\n",
       "    </tr>\n",
       "    <tr>\n",
       "      <th>22</th>\n",
       "      <td>0.064280</td>\n",
       "      <td>22</td>\n",
       "      <td>state_classVec_NC</td>\n",
       "    </tr>\n",
       "  </tbody>\n",
       "</table>\n",
       "</div>"
      ],
      "text/plain": [
       "    feature_importance  index            feature\n",
       "0             0.185240      0       sessions_num\n",
       "2             0.153046      2       usage_length\n",
       "3             0.135387      3   avg_session_lgth\n",
       "1             0.125252      1   dist_num_artists\n",
       "22            0.064280     22  state_classVec_NC"
      ]
     },
     "execution_count": 190,
     "metadata": {},
     "output_type": "execute_result"
    }
   ],
   "source": [
    "# Turn sparse vector of featureImportances property of best model into a pandas dataframe using approach described at\n",
    "# https://stackoverflow.com/questions/49736117/sparse-vector-to-dataframe-in-pyspark\n",
    "feature_importances_df = pd.DataFrame(cvModel.bestModel.featureImportances.toArray())\n",
    "feature_importances_df['index'] = feature_importances_df.index\n",
    "# Rename column containing feature importances\n",
    "feature_importances_df = feature_importances_df.rename(columns = {0:'feature_importance'})\n",
    "feature_importances_df = feature_importances_df.sort_values(by = 'feature_importance', ascending = False)\n",
    "# Using approach found at \n",
    "# https://stackoverflow.com/questions/45024192/pyspark-randomforest-feature-importance-how-to-get-column-names-from-the-column\n",
    "# obtain a dictionary with names for feature importances\n",
    "features_df = pd.DataFrame(train.schema[\"features\"].metadata[\"ml_attr\"] \n",
    "[\"attrs\"][\"binary\"]+train.schema[\"features\"].metadata[\"ml_attr\"][\"attrs\"][\"numeric\"]).sort_values(\"idx\")\n",
    "# adjust names of numerical features using replace and a dictionary\n",
    "numerical_feat_dict = {'num_features_scaled_0':numerical_cols[0],'num_features_scaled_1':numerical_cols[1],\n",
    "                      'num_features_scaled_2':numerical_cols[2], 'num_features_scaled_3':numerical_cols[3],\n",
    "                      'num_features_scaled_4':numerical_cols[4]}\n",
    "features_df['name'] = features_df['name'].replace(numerical_feat_dict)\n",
    "feature_dict = dict(zip(features_df[\"idx\"],features_df[\"name\"]))\n",
    "# Use this dictionary to add a column containing the feature names\n",
    "feature_importances_df['feature'] = feature_importances_df['index'].replace(feature_dict)\n",
    "feature_importances_df.head()"
   ]
  },
  {
   "cell_type": "markdown",
   "metadata": {},
   "source": [
    "# Final Steps\n",
    "Clean up your code, adding comments and renaming variables to make the code easier to read and maintain. Refer to the Spark Project Overview page and Data Scientist Capstone Project Rubric to make sure you are including all components of the capstone project and meet all expectations. Remember, this includes thorough documentation in a README file in a Github repository, as well as a web app or blog post."
   ]
  },
  {
   "cell_type": "code",
   "execution_count": null,
   "metadata": {},
   "outputs": [],
   "source": []
  }
 ],
 "metadata": {
  "kernelspec": {
   "display_name": "Python 3",
   "language": "python",
   "name": "python3"
  },
  "language_info": {
   "codemirror_mode": {
    "name": "ipython",
    "version": 3
   },
   "file_extension": ".py",
   "mimetype": "text/x-python",
   "name": "python",
   "nbconvert_exporter": "python",
   "pygments_lexer": "ipython3",
   "version": "3.6.7"
  }
 },
 "nbformat": 4,
 "nbformat_minor": 2
}

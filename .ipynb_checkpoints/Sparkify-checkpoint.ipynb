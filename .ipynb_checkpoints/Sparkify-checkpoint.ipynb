{
 "cells": [
  {
   "cell_type": "markdown",
   "metadata": {},
   "source": [
    "# Sparkify Project Workspace\n",
    "This workspace contains a tiny subset (128MB) of the full dataset available (12GB). Feel free to use this workspace to build your project, or to explore a smaller subset with Spark before deploying your cluster on the cloud. Instructions for setting up your Spark cluster is included in the last lesson of the Extracurricular Spark Course content.\n",
    "\n",
    "You can follow the steps below to guide your data analysis and model building portion of this project."
   ]
  },
  {
   "cell_type": "code",
   "execution_count": 1,
   "metadata": {},
   "outputs": [],
   "source": [
    "# import libraries\n",
    "import pyspark\n",
    "from pyspark import SparkConf\n",
    "from pyspark.sql import SparkSession, Window\n",
    "from pyspark.sql.functions import isnan, when, count, col, isnull, udf, last, first, struct, lit, approx_count_distinct\n",
    "from pyspark.sql.functions import sum as Fsum\n",
    "from pyspark.sql.functions import when as Fwhen\n",
    "from pyspark.sql.functions import lag as Flag\n",
    "from pyspark.sql.functions import isnull as Fisnull\n",
    "from pyspark.sql.types import IntegerType, DoubleType\n",
    "import matplotlib.pyplot as plt\n",
    "from matplotlib.ticker import PercentFormatter\n",
    "import seaborn as sns\n",
    "from datetime import datetime\n",
    "from datetime import timedelta\n",
    "import pandas as pd\n",
    "import numpy as np\n",
    "%matplotlib inline"
   ]
  },
  {
   "cell_type": "code",
   "execution_count": 2,
   "metadata": {},
   "outputs": [],
   "source": [
    "# create a Spark session\n",
    "spark = SparkSession \\\n",
    "    .builder \\\n",
    "    .appName(\"Sparkify\") \\\n",
    "    .getOrCreate()\n",
    "# Reduce number of partitions to only 5 to easily deal with small dataset\n",
    "# as suggested at https://stackoverflow.com/questions/55721767/spark-streaming-job-is-running-very-slow\n",
    "spark.conf.set(\"spark.sql.shuffle.partitions\", 10)"
   ]
  },
  {
   "cell_type": "markdown",
   "metadata": {},
   "source": [
    "# Load and Clean Dataset\n",
    "In this workspace, the mini-dataset file is `mini_sparkify_event_data.json`. Load and clean the dataset, checking for invalid or missing data - for example, records without userids or sessionids. "
   ]
  },
  {
   "cell_type": "code",
   "execution_count": 3,
   "metadata": {},
   "outputs": [],
   "source": [
    "# Define path to the mini data set used for initial steps and load this data\n",
    "path = \"mini_sparkify_event_data.json\"\n",
    "user_log = spark.read.json(path)"
   ]
  },
  {
   "cell_type": "code",
   "execution_count": 4,
   "metadata": {},
   "outputs": [
    {
     "name": "stdout",
     "output_type": "stream",
     "text": [
      "root\n",
      " |-- artist: string (nullable = true)\n",
      " |-- auth: string (nullable = true)\n",
      " |-- firstName: string (nullable = true)\n",
      " |-- gender: string (nullable = true)\n",
      " |-- itemInSession: long (nullable = true)\n",
      " |-- lastName: string (nullable = true)\n",
      " |-- length: double (nullable = true)\n",
      " |-- level: string (nullable = true)\n",
      " |-- location: string (nullable = true)\n",
      " |-- method: string (nullable = true)\n",
      " |-- page: string (nullable = true)\n",
      " |-- registration: long (nullable = true)\n",
      " |-- sessionId: long (nullable = true)\n",
      " |-- song: string (nullable = true)\n",
      " |-- status: long (nullable = true)\n",
      " |-- ts: long (nullable = true)\n",
      " |-- userAgent: string (nullable = true)\n",
      " |-- userId: string (nullable = true)\n",
      "\n"
     ]
    }
   ],
   "source": [
    "# Display data schema to get an idea of what the data looks like\n",
    "user_log.printSchema()"
   ]
  },
  {
   "cell_type": "markdown",
   "metadata": {},
   "source": [
    "Looking at the schema we can observe that there is a total of 18 columns of which 12 are strings. Even out of those variables that are not strings only length really seems to be a classical numerical variable. One could perhaps also include the timestamp (\"ts\"), but as a data it should be dealt with differently than a quantitative variable. As for the other variables that are not integers, they really just represent some sort of ID and can therefore not be interpreted as numbers.\n",
    "\n",
    "So, overall it seems as though we are dealing with mainly categorical variables.This will have certain implications later on once we deal with feature engineering. \n",
    "\n",
    "Let us also briefly note that there are some columns such as a user's first name where it is almost immediately obvious that they will most likely not help us with predicting user churn rates. We may thus be able to drop some columns later on."
   ]
  },
  {
   "cell_type": "code",
   "execution_count": 301,
   "metadata": {},
   "outputs": [
    {
     "data": {
      "text/plain": [
       "Row(artist='Martha Tilston', auth='Logged In', firstName='Colin', gender='M', itemInSession=50, lastName='Freeman', length=277.89016, level='paid', location='Bakersfield, CA', method='PUT', page='NextSong', registration=1538173362000, sessionId=29, song='Rockpools', status=200, ts=1538352117000, userAgent='Mozilla/5.0 (Windows NT 6.1; WOW64; rv:31.0) Gecko/20100101 Firefox/31.0', userId='30')"
      ]
     },
     "execution_count": 301,
     "metadata": {},
     "output_type": "execute_result"
    }
   ],
   "source": [
    "user_log.head()"
   ]
  },
  {
   "cell_type": "markdown",
   "metadata": {},
   "source": [
    "## Looking for and Dealing with NANs\n",
    "As a first step, let us have a look at how much data is actually missing and think about which columns are so critical that a missing value should lead to the exclusion of an observation.\n",
    "The \"userId\" and the \"ts\" (timestamp) column may perhaps be the two most critical columns since these two columns ensure the integrity of an entry. Similarly, the 'sessionId' column should not have a missing value either."
   ]
  },
  {
   "cell_type": "code",
   "execution_count": 190,
   "metadata": {},
   "outputs": [
    {
     "name": "stdout",
     "output_type": "stream",
     "text": [
      "+------+----+---------+------+-------------+--------+------+-----+--------+------+----+------------+---------+----+------+---+---------+------+\n",
      "|artist|auth|firstName|gender|itemInSession|lastName|length|level|location|method|page|registration|sessionId|song|status| ts|userAgent|userId|\n",
      "+------+----+---------+------+-------------+--------+------+-----+--------+------+----+------------+---------+----+------+---+---------+------+\n",
      "|     0|   0|        0|     0|            0|       0|     0|    0|       0|     0|   0|           0|        0|   0|     0|  0|        0|     0|\n",
      "+------+----+---------+------+-------------+--------+------+-----+--------+------+----+------------+---------+----+------+---+---------+------+\n",
      "\n",
      "+------+----+---------+------+-------------+--------+------+-----+--------+------+----+------------+---------+-----+------+---+---------+------+\n",
      "|artist|auth|firstName|gender|itemInSession|lastName|length|level|location|method|page|registration|sessionId| song|status| ts|userAgent|userId|\n",
      "+------+----+---------+------+-------------+--------+------+-----+--------+------+----+------------+---------+-----+------+---+---------+------+\n",
      "| 58392|   0|     8346|  8346|            0|    8346| 58392|    0|    8346|     0|   0|        8346|        0|58392|     0|  0|     8346|     0|\n",
      "+------+----+---------+------+-------------+--------+------+-----+--------+------+----+------------+---------+-----+------+---+---------+------+\n",
      "\n",
      "+------+----+---------+------+-------------+--------+------+-----+--------+------+----+------------+---------+----+------+---+---------+------+\n",
      "|artist|auth|firstName|gender|itemInSession|lastName|length|level|location|method|page|registration|sessionId|song|status| ts|userAgent|userId|\n",
      "+------+----+---------+------+-------------+--------+------+-----+--------+------+----+------------+---------+----+------+---+---------+------+\n",
      "|     0|   0|        0|     0|            0|       0|     0|    0|       0|     0|   0|           0|        0|   0|     0|  0|        0|  8346|\n",
      "+------+----+---------+------+-------------+--------+------+-----+--------+------+----+------------+---------+----+------+---+---------+------+\n",
      "\n"
     ]
    }
   ],
   "source": [
    "# Used both isnan and isnull PySpark SQL functions as suggested at \n",
    "# https://stackoverflow.com/questions/44627386/how-to-find-count-of-null-and-nan-values-for-each-column-in-a-pyspark-dataframe\n",
    "user_log.select([count(when(isnan(c), c)).alias(c) for c in user_log.columns]).show()\n",
    "user_log.select([count(when(isnull(c), c)).alias(c) for c in user_log.columns]).show()\n",
    "# Also look for cases with empty strings\n",
    "user_log.select([count(when(col(c)=='', c)).alias(c) for c in user_log.columns]).show()"
   ]
  },
  {
   "cell_type": "code",
   "execution_count": 220,
   "metadata": {},
   "outputs": [
    {
     "name": "stdout",
     "output_type": "stream",
     "text": [
      "+------------+\n",
      "|registration|\n",
      "+------------+\n",
      "|        null|\n",
      "+------------+\n",
      "\n",
      "+------+\n",
      "|userId|\n",
      "+------+\n",
      "|      |\n",
      "+------+\n",
      "\n",
      "+-------------------------+\n",
      "|page                     |\n",
      "+-------------------------+\n",
      "|Downgrade                |\n",
      "|Thumbs Down              |\n",
      "|Login                    |\n",
      "|About                    |\n",
      "|Cancel                   |\n",
      "|Add to Playlist          |\n",
      "|Thumbs Up                |\n",
      "|Home                     |\n",
      "|Error                    |\n",
      "|Save Settings            |\n",
      "|Submit Downgrade         |\n",
      "|Cancellation Confirmation|\n",
      "|Register                 |\n",
      "|Submit Registration      |\n",
      "|Logout                   |\n",
      "|Add Friend               |\n",
      "|Settings                 |\n",
      "|Roll Advert              |\n",
      "|Help                     |\n",
      "|Upgrade                  |\n",
      "|Submit Upgrade           |\n",
      "+-------------------------+\n",
      "\n"
     ]
    }
   ],
   "source": [
    "# Have a closer look at the missing values\n",
    "# For cases where we have no first name we would expect users not to be registered and hence to have no user ID\n",
    "user_log.filter(isnull(user_log.firstName)).select('registration').dropDuplicates().show()\n",
    "user_log.filter(isnull(user_log.firstName)).select('userId').dropDuplicates().show()\n",
    "# For cases where there is no information on the artist or the song check if people were doing other things\n",
    "# than listening to a song\n",
    "user_log.filter(isnull(user_log.artist)).select('page').dropDuplicates().show(30, False)"
   ]
  },
  {
   "cell_type": "markdown",
   "metadata": {},
   "source": [
    "It turns out that there are two cases of missing values:\n",
    "* 8346 rows of unregistered users (the \"userId\" column is empty and there is no personal user information,\n",
    "i.e. first/ last name and gender available)\n",
    "* 58,392 rows where users are not listening to a song and there is hence no song related information\n",
    "\n",
    "As for the former, it seems reasonable to simply drop these rows since we only care about the churn of existing users. On the other side, missing song data is by no means a dealbreaker since in all cases where people are not listening to a song, we would not expect to get any song related information anyway."
   ]
  },
  {
   "cell_type": "code",
   "execution_count": 5,
   "metadata": {},
   "outputs": [],
   "source": [
    "# Drop rows with unregistered users\n",
    "user_log = user_log.where(user_log.userId != '')"
   ]
  },
  {
   "cell_type": "markdown",
   "metadata": {},
   "source": [
    "## Number of Observations and Distribution of Number of Interactions"
   ]
  },
  {
   "cell_type": "code",
   "execution_count": 112,
   "metadata": {},
   "outputs": [
    {
     "name": "stdout",
     "output_type": "stream",
     "text": [
      "Number of observations: 278154\n",
      "Number of columns:18\n",
      "Number of unique users: 225\n",
      "Average number of interactions per user 1236.24\n"
     ]
    }
   ],
   "source": [
    "# Explore dimensions after dropping NANs\n",
    "num_obs = user_log.count()\n",
    "num_cols = len(user_log.columns)\n",
    "print('Number of observations: {}'.format(num_obs))\n",
    "print('Number of columns:{}'.format(num_cols))\n",
    "# Have a look at the number of unique user IDs and the average number of interactions per user ID\n",
    "num_users = user_log.select('userId').dropDuplicates().count()\n",
    "print('Number of unique users: {}'.format(num_users))\n",
    "print('Average number of interactions per user {}'.format(num_obs/num_users))"
   ]
  },
  {
   "cell_type": "markdown",
   "metadata": {},
   "source": [
    "It turns out that what initially seemed like a rather larger data set is not that large because there were on average about 1236 interactions per user. Hence, the 278,154 interactions represent really just data of 225 unique users.  \n",
    "\n",
    "Ultimately we want to use the log data to predict churn rates of individual users. Hence, we will ultimately need to aggregate the user log data at the user ID level to be able predict churn rates when we turn towards feature engineering and prediction. In this sense, we should probably think of the number of unique users as being more representative of our sample size.\n",
    "\n",
    "Even so, it is also true that the more interactions we have recorded for each user the better we should be able to predict whether they will churn or not.\n",
    "\n",
    "Next, let us have a brief look at how the number of interactions is distributed across the 225 unique users. "
   ]
  },
  {
   "cell_type": "code",
   "execution_count": 95,
   "metadata": {},
   "outputs": [
    {
     "data": {
      "text/plain": [
       "52"
      ]
     },
     "execution_count": 95,
     "metadata": {},
     "output_type": "execute_result"
    }
   ],
   "source": [
    "user_log.filter(user_log.page == 'Cancellation Confirmation').count()"
   ]
  },
  {
   "cell_type": "code",
   "execution_count": 11,
   "metadata": {},
   "outputs": [
    {
     "name": "stdout",
     "output_type": "stream",
     "text": [
      "Median number of interactions per user: 848.0\n",
      "Standard deviation of interactions per user: 1329.531716432519\n",
      "Minimum number of interactions for a single user: 6\n",
      "Maximum number of interactions for a single user: 9632\n"
     ]
    },
    {
     "data": {
      "image/png": "[encoded data removed]",
      "text/plain": [
       "<Figure size 432x288 with 1 Axes>"
      ]
     },
     "metadata": {
      "needs_background": "light"
     },
     "output_type": "display_data"
    }
   ],
   "source": [
    "# Create a pandas dataframe with the distribution of the number of interactions and plot it\n",
    "interactions_df = user_log.groupBy('userId').count().toPandas()\n",
    "interactions_df.plot.hist()\n",
    "print('Median number of interactions per user: {}'.format(interactions_df['count'].median()))\n",
    "print('Standard deviation of interactions per user: {}'.format(interactions_df['count'].std()))\n",
    "print('Minimum number of interactions for a single user: {}'.format(interactions_df['count'].min()))\n",
    "print('Maximum number of interactions for a single user: {}'.format(interactions_df['count'].max()))"
   ]
  },
  {
   "cell_type": "markdown",
   "metadata": {},
   "source": [
    "We can see that there is quite a lot of variability with respect to the number of interactions per user. This was probably to be expected. There will usually be some users who won't use  a service too much while others may actually be power users. As long as we have some interactions and as long as this difference in usage intensity is later on somehow reflected in our features, we will probably be fine.\n",
    "\n",
    "Let us also have a brief look at gender and page to get a better overview of the collected data."
   ]
  },
  {
   "cell_type": "markdown",
   "metadata": {},
   "source": [
    "## Distribution of Gender and Page Accesses (Use of Different Functions of Service)"
   ]
  },
  {
   "cell_type": "code",
   "execution_count": 12,
   "metadata": {},
   "outputs": [
    {
     "data": {
      "image/png": "[encoded data removed]",
      "text/plain": [
       "<Figure size 432x288 with 1 Axes>"
      ]
     },
     "metadata": {
      "needs_background": "light"
     },
     "output_type": "display_data"
    },
    {
     "data": {
      "image/png": "[encoded data removed]",
      "text/plain": [
       "<Figure size 432x288 with 1 Axes>"
      ]
     },
     "metadata": {
      "needs_background": "light"
     },
     "output_type": "display_data"
    },
    {
     "data": {
      "text/plain": [
       "<matplotlib.axes._subplots.AxesSubplot at 0x22e13de8550>"
      ]
     },
     "execution_count": 12,
     "metadata": {},
     "output_type": "execute_result"
    },
    {
     "data": {
      "image/png": "[encoded data removed]",
      "text/plain": [
       "<Figure size 432x288 with 1 Axes>"
      ]
     },
     "metadata": {
      "needs_background": "light"
     },
     "output_type": "display_data"
    }
   ],
   "source": [
    "# Look at gender distribution in overall data, i.e. interactions\n",
    "# I am using relative shares here for an easier comparison with the second case\n",
    "# where gender distribution by user is plotted\n",
    "gender_interaction_df = user_log.groupBy('gender').count().toPandas()\n",
    "gender_interaction_df['count'] = gender_interaction_df['count']/num_obs\n",
    "gender_interaction_df.plot.bar(x = 'gender')\n",
    "plt.show()\n",
    "# Look at gender distribution by user, i.e. how many users identified as male, female or did not provide an answer?\n",
    "gender_user_df = user_log.groupBy('userId', 'gender').count().toPandas()\n",
    "gender_user_df = gender_user_df['gender'].value_counts(normalize = True, dropna = False)\n",
    "gender_user_df.plot.bar(x=gender_user_df.index)\n",
    "plt.show()\n",
    "# Have a look at how many interactions could be attributed to the different kinds of pages\n",
    "# visited by users\n",
    "page_df = user_log.groupBy('page').count().toPandas()\n",
    "page_df.sort_values(by = 'count', ascending = False).plot.bar(x = 'page')"
   ]
  },
  {
   "cell_type": "markdown",
   "metadata": {},
   "source": [
    "## Observations for Gender\n",
    "Looking at the distribution of genders, we can see that while the share of women in overall interactions with Sparkify were larger (53.95%) while their share in users (46.02%) was actually smaller than that of men. This suggests that gender may be an interesting feature to consider later on. With that said, there does not seem be a huge imbalance in gender in the data regardless of which level we look at.\n",
    "\n",
    "## Observations for Page\n",
    "By far the most common interaction was \"NextSong\", i.e. users choosing a song to listen to. Given that Sparkify is a music streaming service this was probably to be expected, but it is still interesting to see how other activities like accessing the homepage of the service, giving a thumbs up for a song, adding songs to a playlist or adding friends happen much less frequently than playing back a song. "
   ]
  },
  {
   "cell_type": "markdown",
   "metadata": {},
   "source": [
    "## Distribution of Dates"
   ]
  },
  {
   "cell_type": "markdown",
   "metadata": {},
   "source": [
    "Finally, before defining churn and looking at how users who have churned differ from those who have not, let us have a brief look at the distribution of dates in the data. To simplify things, I decided to simply look at year and month."
   ]
  },
  {
   "cell_type": "code",
   "execution_count": 13,
   "metadata": {},
   "outputs": [],
   "source": [
    "# Convert timestamps to year-month and save this in a new column \n",
    "ts_to_year_month = udf(lambda x: datetime.fromtimestamp(x/1000).strftime('%Y-%m'))\n",
    "user_log = user_log.withColumn('year_month',ts_to_year_month(user_log.ts))"
   ]
  },
  {
   "cell_type": "code",
   "execution_count": 14,
   "metadata": {},
   "outputs": [
    {
     "data": {
      "image/png": "[encoded data removed]",
      "text/plain": [
       "<Figure size 432x288 with 1 Axes>"
      ]
     },
     "metadata": {
      "needs_background": "light"
     },
     "output_type": "display_data"
    }
   ],
   "source": [
    "# Obtain pandas dataframe containing counts of year-month combinations and plot the result\n",
    "year_month_df = user_log.groupBy('year_month').count().toPandas()\n",
    "year_month_df.plot.bar(x = 'year_month')\n",
    "plt.show()"
   ]
  },
  {
   "cell_type": "markdown",
   "metadata": {},
   "source": [
    "It turns out that the Sparkify log data consists essentially of data collected in October 2018 and November 2018 in almost equal proportions (144,707 and 133,288 rows, respectively). There are also about 159 observations for December 2018.\n",
    "\n",
    "In general, the more data we have the better, but overall user behaviour and preferences may change over time. Hence, if we were to use data collected over e.g. 5 years we would probably need to somehow account for these changes. In addition to this, changes in the service itself such as a new UI or changes in the content available may also cause data not to be comparable anymore. In fact, such changes could be the very reason for users to churn.\n",
    "\n",
    "On the other hand, if the time period covered by our data is too short, this may also have a detrimental effect on the predictive power of our model. With this small dataset covering mostly only two months' worth of data, it could very well be possible that a lot of users only become tired of the service after three months or perhaps half a year.\n",
    "\n",
    "Ultimately, while the data for this project was provided, in real life it could probably be rather important to think about how long the time period covered by the data should be."
   ]
  },
  {
   "cell_type": "markdown",
   "metadata": {},
   "source": [
    "# Defining Churn"
   ]
  },
  {
   "cell_type": "markdown",
   "metadata": {},
   "source": [
    "### Strict Definition\n",
    "Before we can move on to comparing users who churned and those who did not, we first need to think about what we would define as churning. A narrow definition would probably only include people who have deleted their account which is captured in our data as cases where the page feature takes on the value \"Cancellation Confirmation\", i.e. cases where people delete their account. This can happen for both users using the free or the paid version of the streaming service.\n",
    "\n",
    "### A Broader View\n",
    "If we take on a broader view, we could also think of users switching from the paid to the free service as doing some sort of churning. Both leaving the service It turns out that identifying these users is a bit more complicated. While a user can only cancel their registration once, it is very much possible for a customer to downgrade from the paid to the free service and to then upgrade to the paid service again or to even repeat this cycle. Ultimately, it seems most reasonable to only include people who have downgraded their account at least once in the observed time period in our data and whose level for the observation with the most recent time stamp was \"free\".\n",
    "\n",
    "The question then is whether these two kinds of churning should be regarded as identical or whether we should really think of this as a multiclass-classification problem instead of a binary classification problem. Ideally, we should conduct a survey with users who canceled their registration and those who only switched from the paid to the free version of the service to gain some insights as to whether they are similar or quite different. This is obviously unfortunately not possible for this project. \n",
    "\n",
    "Looking at the available data, it turns out that if we also include users who just downgraded their accounts from paid to free, but still kept using the service many differences between the two groups of users become much less clear cut. Therefore, I decided not to include customers who merely downgraded their accounts. Besides, it seems reasonable to argue that the \"economic damage\" or decrease in revenues caused by users who merely downgraded their account is most likely much lower. It therefore seemed justifiable to me to only look at users who completely stopped using the service.\n",
    "\n",
    "Finally, strictly speaking defining churn by just accounting for users who have canceled their account will quite likely underestimate actual churn rates. There may be users who perhaps never used the paid service and who stopped using the service, but never bothered to cancel their registration. Given that the data we have here only covers about two months, it is probably not reasonable to try to cover this problem, but it is certainly a point worth keeping in mind."
   ]
  },
  {
   "cell_type": "code",
   "execution_count": 6,
   "metadata": {},
   "outputs": [],
   "source": [
    "# Identify users who canceled their registration\n",
    "flag_cancel = udf(lambda x: 1 if x == 'Cancellation Confirmation' else 0, IntegerType())\n",
    "user_log = user_log.withColumn('cancel_page',flag_cancel('page'))\n",
    "windowval = Window.partitionBy('userId')\n",
    "user_log = user_log.withColumn('churned',Fsum('cancel_page').over(windowval))"
   ]
  },
  {
   "cell_type": "code",
   "execution_count": 8,
   "metadata": {},
   "outputs": [
    {
     "name": "stdout",
     "output_type": "stream",
     "text": [
      "+-------+\n",
      "|churned|\n",
      "+-------+\n",
      "|      0|\n",
      "|      1|\n",
      "+-------+\n",
      "\n"
     ]
    }
   ],
   "source": [
    "# Check if values of churned column are as expected, i.e. either 0 or 1\n",
    "user_log.select('churned').dropDuplicates().show()"
   ]
  },
  {
   "cell_type": "code",
   "execution_count": 9,
   "metadata": {},
   "outputs": [
    {
     "name": "stdout",
     "output_type": "stream",
     "text": [
      "Number of users who have churned 52\n",
      "Number of users who have not churned 173\n"
     ]
    }
   ],
   "source": [
    "# Have a look at how many users have churned and how many have not\n",
    "print('Number of users who have churned {}'.\\\n",
    "      format(user_log.filter(user_log.churned == 1).select('userId').dropDuplicates().count()))\n",
    "print('Number of users who have not churned {}'.\\\n",
    "      format(user_log.filter(user_log.churned == 0).select('userId').dropDuplicates().count()))"
   ]
  },
  {
   "cell_type": "markdown",
   "metadata": {},
   "source": [
    "## Exploring Data: Comparing Users Who Churned and Those Who Did Not\n",
    "\n",
    "Now that we have defined churn and identified those users who churned, we should have a look at some features and how their distribution differs across the two groups of users: those who have churned and those who have not.\n",
    "\n",
    "In order to avoid potential issues and to also avoid repetition by having to apply all subsequent operations to two dataframes let us not create two different Pyspark dataframes, but rather perform the filtering later on when creating Pandas dataframes for our visualisations. This also means that we should create the required columns first before transferring the data to Pandas dataframes."
   ]
  },
  {
   "cell_type": "markdown",
   "metadata": {},
   "source": [
    "### Defining Features for Comparison\n",
    "Now that we have created two separate dataframes, let us think about some measures we might be interested in. It seems reasonable to assume that users who churned used the service differently than those who did not. It may thus make sense to define some aggregate measures and compare their distributions across the two groups of users.\n",
    "\n",
    "One at least to me intuitive approach would be to e.g. look at how much users of both groups did during a certain time period such as the latest two weeks for which data is available on them. It turns out that if you do this and look at how many times they did certain actions during that period of time, medians and means slightly differ, but overall distributions are very similar.\n",
    "\n",
    "Instead, we could simply look at how much they did overall without restricting the period of time we are considering. We can then also have a look at things like how long their user sessions were on average to get a better understanding of their behaviour. \n",
    "\n",
    "I decided to look at the following aggregated metrics:\n",
    "+ the total number of sessions of each user \n",
    "+ the average length of a user's sessions\n",
    "+ the number of unique artists a user has listened to overall\n",
    "+ the average number of songs listened to during a session\n",
    "+ the average number of songs added to a playlist/ number of friends added during a session\n",
    "+ the number of thumbs ups during a session\n",
    "+ users' gender/ state\n",
    "+ the difference between a user's date of registration and their last recorded activity as an indicator of how long they have\n",
    "  used the service\n",
    "\n",
    "In the following cells these measures are calculated and where necessary some additional explanations were added."
   ]
  },
  {
   "cell_type": "markdown",
   "metadata": {},
   "source": [
    "### Total Number of Sessions for Each User\n",
    "\n",
    "As the first step, let us obtain the total number of sessions for each user. It turns out that we cannot use the approx_count_distinct PySpark SQL function here.\n",
    "\n",
    "Instead we can take the following approach:\n",
    "+ Using a window function obtain the previous sessionId for each user's previous row\n",
    "+ Create a column indicating whether the session ID changed (we need to have it also display a 1 for the very first row)\n",
    "+ Take the sum of \"new_session\" column to obtain the total number of sessions"
   ]
  },
  {
   "cell_type": "code",
   "execution_count": 14,
   "metadata": {},
   "outputs": [
    {
     "data": {
      "text/plain": [
       "Row(artist='Sleeping With Sirens', auth='Logged In', firstName='Darianna', gender='F', itemInSession=0, lastName='Carpenter', length=202.97098, level='free', location='Bridgeport-Stamford-Norwalk, CT', method='PUT', page='NextSong', registration=1538016340000, sessionId=31, song='Captain Tyin Knots VS Mr Walkway (No Way)', status=200, ts=1539003534000, userAgent='\"Mozilla/5.0 (iPhone; CPU iPhone OS 7_1_2 like Mac OS X) AppleWebKit/537.51.2 (KHTML, like Gecko) Version/7.0 Mobile/11D257 Safari/9537.53\"', userId='100010', cancel_page=0, churned=0, sessionId_prev=None, new_session=1, sessions_num=7)"
      ]
     },
     "execution_count": 14,
     "metadata": {},
     "output_type": "execute_result"
    }
   ],
   "source": [
    "# Create new column sessionId_prev using approach described at \n",
    "# https://www.arundhaj.com/blog/calculate-difference-with-previous-row-in-pyspark.html\n",
    "prev_val_window = Window.partitionBy('userId').orderBy('ts')\n",
    "user_log = user_log.withColumn('sessionId_prev',Flag(user_log.sessionId).over(prev_val_window))\n",
    "user_log.head()\n",
    "\n",
    "# create column 'new_session' (0 or 1)\n",
    "new_session = udf(lambda session_ids: 1 if (session_ids[0] != session_ids[1]) & (session_ids[0] is not None) else 0, \n",
    "                  IntegerType())\n",
    "# Create column indicating whether the session ID is new and also set it to 1 for the first session ID for\n",
    "# each user which is the only case where the previous session ID column will have a value of null\n",
    "user_log = user_log.withColumn('new_session',Fwhen(Fisnull(user_log.sessionId_prev), 1).\\\n",
    "                                                      otherwise(new_session(struct('sessionId_prev','sessionId'))))\n",
    "\n",
    "user_log.head()\n",
    "\n",
    "# Obtain total number of sessions for each user\n",
    "user_log = user_log.withColumn('sessions_num', Fsum('new_session').over(windowval))\n",
    "user_log.head()"
   ]
  },
  {
   "cell_type": "markdown",
   "metadata": {},
   "source": [
    "### Average Session Length\n",
    "\n",
    "We can now calculate the average lenght of a user's sessions by summing up the differences between the timestamps recorded during a session and dividing them by the number of total sessions. Note that we need to ignore the difference between the last timestamp of one session and the first timestamp of the next session in order not to count users' inactivity as activity. "
   ]
  },
  {
   "cell_type": "code",
   "execution_count": 16,
   "metadata": {},
   "outputs": [
    {
     "data": {
      "text/plain": [
       "Row(artist='Sleeping With Sirens', auth='Logged In', firstName='Darianna', gender='F', itemInSession=0, lastName='Carpenter', length=202.97098, level='free', location='Bridgeport-Stamford-Norwalk, CT', method='PUT', page='NextSong', registration=1538016340000, sessionId=31, song='Captain Tyin Knots VS Mr Walkway (No Way)', status=200, ts=1539003534000, userAgent='\"Mozilla/5.0 (iPhone; CPU iPhone OS 7_1_2 like Mac OS X) AppleWebKit/537.51.2 (KHTML, like Gecko) Version/7.0 Mobile/11D257 Safari/9537.53\"', userId='100010', cancel_page=0, churned=0, sessionId_prev=None, new_session=1, sessions_num=7, ts_prev=None, ts_delta=0.0, total_time_sessions=1081.3833333333334, avg_session_lgth=154.48333333333335)"
      ]
     },
     "execution_count": 16,
     "metadata": {},
     "output_type": "execute_result"
    }
   ],
   "source": [
    "# Create Column containing timestamp from previous row\n",
    "user_log = user_log.withColumn('ts_prev',Flag(user_log.ts).over(prev_val_window))\n",
    "user_log.head()\n",
    "\n",
    "# Calculate time elapsed since previous row in minutes using UDF only within sessions and not between them, i.e. only\n",
    "# when the session ID is not different from the previous row\n",
    "timedelta_udf = udf(lambda x: ((datetime.fromtimestamp(x[1]/1000) - datetime.fromtimestamp(x[0]/1000)).\\\n",
    "                    total_seconds()/60) if (x[0] is not None)&(x[2] != 1) else 0, DoubleType())\n",
    "user_log = user_log.withColumn('ts_delta',Fwhen(Fisnull(user_log.ts_prev), 0).\\\n",
    "                               otherwise(timedelta_udf(struct('ts_prev','ts','new_session'))))\n",
    "\n",
    "# Sum up total length of all sessions for each user\n",
    "user_log = user_log.withColumn('total_time_sessions',Fsum('ts_delta').over(windowval))\n",
    "user_log.head()\n",
    "\n",
    "# Calculate average length of sessions\n",
    "avg_time = udf(lambda x: x[0] / x[1], DoubleType())\n",
    "user_log = user_log.withColumn('avg_session_lgth', avg_time(struct('total_time_sessions','sessions_num')))\n",
    "user_log.head()"
   ]
  },
  {
   "cell_type": "markdown",
   "metadata": {},
   "source": [
    "### Calculate Average Numbers of Activity Per Session\n",
    "As we have just calculated the number of sessions above, we can now use this information to calculate how many times on average users performed certain activities during a single session."
   ]
  },
  {
   "cell_type": "code",
   "execution_count": 17,
   "metadata": {},
   "outputs": [
    {
     "data": {
      "text/plain": [
       "Row(artist='Sleeping With Sirens', auth='Logged In', firstName='Darianna', gender='F', itemInSession=0, lastName='Carpenter', length=202.97098, level='free', location='Bridgeport-Stamford-Norwalk, CT', method='PUT', page='NextSong', registration=1538016340000, sessionId=31, song='Captain Tyin Knots VS Mr Walkway (No Way)', status=200, ts=1539003534000, userAgent='\"Mozilla/5.0 (iPhone; CPU iPhone OS 7_1_2 like Mac OS X) AppleWebKit/537.51.2 (KHTML, like Gecko) Version/7.0 Mobile/11D257 Safari/9537.53\"', userId='100010', cancel_page=0, churned=0, sessionId_prev=None, new_session=1, sessions_num=7, ts_prev=None, ts_delta=0.0, total_time_sessions=1081.3833333333334, avg_session_lgth=154.48333333333335, song_flag=1, home_flag=0, thumbs_up_flag=0, thumbs_down_flag=0, add_playlist_flag=0, add_friend_flag=0, settings_flag=0, help_flag=0, error_flag=0, song_num=275, home_num=11, thumbs_up_num=17, thumbs_down_num=5, add_playlist_num=7, add_friend_num=4, settings_num=0, help_num=2, error_num=0, song_avg_session=39.285714285714285, home_avg_session=1.5714285714285714, thumbs_up_avg_session=2.4285714285714284, thumbs_down_avg_session=0.7142857142857143, add_playlist_avg_session=1.0, add_friend_avg_session=0.5714285714285714, settings_avg_session=0.0, help_avg_session=0.2857142857142857, error_avg_session=0.0)"
      ]
     },
     "execution_count": 17,
     "metadata": {},
     "output_type": "execute_result"
    }
   ],
   "source": [
    "# Define a UDF to subsequently create a new column indicating that a user performed an activity\n",
    "flag_activity = udf(lambda column, activity: 1 if (column == activity) else 0, IntegerType())\n",
    "\n",
    "# Create list containing names of new  flag columns to be created\n",
    "flag_cols = ['song', 'home', 'thumbs_up', 'thumbs_down', 'add_playlist', 'add_friend', 'settings', 'help', 'error']\n",
    "activities_list = ['NextSong','Home', 'Thumbs Up', 'Thumbs Down', 'Add to Playlist','Add Friend', 'Settings', 'Help', 'Error']\n",
    "\n",
    "# Create the respective flag columns and calculate sums\n",
    "# Again using approach as found at \n",
    "# https://stackoverflow.com/questions/47260999/how-to-pass-the-parameter-to-user-defined-function\n",
    "# to pass in parameter to udf by defining a column containing a constant value -> lit(activity)\n",
    "for activity,col_name in zip(activities_list, flag_cols):\n",
    "    user_log = user_log.withColumn(col_name+'_flag', flag_activity('page', lit(activity)))\n",
    "\n",
    "for col in flag_cols:    \n",
    "    user_log = user_log.withColumn(col+'_num', Fsum(col+'_flag').over(windowval))\n",
    "\n",
    "avg_per_session = udf(lambda numbers: numbers[0] / numbers[1], DoubleType())\n",
    "    \n",
    "for col in flag_cols:\n",
    "    user_log = user_log.withColumn(col+'_avg_session', avg_per_session(struct(col+'_num', 'sessions_num')))\n",
    "\n",
    "user_log.head()"
   ]
  },
  {
   "cell_type": "markdown",
   "metadata": {},
   "source": [
    "### Calculating Total Usage Length\n",
    "We can also have a look at for how long each user has been using the service since we have a column \"registration\" indicating the registration date of a user (again as a timestamp) and timestamps for each activity. One possible approach then is to look for the timestamp recorded for the last activity of a user and subtract from it the registration date."
   ]
  },
  {
   "cell_type": "code",
   "execution_count": 19,
   "metadata": {},
   "outputs": [
    {
     "data": {
      "text/plain": [
       "Row(artist='Sleeping With Sirens', auth='Logged In', firstName='Darianna', gender='F', itemInSession=0, lastName='Carpenter', length=202.97098, level='free', location='Bridgeport-Stamford-Norwalk, CT', method='PUT', page='NextSong', registration=1538016340000, sessionId=31, song='Captain Tyin Knots VS Mr Walkway (No Way)', status=200, ts=1539003534000, userAgent='\"Mozilla/5.0 (iPhone; CPU iPhone OS 7_1_2 like Mac OS X) AppleWebKit/537.51.2 (KHTML, like Gecko) Version/7.0 Mobile/11D257 Safari/9537.53\"', userId='100010', cancel_page=0, churned=0, sessionId_prev=None, new_session=1, sessions_num=7, ts_prev=None, ts_delta=0.0, total_time_sessions=1081.3833333333334, avg_session_lgth=154.48333333333335, song_flag=1, home_flag=0, thumbs_up_flag=0, thumbs_down_flag=0, add_playlist_flag=0, add_friend_flag=0, settings_flag=0, help_flag=0, error_flag=0, song_num=275, home_num=11, thumbs_up_num=17, thumbs_down_num=5, add_playlist_num=7, add_friend_num=4, settings_num=0, help_num=2, error_num=0, song_avg_session=39.285714285714285, home_avg_session=1.5714285714285714, thumbs_up_avg_session=2.4285714285714284, thumbs_down_avg_session=0.7142857142857143, add_playlist_avg_session=1.0, add_friend_avg_session=0.5714285714285714, settings_avg_session=0.0, help_avg_session=0.2857142857142857, error_avg_session=0.0, last_ts=1542823952000, usage_length=55.60199074074074)"
      ]
     },
     "execution_count": 19,
     "metadata": {},
     "output_type": "execute_result"
    }
   ],
   "source": [
    "# Take similar approach as above to obtain last value of timestamp for each user ID using approach found at \n",
    "# https://stackoverflow.com/questions/50468056/get-the-last-value-using-spark-window-function\n",
    "window_level = Window.partitionBy(\"userId\").orderBy(\"ts\").rowsBetween(Window.unboundedPreceding, Window.unboundedFollowing)\n",
    "user_log = user_log.withColumn('last_ts',last('ts').over(window_level))\n",
    "\n",
    "# Define a UDF to calculate the difference in fractions of days between registration date and last date for which activity\n",
    "# was observed\n",
    "ts_diff_days = (lambda ts_struct: (datetime.fromtimestamp(ts_struct[1]/1000) - datetime.fromtimestamp(ts_struct[0]/1000)).\\\n",
    "                         total_seconds()/(24*3600))\n",
    "ts_diff_udf = udf(ts_diff_days, DoubleType())\n",
    "\n",
    "user_log = user_log.withColumn('usage_length',ts_diff_udf(struct('registration','last_ts')))\n",
    "user_log.head()"
   ]
  },
  {
   "cell_type": "markdown",
   "metadata": {},
   "source": [
    "### Calculating Unique Number of Artists\n",
    "In this case we can make use of the approx_count_distinct function to obtain the number of unique artists a user listened to."
   ]
  },
  {
   "cell_type": "code",
   "execution_count": 20,
   "metadata": {},
   "outputs": [
    {
     "data": {
      "text/plain": [
       "Row(artist='Sleeping With Sirens', auth='Logged In', firstName='Darianna', gender='F', itemInSession=0, lastName='Carpenter', length=202.97098, level='free', location='Bridgeport-Stamford-Norwalk, CT', method='PUT', page='NextSong', registration=1538016340000, sessionId=31, song='Captain Tyin Knots VS Mr Walkway (No Way)', status=200, ts=1539003534000, userAgent='\"Mozilla/5.0 (iPhone; CPU iPhone OS 7_1_2 like Mac OS X) AppleWebKit/537.51.2 (KHTML, like Gecko) Version/7.0 Mobile/11D257 Safari/9537.53\"', userId='100010', cancel_page=0, churned=0, sessionId_prev=None, new_session=1, sessions_num=7, ts_prev=None, ts_delta=0.0, total_time_sessions=1081.3833333333334, avg_session_lgth=154.48333333333335, song_flag=1, home_flag=0, thumbs_up_flag=0, thumbs_down_flag=0, add_playlist_flag=0, add_friend_flag=0, settings_flag=0, help_flag=0, error_flag=0, song_num=275, home_num=11, thumbs_up_num=17, thumbs_down_num=5, add_playlist_num=7, add_friend_num=4, settings_num=0, help_num=2, error_num=0, song_avg_session=39.285714285714285, home_avg_session=1.5714285714285714, thumbs_up_avg_session=2.4285714285714284, thumbs_down_avg_session=0.7142857142857143, add_playlist_avg_session=1.0, add_friend_avg_session=0.5714285714285714, settings_avg_session=0.0, help_avg_session=0.2857142857142857, error_avg_session=0.0, last_ts=1542823952000, usage_length=55.60199074074074, dist_num_artists=249)"
      ]
     },
     "execution_count": 20,
     "metadata": {},
     "output_type": "execute_result"
    }
   ],
   "source": [
    "# Add column containing unique number of artists a user listened to using approx_count_distinct as explained at\n",
    "# https://stackoverflow.com/questions/45869186/pyspark-count-distinct-over-a-window\n",
    "user_log = user_log.withColumn('dist_num_artists', approx_count_distinct('artist').over(windowval))\n",
    "user_log.head()"
   ]
  },
  {
   "cell_type": "markdown",
   "metadata": {},
   "source": [
    "### User Location\n",
    "Depending on the location, users' preferences or their economic situation may differ. Hence, the location could also be an interesting feature to investigate. Since this is a categorical variable, we will ultimately, should we indeed use this feature, by using e.g. one-hot encoding need about as many columns as there are different locations. As it was included in this data, the location column contains both a user's city and the state they live in. To simlify this problem, let us just have a look at the state. We can do so by creating a new column containing just the two last characters of the location column."
   ]
  },
  {
   "cell_type": "code",
   "execution_count": 23,
   "metadata": {},
   "outputs": [
    {
     "name": "stdout",
     "output_type": "stream",
     "text": [
      "Row(artist='Sleeping With Sirens', auth='Logged In', firstName='Darianna', gender='F', itemInSession=0, lastName='Carpenter', length=202.97098, level='free', location='Bridgeport-Stamford-Norwalk, CT', method='PUT', page='NextSong', registration=1538016340000, sessionId=31, song='Captain Tyin Knots VS Mr Walkway (No Way)', status=200, ts=1539003534000, userAgent='\"Mozilla/5.0 (iPhone; CPU iPhone OS 7_1_2 like Mac OS X) AppleWebKit/537.51.2 (KHTML, like Gecko) Version/7.0 Mobile/11D257 Safari/9537.53\"', userId='100010', cancel_page=0, churned=0, sessionId_prev=None, new_session=1, sessions_num=7, ts_prev=None, ts_delta=0.0, total_time_sessions=1081.3833333333334, avg_session_lgth=154.48333333333335, song_flag=1, home_flag=0, thumbs_up_flag=0, thumbs_down_flag=0, add_playlist_flag=0, add_friend_flag=0, settings_flag=0, help_flag=0, error_flag=0, song_num=275, home_num=11, thumbs_up_num=17, thumbs_down_num=5, add_playlist_num=7, add_friend_num=4, settings_num=0, help_num=2, error_num=0, song_avg_session=39.285714285714285, home_avg_session=1.5714285714285714, thumbs_up_avg_session=2.4285714285714284, thumbs_down_avg_session=0.7142857142857143, add_playlist_avg_session=1.0, add_friend_avg_session=0.5714285714285714, settings_avg_session=0.0, help_avg_session=0.2857142857142857, error_avg_session=0.0, last_ts=1542823952000, usage_length=55.60199074074074, dist_num_artists=249, state='CT', num_states=1)\n",
      "+----------+\n",
      "|num_states|\n",
      "+----------+\n",
      "|         1|\n",
      "+----------+\n",
      "\n"
     ]
    }
   ],
   "source": [
    "# Create a column containing the state a user resides in\n",
    "extract_state = udf(lambda location: location[-2:])\n",
    "user_log = user_log.withColumn('state', extract_state('location'))\n",
    "user_log = user_log.withColumn('num_states', approx_count_distinct('state').over(windowval))\n",
    "print(user_log.head())\n",
    "# Check if the number of unique values of the states is indeed just 1 for each user\n",
    "user_log.select('num_states').dropDuplicates().show()"
   ]
  },
  {
   "cell_type": "markdown",
   "metadata": {},
   "source": [
    "## Comparing Features Across the Two Groups\n",
    "\n",
    "Now that we have defined some features, let us compare their distributions across the two user groups. In order to do so, we will need to move the aggregated features to pandas dataframes. \n",
    "\n",
    "Given that we have a relatively small number of users in the dataset used for our exploratory data analysis we can just select the relevant aggregated columns and then drop the duplicates so that we end up with only row per user and then save the data in Pandas dataframes (one for each of the two groups). We can then look at the mean, median and standard deviation of these features for both groups and also visualise the different distributions. "
   ]
  },
  {
   "cell_type": "code",
   "execution_count": 29,
   "metadata": {},
   "outputs": [],
   "source": [
    "# Create a pandas dataframe for each user group containing the measures we are interested in\n",
    "# Define the relevant columns in a list\n",
    "cols_analysis = ['userId','sessions_num','dist_num_artists','avg_session_lgth','song_avg_session','home_avg_session', \n",
    "                 'thumbs_up_avg_session', 'thumbs_down_avg_session', 'add_playlist_avg_session', 'add_friend_avg_session', \n",
    "                 'settings_avg_session', 'help_avg_session', 'error_avg_session', 'usage_length', 'state', 'gender']\n",
    "churned_df = user_log.filter(user_log.churned == 1).select(*cols_analysis).dropDuplicates().toPandas()\n",
    "not_churned_df = user_log.filter(user_log.churned == 0).select(*cols_analysis).dropDuplicates().toPandas()"
   ]
  },
  {
   "cell_type": "code",
   "execution_count": 26,
   "metadata": {
    "scrolled": false
   },
   "outputs": [
    {
     "name": "stdout",
     "output_type": "stream",
     "text": [
      "median for sessions_num for churned users : 8.5\n",
      "mean for sessions_num for churned users : 10.326923076923077\n",
      "sd for sessions_num for churned users : 8.61080295917924\n",
      "median for sessions_num for users who have not churned : 11.0\n",
      "mean for sessions_num for users who have not churned : 15.254335260115607\n",
      "sd for sessions_num for users who have not churned : 15.866963127421297\n",
      "\n",
      "\n",
      "median for dist_num_artists for churned users : 396.0\n",
      "mean for dist_num_artists for churned users : 526.1923076923077\n",
      "sd for dist_num_artists for churned users : 458.1856819624053\n",
      "median for dist_num_artists for users who have not churned : 615.0\n",
      "mean for dist_num_artists for users who have not churned : 752.0751445086705\n",
      "sd for dist_num_artists for users who have not churned : 637.8203801570855\n",
      "\n",
      "\n",
      "median for avg_session_lgth for churned users : 213.5941666666668\n",
      "mean for avg_session_lgth for churned users : 259.57453028914773\n",
      "sd for avg_session_lgth for churned users : 184.29980901838726\n",
      "median for avg_session_lgth for users who have not churned : 268.32999999999913\n",
      "mean for avg_session_lgth for users who have not churned : 296.6607077358498\n",
      "sd for avg_session_lgth for users who have not churned : 174.1800978265034\n",
      "\n",
      "\n",
      "median for song_avg_session for churned users : 52.0625\n",
      "mean for song_avg_session for churned users : 61.80701366093039\n",
      "sd for song_avg_session for churned users : 42.49240102651722\n",
      "median for song_avg_session for users who have not churned : 66.0\n",
      "mean for song_avg_session for users who have not churned : 71.16508490106324\n",
      "sd for song_avg_session for users who have not churned : 42.15219896767451\n",
      "\n",
      "\n",
      "median for home_avg_session for churned users : 2.8863636363636367\n",
      "mean for home_avg_session for churned users : 2.9892395473161733\n",
      "sd for home_avg_session for churned users : 1.5313853807103555\n",
      "median for home_avg_session for users who have not churned : 2.9\n",
      "mean for home_avg_session for users who have not churned : 3.170290588289377\n",
      "sd for home_avg_session for users who have not churned : 1.5729352348587475\n",
      "\n",
      "\n",
      "median for thumbs_up_avg_session for churned users : 2.494047619047619\n",
      "mean for thumbs_up_avg_session for churned users : 3.2532820726548404\n",
      "sd for thumbs_up_avg_session for churned users : 2.500475074397092\n",
      "median for thumbs_up_avg_session for users who have not churned : 3.806451612903226\n",
      "mean for thumbs_up_avg_session for users who have not churned : 3.879871804238623\n",
      "sd for thumbs_up_avg_session for users who have not churned : 2.2582681121476726\n",
      "\n",
      "\n",
      "median for thumbs_down_avg_session for churned users : 0.8564593301435407\n",
      "mean for thumbs_down_avg_session for churned users : 0.8844787935062406\n",
      "sd for thumbs_down_avg_session for churned users : 0.5615143909212374\n",
      "median for thumbs_down_avg_session for users who have not churned : 0.6206896551724138\n",
      "mean for thumbs_down_avg_session for users who have not churned : 0.7301845779681009\n",
      "sd for thumbs_down_avg_session for users who have not churned : 0.5950657202888714\n",
      "\n",
      "\n",
      "median for add_playlist_avg_session for churned users : 1.554945054945055\n",
      "mean for add_playlist_avg_session for churned users : 1.7825300861764906\n",
      "sd for add_playlist_avg_session for churned users : 1.2863394902860432\n",
      "median for add_playlist_avg_session for users who have not churned : 1.875\n",
      "mean for add_playlist_avg_session for users who have not churned : 1.9731101022499054\n",
      "sd for add_playlist_avg_session for users who have not churned : 1.2749275489934517\n",
      "\n",
      "\n",
      "median for add_friend_avg_session for churned users : 1.1213235294117647\n",
      "mean for add_friend_avg_session for churned users : 1.1816339342199667\n",
      "sd for add_friend_avg_session for churned users : 0.9646062123899832\n",
      "median for add_friend_avg_session for users who have not churned : 1.3125\n",
      "mean for add_friend_avg_session for users who have not churned : 1.4313906778416212\n",
      "sd for add_friend_avg_session for users who have not churned : 0.9285083438226278\n",
      "\n",
      "\n",
      "median for settings_avg_session for churned users : 0.4494949494949495\n",
      "mean for settings_avg_session for churned users : 0.5417034274390191\n",
      "sd for settings_avg_session for churned users : 0.4974977816858432\n",
      "median for settings_avg_session for users who have not churned : 0.4117647058823529\n",
      "mean for settings_avg_session for users who have not churned : 0.4891394267662683\n",
      "sd for settings_avg_session for users who have not churned : 0.4419818033984229\n",
      "\n",
      "\n",
      "median for help_avg_session for churned users : 0.3333333333333333\n",
      "mean for help_avg_session for churned users : 0.38979114536925924\n",
      "sd for help_avg_session for churned users : 0.31116992493147644\n",
      "median for help_avg_session for users who have not churned : 0.3888888888888889\n",
      "mean for help_avg_session for users who have not churned : 0.44661561947966444\n",
      "sd for help_avg_session for users who have not churned : 0.342147031329887\n",
      "\n",
      "\n",
      "median for error_avg_session for churned users : 0.0\n",
      "mean for error_avg_session for churned users : 0.06316018670894831\n",
      "sd for error_avg_session for churned users : 0.10039022409141453\n",
      "median for error_avg_session for users who have not churned : 0.043478260869565216\n",
      "mean for error_avg_session for users who have not churned : 0.08945487816782498\n",
      "sd for error_avg_session for users who have not churned : 0.13712955098011861\n",
      "\n",
      "\n",
      "median for usage_length for churned users : 51.28939236111111\n",
      "mean for usage_length for churned users : 57.28756343482906\n",
      "sd for usage_length for churned users : 36.62368095524412\n",
      "median for usage_length for users who have not churned : 75.42172453703704\n",
      "mean for usage_length for users who have not churned : 86.58160203917787\n",
      "sd for usage_length for users who have not churned : 35.34645892319854\n",
      "\n",
      "\n"
     ]
    }
   ],
   "source": [
    "for col in ['sessions_num','dist_num_artists','avg_session_lgth','song_avg_session','home_avg_session', \n",
    "            'thumbs_up_avg_session', 'thumbs_down_avg_session', 'add_playlist_avg_session', 'add_friend_avg_session', \n",
    "            'settings_avg_session', 'help_avg_session', 'error_avg_session', 'usage_length']:\n",
    "    print('median for '+str(col)+' for churned users : '+str(churned_df[col].median()))\n",
    "    print('mean for '+str(col)+' for churned users : '+str(churned_df[col].mean()))\n",
    "    print('sd for '+str(col)+' for churned users : '+str(churned_df[col].std()))\n",
    "    print('median for '+str(col)+ ' for users who have not churned : '+ str(not_churned_df[col].median()))\n",
    "    print('mean for '+str(col)+' for users who have not churned : '+str(not_churned_df[col].mean()))\n",
    "    print('sd for '+str(col)+' for users who have not churned : '+str(not_churned_df[col].std()))\n",
    "    print('\\n')"
   ]
  },
  {
   "cell_type": "markdown",
   "metadata": {},
   "source": [
    "### Identifying Interesting Features\n",
    "\n",
    "By looking at the above values, we can easily identify some features which may be interesting for our machine learning model(first values in parentheses refer to churners while the second refer to non-churners):\n",
    "+ Number of sessions (**sessions_num**): Both the median (8.5 vs. 11.0) and the mean (10.33 vs 15.25) are noticeably different across the two groups. As far as the standard deviation is concerned, differences are even more pronounced with 8.61 for users who have not churned vs 15.87 for those who have.\n",
    "+ Number of unique artists listened to (**dist_num_artists**): There are significant differences for the median (396.0 vs 615.0), the mean (526.19 vs 752.08) and the standard deviation (458.19 vs 637.82).\n",
    "+ Average session length (**avg_session_lgth**): The average session length differs a bit across the two groups as far as median (213.59 vs 268.33) and mean (259.57 vs 296.66) are concerned. The difference in standard deviations is rather small (184.30 vs 174.18).\n",
    "+ Average number of songs listened to per session(**song_avg_session**):There are significant differences for the median (52.07 vs 66.0) and the mean (61.81 vs 71.17) while the standard deviations are almost identical.\n",
    "+ Usage length of the service (**usage_length**): Both the median (51.29 vs 75.42) and the mean (57.29 vs 86.58) differ very noticeably across the two groups while the standard deviations are almost identical\n",
    "\n",
    "The other features considered above showed only little variation across the two groups and/ or had very low mean values such that they are extremely unlikely to have any predictive power."
   ]
  },
  {
   "cell_type": "markdown",
   "metadata": {},
   "source": [
    "### Visualising the Features Across the Two Groups \n",
    "Let us also have a briefly visualise the distributions of the interesting features we have just identified."
   ]
  },
  {
   "cell_type": "code",
   "execution_count": 89,
   "metadata": {},
   "outputs": [],
   "source": [
    "# Create function to make plots to compare distributions of different features across the two groups\n",
    "# y-axis labels are displayed as percentages using approach found at \n",
    "# https://stackoverflow.com/questions/51473993/plot-an-histogram-with-y-axis-as-percentage-using-funcformatter\n",
    "def plot_features(cols, num_rows, df_1, df_2, x_inc_list, y_max_list, y_inc_list, x_labels = None):\n",
    "    '''\n",
    "    Plots histograms of features in two dataframes df_1 and df_2 from the columns defined in cols variable\n",
    "    INPUT:\n",
    "        cols - list containing columns\n",
    "        num_rows - number of rows to be used for plotting\n",
    "        df_1, df_2 - Pandas dataframes containing the relevant data\n",
    "        (optional) x_labels - labels for the features contained in column list\n",
    "        y_max_list - list containing maximum y value to be plotted\n",
    "        y_inc_list - list containing step size used for incrementing y-axis ticks\n",
    "        x_inc_list - list containing step size used for bucket size and as increment size of x-axis ticks  \n",
    "    OUTPUT:\n",
    "        None - only plots histograms for selected columns\n",
    "    '''\n",
    "    # Initialise counter for subplots to 0 \n",
    "    i = 0\n",
    "    \n",
    "    # Initialise index for lists\n",
    "    j = 0\n",
    "    \n",
    "    plt.figure(figsize = (20,20))\n",
    "\n",
    "    # Use a loop to plot histograms to compare how often users who have churned and those who have not\n",
    "    # performed certain actions \n",
    "    for col in cols:\n",
    "        # Plot for first group\n",
    "        plt.subplot(num_rows, 2, i+1)\n",
    "        \n",
    "        try:\n",
    "            x_label = x_label_list[i]\n",
    "        except:\n",
    "            x_label = col\n",
    "    \n",
    "        x_max_1 = df_1[col].max() \n",
    "        x_max_2 = df_2[col].max()\n",
    "        x_max = np.max([x_max_1, x_max_2])\n",
    "        x_inc = x_inc_list[j]\n",
    "        y_inc = y_inc_list[j]\n",
    "        y_max = y_max_list[j]\n",
    "   \n",
    "    \n",
    "        # Manually define bin_edges to make histogram look nicer if x_inc_list[i] exists\n",
    "        bin_edges = np.arange(0, x_max+x_inc, x_inc)\n",
    "        plt.hist(data = df_1, x = col, bins = bin_edges,\n",
    "                 weights = np.ones(df_1.shape[0])/ df_1.shape[0])\n",
    "        # Further customisation to make histogram look better\n",
    "        sns.set(style=\"ticks\")\n",
    "        sns.despine(right=True,top=True)\n",
    "        plt.gca().yaxis.set_major_formatter(PercentFormatter(1))\n",
    "        # Enhance plot if additional arguments were pased to function\n",
    "        plt.yticks(np.arange(0, y_max+y_inc, y_inc))\n",
    "        plt.xticks(np.arange(0, x_max + x_inc, x_inc))\n",
    "     \n",
    "        \n",
    "        try:\n",
    "            plt.xlabel(x_label)\n",
    "        except:\n",
    "            pass\n",
    "\n",
    "        # Plot for second group \n",
    "        plt.subplot(num_rows, 2, i+2)\n",
    "            \n",
    "         # Use bin_edges, if available\n",
    "        plt.hist(data = df_2, x = col, bins = bin_edges,\n",
    "                 weights = np.ones(df_2.shape[0])/ df_2.shape[0])\n",
    "        # Further customisation to make histogram look better\n",
    "        sns.set(style=\"ticks\")\n",
    "        sns.despine(right=True,top=True)\n",
    "        plt.gca().yaxis.set_major_formatter(PercentFormatter(1))\n",
    "        # Enhance plot if additional arguments were pased to function\n",
    "        plt.yticks(np.arange(0, y_max+y_inc, y_inc))\n",
    "        plt.xticks(np.arange(0, x_max + x_inc, x_inc))\n",
    "   \n",
    "        try:\n",
    "            plt.xlabel(x_label)\n",
    "        except:\n",
    "            pass\n",
    "    \n",
    "        # Increment subplots counter\n",
    "        i+=2\n",
    "        # Increment list counter\n",
    "        j+=1"
   ]
  },
  {
   "cell_type": "code",
   "execution_count": 98,
   "metadata": {},
   "outputs": [
    {
     "data": {
      "image/png": "[encoded data removed]",
      "text/plain": [
       "<Figure size 1440x1440 with 10 Axes>"
      ]
     },
     "metadata": {},
     "output_type": "display_data"
    }
   ],
   "source": [
    "# Plot the most interesting columns as identified above by inspecting median, mean and standard deviation values\n",
    "cols_1 = ['sessions_num','dist_num_artists', 'usage_length', 'avg_session_lgth', 'song_avg_session']\n",
    "x_incs_1 = [10, 200, 20, 50, 20]\n",
    "y_max_1 = [0.6, 0.3, 0.5, 0.2, 0.2]\n",
    "y_incs_1 = [0.1, 0.1, 0.1, 0.1, 0.1]\n",
    "plot_features(cols_1, 5, churned_df, not_churned_df, x_inc_list = x_incs_1, y_max_list = y_max_1, y_inc_list = y_incs_1)"
   ]
  },
  {
   "cell_type": "markdown",
   "metadata": {},
   "source": [
    "Visual inspection of the the relevant features identified confirms the initial hunch that these variables may help us in identifying which users may end up churning.\n",
    "\n",
    "As the final step, before moving on to the modelling stage, let us have a brief look at the qualitative variables \"gender\" and \"state\". "
   ]
  },
  {
   "cell_type": "code",
   "execution_count": 119,
   "metadata": {},
   "outputs": [
    {
     "data": {
      "text/plain": [
       "<Figure size 1440x1080 with 0 Axes>"
      ]
     },
     "metadata": {},
     "output_type": "display_data"
    },
    {
     "data": {
      "image/png": "[encoded data removed]",
      "text/plain": [
       "<Figure size 1080x576 with 2 Axes>"
      ]
     },
     "metadata": {},
     "output_type": "display_data"
    },
    {
     "data": {
      "image/png": "[encoded data removed]",
      "text/plain": [
       "<Figure size 1080x576 with 2 Axes>"
      ]
     },
     "metadata": {},
     "output_type": "display_data"
    }
   ],
   "source": [
    "# Create a plot for distribution of gender across the two groups\n",
    "y_max_list = [0.6, 0.16]\n",
    "y_inc_list = [0.1, 0.02]\n",
    "qual_cols = ['gender', 'state']\n",
    "title_list = ['Gender', 'Location (State)']\n",
    "base_colour = sns.color_palette()[0]\n",
    "plt.figure(figsize = (20,15))\n",
    "j = 0\n",
    "for i in range(2):\n",
    "    plt.figure(figsize = (15,8))\n",
    "    y_max = y_max_list[i]\n",
    "    y_inc = y_inc_list[i]\n",
    "    col = qual_cols[i]\n",
    "    title_colname = title_list[i] \n",
    "    \n",
    "    plt.subplot(2, 2, j+1)\n",
    "    plt.title(title_colname + ' Distribution for Churned Users')\n",
    "    churned_df[col].value_counts(normalize = True).plot.bar(x = 'index', y = 'counts', color = sns.color_palette()[0])\n",
    "    sns.set(style=\"ticks\")\n",
    "    sns.despine(right=True,top=True)\n",
    "    plt.yticks(np.arange(0, y_max+y_inc, y_inc))\n",
    "    \n",
    "    plt.subplot(2, 2, j+2)\n",
    "    plt.title(title_colname + ' Distribution for Non-Churned Users')\n",
    "    not_churned_df[col].value_counts(normalize = True).plot.bar(x = 'index', y = 'counts', color = sns.color_palette()[0])\n",
    "    sns.set(style=\"ticks\")\n",
    "    sns.despine(right=True,top=True)\n",
    "    plt.yticks(np.arange(0, y_max+y_inc, y_inc))\n",
    "    j+=2"
   ]
  },
  {
   "cell_type": "markdown",
   "metadata": {},
   "source": [
    "In the graphs above we can observe that the distribution of gender differs noticeably across the two groups. The distribution of the location also seems to differ a bit across the two groups. Hence, both features may potentially help us in predicting whether customers will churn or not."
   ]
  },
  {
   "cell_type": "markdown",
   "metadata": {},
   "source": [
    "# Modeling\n",
    "Split the full dataset into train, test, and validation sets. Test out several of the machine learning methods you learned. Evaluate the accuracy of the various models, tuning parameters as necessary. Determine your winning model based on test accuracy and report results on the validation set. Since the churned users are a fairly small subset, I suggest using F1 score as the metric to optimize."
   ]
  },
  {
   "cell_type": "markdown",
   "metadata": {},
   "source": [
    "# Modeling\n",
    "Now that we have identified some promising features, let us just keep these features for our modeling and drop duplicate rows. Since all of these features are aggregate measures, we will end up with a single row for each user by doing so.\n",
    "\n",
    "We can then proceed to our standard machine learning approach of splitting our dataset into a training, validation and test set. This can then be used on a number of standard classification algorithms to identify which one works best. Finally, we can then optimise the best machine learning algorithm we identified by \n",
    "\n",
    "### Imbalanced Dataset\n",
    "As we have seen above, the share of users who have not churned is more than three times as high as that of those who have churned. In principle we could deal with this by oversampling churned users, but especially in the case of the big data this approach can be problematic. Instead, we can account for this problem by choosing our metric accordingly. With imbalanced classes accuracy would be a bad choice, but if we go for the F1 score instead, we should be able to obtain a good model."
   ]
  },
  {
   "cell_type": "code",
   "execution_count": null,
   "metadata": {},
   "outputs": [],
   "source": [
    "# Reduce data to what we need for our machine learning algorithm\n",
    "cols_keep = ['userId', 'sessions_num','dist_num_artists', 'usage_length', 'avg_session_lgth', 'song_avg_session','gender',\n",
    "             'state']\n",
    "model_data = user_log.select(*cols_keep).dropDuplicates()\n",
    "\n",
    "# Perform Tain, Validation, Test Split"
   ]
  },
  {
   "cell_type": "markdown",
   "metadata": {},
   "source": [
    "# Final Steps\n",
    "Clean up your code, adding comments and renaming variables to make the code easier to read and maintain. Refer to the Spark Project Overview page and Data Scientist Capstone Project Rubric to make sure you are including all components of the capstone project and meet all expectations. Remember, this includes thorough documentation in a README file in a Github repository, as well as a web app or blog post."
   ]
  },
  {
   "cell_type": "code",
   "execution_count": null,
   "metadata": {},
   "outputs": [],
   "source": []
  }
 ],
 "metadata": {
  "kernelspec": {
   "display_name": "Python 3",
   "language": "python",
   "name": "python3"
  },
  "language_info": {
   "codemirror_mode": {
    "name": "ipython",
    "version": 3
   },
   "file_extension": ".py",
   "mimetype": "text/x-python",
   "name": "python",
   "nbconvert_exporter": "python",
   "pygments_lexer": "ipython3",
   "version": "3.6.7"
  }
 },
 "nbformat": 4,
 "nbformat_minor": 2
}
